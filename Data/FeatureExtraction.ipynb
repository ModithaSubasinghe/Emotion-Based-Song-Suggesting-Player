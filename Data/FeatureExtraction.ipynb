{
 "cells": [
  {
   "cell_type": "code",
   "execution_count": 13,
   "metadata": {},
   "outputs": [],
   "source": [
    "import numpy as np\n",
    "import librosa\n",
    "import os\n",
    "from PIL import Image\n",
    "import pathlib\n",
    "import csv\n",
    "from pydub import AudioSegment\n",
    "import filetype\n",
    "import subprocess"
   ]
  },
  {
   "cell_type": "code",
   "execution_count": 14,
   "metadata": {
    "pycharm": {
     "is_executing": true
    }
   },
   "outputs": [],
   "source": [
    "def extractFeactures():\n",
    "    header = 'chroma_stft spectral_centroid spectral_bandwidth rolloff zero_crossing_rate'\n",
    "    for i in range(1, 21):\n",
    "        header += f' mfcc{i}'\n",
    "    header += ' label'\n",
    "    header = header.split()\n",
    "\n",
    "    file = open('data_set.csv', 'w', newline='')\n",
    "    with file:\n",
    "        writer = csv.writer(file)\n",
    "        writer.writerow(header)\n",
    "    emotion = 'happy sad calm'.split()\n",
    "    for g in emotion:\n",
    "        for filename in os.listdir(f'E:\\\\Wav/{g}'):\n",
    "            songname = f'E:\\\\Wav/{g}/{filename}'\n",
    "            y, sr = librosa.load(songname, mono=True, duration=30)\n",
    "            chroma_stft = librosa.feature.chroma_stft(y=y, sr=sr)\n",
    "            spec_cent = librosa.feature.spectral_centroid(y=y, sr=sr)\n",
    "            spec_bw = librosa.feature.spectral_bandwidth(y=y, sr=sr)\n",
    "            rolloff = librosa.feature.spectral_rolloff(y=y, sr=sr)\n",
    "            zcr = librosa.feature.zero_crossing_rate(y)\n",
    "            mfcc = librosa.feature.mfcc(y=y, sr=sr)\n",
    "            to_append = f'{np.mean(chroma_stft)} {np.mean(spec_cent)} {np.mean(spec_bw)} {np.mean(rolloff)} {np.mean(zcr)}'    \n",
    "            for e in mfcc:\n",
    "                to_append += f' {np.mean(e)}'\n",
    "            to_append += f' {g}'\n",
    "            file = open('Data_set.csv', 'a', newline='')\n",
    "            with file:\n",
    "                writer = csv.writer(file)\n",
    "                writer.writerow(to_append.split())\n",
    "                \n",
    "extractFeactures()"
   ]
  },
  {
   "cell_type": "code",
   "execution_count": 8,
   "metadata": {
    "pycharm": {
     "is_executing": true
    }
   },
   "outputs": [],
   "source": [
    "# def extractFeactures():\n",
    "#     header = 'chroma_stft spectral_centroid spectral_bandwidth rolloff zero_crossing_rate'\n",
    "#     for i in range(1, 21):\n",
    "#         header += f' mfcc{i}'\n",
    "#     header += ' label'\n",
    "#     header = header.split()\n",
    "\n",
    "#     file = open('data_set.csv', 'w', newline='')\n",
    "#     with file:\n",
    "#         writer = csv.writer(file)\n",
    "#         writer.writerow(header)\n",
    "#     emotion = 'happy sad calm'.split()\n",
    "#     for g in emotion:\n",
    "#         for filename in os.listdir(f'E:\\\\Songs/{g}'):\n",
    "#             songname = f'E:\\\\songs/{g}/{filename}'\n",
    "#             kind = filetype.guess(songname)\n",
    "#             if kind.extension == \"mp3\":\n",
    "#                 sound = AudioSegment.from_mp3(songname)\n",
    "#                 dd=os.path.splitext(songname)[0]\n",
    "#                 l=dd+\".wav\"\n",
    "#                 ss= sound.export(l, format=\"wav\")\n",
    "#                 y, sr = librosa.load(ss, mono=True, duration=30)\n",
    "#             else:\n",
    "#                 y, sr = librosa.load(songname, mono=True, duration=30)\n",
    "#             chroma_stft = librosa.feature.chroma_stft(y=y, sr=sr)\n",
    "#             spec_cent = librosa.feature.spectral_centroid(y=y, sr=sr)\n",
    "#             spec_bw = librosa.feature.spectral_bandwidth(y=y, sr=sr)\n",
    "#             rolloff = librosa.feature.spectral_rolloff(y=y, sr=sr)\n",
    "#             zcr = librosa.feature.zero_crossing_rate(y)\n",
    "#             mfcc = librosa.feature.mfcc(y=y, sr=sr)\n",
    "#             to_append = f'{np.mean(chroma_stft)} {np.mean(spec_cent)} {np.mean(spec_bw)} {np.mean(rolloff)} {np.mean(zcr)}'    \n",
    "#             for e in mfcc:\n",
    "#                 to_append += f' {np.mean(e)}'\n",
    "#             to_append += f' {g}'\n",
    "#             file = open('Data_set.csv', 'a', newline='')\n",
    "#             with file:\n",
    "#                 writer = csv.writer(file)\n",
    "#                 writer.writerow(to_append.split())\n",
    "                \n",
    "# extractFeactures()\n"
   ]
  },
  {
   "cell_type": "code",
   "execution_count": 9,
   "metadata": {
    "pycharm": {
     "is_executing": true
    }
   },
   "outputs": [],
   "source": [
    "# import filetype\n",
    "\n",
    "# kind = filetype.guess(\"E:/Akon - I'm So Paid ft. Lil Wayne, Young Jeezy.mp3\")\n",
    "# if kind is None:\n",
    "#     print('Cannot guess file type!')\n",
    "# else:\n",
    "#     print('File extension: %s' % kind.extension)\n",
    "#     print('File MIME type: %s' % kind.mime)"
   ]
  },
  {
   "cell_type": "code",
   "execution_count": 10,
   "metadata": {
    "pycharm": {
     "is_executing": true
    }
   },
   "outputs": [],
   "source": [
    "# sound = AudioSegment.from_mp3(\"E:/Akon - I'm So Paid ft. Lil Wayne, Young Jeezy.mp3\")\n",
    "# ss= sound.export(\"E:/Wave Songs/aa.wav\", format=\"wav\")"
   ]
  },
  {
   "cell_type": "code",
   "execution_count": 11,
   "metadata": {
    "pycharm": {
     "is_executing": true
    }
   },
   "outputs": [],
   "source": [
    "# base=os.path.basename(\"E:/Akon - I'm So Paid ft. Lil Wayne, Young Jeezy.mp3\")\n",
    "# base\n",
    "# os.path.splitext(base)\n",
    "# dd=os.path.splitext(base)[0]\n",
    "# dd+\".wav\""
   ]
  },
  {
   "cell_type": "code",
   "execution_count": 12,
   "metadata": {},
   "outputs": [],
   "source": [
    "# file = open('data_set.csv', 'w', newline='')\n",
    "# with file:\n",
    "#     writer = csv.writer(file)\n",
    "#     writer.writerow(\"kk\")\n",
    "\n",
    "# emotion = 'happy sad calm'.split()\n",
    "# for g in emotion:\n",
    "#     for filename in os.listdir(f'E:\\\\Songs/{g}'):\n",
    "#         songname = f'E:\\\\songs/{g}/{filename}'\n",
    "#         kind = filetype.guess(songname)\n",
    "#         if kind.extension == \"mp3\":\n",
    "#             sound = AudioSegment.from_mp3(songname)\n",
    "#             dd=os.path.splitext(songname)[0]\n",
    "#             l=dd+\".wav\"\n",
    "#             print(l)\n",
    "# #                 ss= sound.export(l, format=\"wav\")\n",
    "#         else:\n",
    "#             print(\"hhhhhhhhhhh\")"
   ]
  },
  {
   "cell_type": "code",
   "execution_count": null,
   "metadata": {},
   "outputs": [],
   "source": []
  }
 ],
 "metadata": {
  "kernelspec": {
   "display_name": "Python 3 (ipykernel)",
   "language": "python",
   "name": "python3"
  },
  "language_info": {
   "codemirror_mode": {
    "name": "ipython",
    "version": 3
   },
   "file_extension": ".py",
   "mimetype": "text/x-python",
   "name": "python",
   "nbconvert_exporter": "python",
   "pygments_lexer": "ipython3",
   "version": "3.9.6"
  }
 },
 "nbformat": 4,
 "nbformat_minor": 1
}