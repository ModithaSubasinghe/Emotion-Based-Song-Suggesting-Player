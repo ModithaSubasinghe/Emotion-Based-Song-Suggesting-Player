{
 "cells": [
  {
   "cell_type": "code",
   "execution_count": null,
   "metadata": {},
   "outputs": [],
   "source": [
    "import numpy as np\n",
    "import cv2"
   ]
  },
  {
   "cell_type": "code",
   "execution_count": null,
   "metadata": {},
   "outputs": [],
   "source": [
    "def getImage():\n",
    "        cap = cv2.VideoCapture(0)\n",
    "        count = 0\n",
    "\n",
    "        while True:\n",
    "            # Capture frame-by-frame\n",
    "            ret, img = cap.read()\n",
    "            cv2.imshow(\"Test\",img)\n",
    "            \n",
    "            if not ret:\n",
    "                break\n",
    "\n",
    "            cv2.imwrite('images/frame.jpg',img)\n",
    "            count+=1\n",
    "            \n",
    "            if cv2.waitKey(1) & 0xFF == ord('q'):\n",
    "                break\n",
    "            \n",
    "            # When everything done, release the capture\n",
    "        cap.release\n",
    "        cv2.destroyAllWindows"
   ]
  },
  {
   "cell_type": "code",
   "execution_count": null,
   "metadata": {},
   "outputs": [],
   "source": [
    "getImage()"
   ]
  },
  {
   "cell_type": "code",
   "execution_count": null,
   "metadata": {},
   "outputs": [],
   "source": [
    "cam = cv2.VideoCapture(0)\n"
   ]
  },
  {
   "cell_type": "code",
   "execution_count": null,
   "metadata": {},
   "outputs": [],
   "source": [
    "\n",
    "# initialize the camera\n",
    "cam = cv2.VideoCapture(0)   # 0 -> index of camera\n",
    "s, img = cam.read()\n",
    "if s:    # frame captured without any errors\n",
    "    cv2.namedWindow(\"cam-test\",CV_WINDOW_AUTOSIZE)\n",
    "    cv2.imshow(\"cam-test\",img)\n",
    "    waitKey(0)\n",
    "    destroyWindow(\"cam-test\")\n",
    "    imwrite(\"filename.jpg\",img) #save image"
   ]
  },
  {
   "cell_type": "code",
   "execution_count": 1,
   "metadata": {},
   "outputs": [],
   "source": [
    "import cv2"
   ]
  },
  {
   "cell_type": "code",
   "execution_count": 2,
   "metadata": {},
   "outputs": [
    {
     "name": "stdout",
     "output_type": "stream",
     "text": [
      "Image 0saved\n",
      "close\n"
     ]
    },
    {
     "data": {
      "text/plain": [
       "<function destroyAllWindows>"
      ]
     },
     "execution_count": 2,
     "metadata": {},
     "output_type": "execute_result"
    }
   ],
   "source": [
    "cam=cv2.VideoCapture(0)\n",
    "count = 0\n",
    "while True:\n",
    "    ret,img =cam.read()\n",
    "    cv2.imshow(\"Test\",img)\n",
    "    if not ret:\n",
    "        break\n",
    "    k=cv2.waitKey(1)\n",
    "                                               \n",
    "    if k%256==27:\n",
    "        print(\"close\")\n",
    "        cv2.destroyAllWindows\n",
    "        \n",
    "    if k%256==32:\n",
    "        print(\"Image \"+str(count)+\"saved\")\n",
    "        file='Images/img'+str(count)+'.jpg'\n",
    "        cv2.imwrite(file, img)\n",
    "        count +=1\n",
    "        \n",
    "cam.release\n"
   ]
  },
  {
   "cell_type": "code",
   "execution_count": null,
   "metadata": {},
   "outputs": [],
   "source": []
  }
 ],
 "metadata": {
  "kernelspec": {
   "display_name": "Python 3 (ipykernel)",
   "language": "python",
   "name": "python3"
  },
  "language_info": {
   "codemirror_mode": {
    "name": "ipython",
    "version": 3
   },
   "file_extension": ".py",
   "mimetype": "text/x-python",
   "name": "python",
   "nbconvert_exporter": "python",
   "pygments_lexer": "ipython3",
   "version": "3.9.6"
  }
 },
 "nbformat": 4,
 "nbformat_minor": 1
}
