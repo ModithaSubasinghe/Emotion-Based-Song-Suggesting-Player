{
 "cells": [
  {
   "cell_type": "code",
   "execution_count": 13,
   "metadata": {},
   "outputs": [],
   "source": [
    "import os\n",
    "import librosa\n",
    "import pandas as pd\n",
    "import numpy as np\n",
    "import csv\n",
    "import keras\n",
    "import tkinter as tk\n",
    "from tkinter import *\n",
    "from mutagen.mp3 import MP3\n",
    "from pygame import mixer\n",
    "from pydub import AudioSegment\n",
    "\n",
    "import warnings\n",
    "warnings.filterwarnings('ignore')\n",
    "from keras.models import load_model\n",
    "import joblib\n",
    "from sklearn.model_selection import train_test_split\n",
    "from sklearn.preprocessing import LabelEncoder, StandardScaler"
   ]
  },
  {
   "cell_type": "code",
   "execution_count": 14,
   "metadata": {},
   "outputs": [
    {
     "name": "stdout",
     "output_type": "stream",
     "text": [
      "E:/mp3/Lewis Capaldi - Someone You Loved (Mp3 + Lyrics).mp3\n",
      "Lewis Capaldi - Someone You Loved (Mp3 + Lyrics).mp3\n",
      "Lewis Capaldi - Someone You Loved (Mp3 + Lyrics)\n",
      "0.22539016604423523 1121.4820891095994 1362.8318388046512 1996.229595739406 0.054935419891640865\n",
      "   chroma_stft  spectral_centroid  spectral_bandwidth      rolloff  \\\n",
      "0      0.22539        1121.482089         1362.831839  1996.229596   \n",
      "\n",
      "   zero_crossing_rate       mfcc1       mfcc2      mfcc3      mfcc4    mfcc5  \\\n",
      "0            0.054935 -253.589691  149.077972  30.465044  14.435976  4.00155   \n",
      "\n",
      "   ...    mfcc11    mfcc12    mfcc13    mfcc14    mfcc15   mfcc16    mfcc17  \\\n",
      "0  ... -5.661661 -7.093256 -2.426906 -0.905724 -0.951321 -1.18342 -6.258499   \n",
      "\n",
      "     mfcc18    mfcc19    mfcc20  \n",
      "0 -3.861773 -3.314568 -3.495067  \n",
      "\n",
      "[1 rows x 25 columns]\n",
      "[[-1.19110951 -1.02893342 -1.27434017 -1.12899972 -0.62955515 -0.14135335\n",
      "   1.17988239  1.10396266 -0.32235691 -0.10556834 -0.06651275 -1.03618158\n",
      "   0.87950759 -0.33326606 -0.8985735   0.25281982 -0.90246845  0.79629189\n",
      "   0.28220013  1.02207801  0.25866205 -0.06356878 -0.50392158  0.3528596\n",
      "  -0.4519212 ]]\n",
      "[[5.3175335e-04 2.1989669e-03 9.9726921e-01]]\n",
      "Sad\n"
     ]
    },
    {
     "data": {
      "text/plain": [
       "'sad'"
      ]
     },
     "execution_count": 14,
     "metadata": {},
     "output_type": "execute_result"
    }
   ],
   "source": [
    "def detectEmotion(path):\n",
    "    songname = f'{path}'\n",
    "    print (songname)\n",
    "    base=os.path.basename(path)\n",
    "    print (base)\n",
    "    name=os.path.splitext(base)[0]\n",
    "    print (name)\n",
    "    header = 'chroma_stft spectral_centroid spectral_bandwidth rolloff zero_crossing_rate'\n",
    "    for i in range(1, 21):\n",
    "         header += f' mfcc{i}'\n",
    "\n",
    "    header = header.split()\n",
    "\n",
    "    file = open('song_data.csv', 'w', newline='')\n",
    "    with file:\n",
    "        writer = csv.writer(file)\n",
    "        writer.writerow(header)\n",
    "        \n",
    "    #feature extraction using Librosa library\n",
    "    y, sr = librosa.load(songname, mono=True, duration=30)\n",
    "    chroma_stft = librosa.feature.chroma_stft(y=y, sr=sr)\n",
    "    spec_cent = librosa.feature.spectral_centroid(y=y, sr=sr)\n",
    "    spec_bw = librosa.feature.spectral_bandwidth(y=y, sr=sr)\n",
    "    rolloff = librosa.feature.spectral_rolloff(y=y, sr=sr)\n",
    "    zcr = librosa.feature.zero_crossing_rate(y)\n",
    "    mfcc = librosa.feature.mfcc(y=y, sr=sr)\n",
    "    to_append = f'{np.mean(chroma_stft)} {np.mean(spec_cent)} {np.mean(spec_bw)} {np.mean(rolloff)} {np.mean(zcr)}' \n",
    "    print(to_append)\n",
    "    for e in mfcc:\n",
    "        to_append += f' {np.mean(e)}'\n",
    "    file = open('song_data.csv', 'a', newline='')\n",
    "    with file:\n",
    "        writer = csv.writer(file)\n",
    "        writer.writerow(to_append.split())\n",
    "\n",
    "    model = load_model('my_model.h5')\n",
    "    data_from_csv = pd.read_csv(\"song_data.csv\")\n",
    "    data = data_from_csv\n",
    "    print (data)\n",
    "    data.shape\n",
    "    scaler = joblib.load(\"scaler.save\") \n",
    "    X = scaler.transform(np.array(data.iloc[:,:], dtype = float))\n",
    "    print(X)\n",
    "    ynew = model.predict(np.array(X))\n",
    "    \n",
    "    #ynew = model.predict(np.array(data))\n",
    "    print (ynew)\n",
    "    if np.argmax(ynew)==0:\n",
    "        print (\"Calm\")\n",
    "        return \"calm\"\n",
    "    elif np.argmax(ynew)==1:\n",
    "        print (\"Happy\")\n",
    "        return \"happy\"\n",
    "    elif np.argmax(ynew)==2:\n",
    "        print (\"Sad\")\n",
    "        return \"sad\"\n",
    "\n",
    "\n",
    "detectEmotion(\"E:/mp3/Lewis Capaldi - Someone You Loved (Mp3 + Lyrics).mp3\")"
   ]
  },
  {
   "cell_type": "code",
   "execution_count": null,
   "metadata": {},
   "outputs": [],
   "source": []
  }
 ],
 "metadata": {
  "kernelspec": {
   "display_name": "Python 3 (ipykernel)",
   "language": "python",
   "name": "python3"
  },
  "language_info": {
   "codemirror_mode": {
    "name": "ipython",
    "version": 3
   },
   "file_extension": ".py",
   "mimetype": "text/x-python",
   "name": "python",
   "nbconvert_exporter": "python",
   "pygments_lexer": "ipython3",
   "version": "3.9.6"
  }
 },
 "nbformat": 4,
 "nbformat_minor": 1
}