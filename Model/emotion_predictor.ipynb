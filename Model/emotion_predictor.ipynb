{
 "cells": [
  {
   "cell_type": "code",
   "execution_count": 29,
   "metadata": {
    "pycharm": {
     "is_executing": true
    }
   },
   "outputs": [],
   "source": [
    "import os\n",
    "import librosa\n",
    "import pandas as pd\n",
    "import numpy as np\n",
    "import csv\n",
    "import keras\n",
    "import tkinter as tk\n",
    "from tkinter import *\n",
    "from mutagen.mp3 import MP3\n",
    "from pygame import mixer\n",
    "from pydub import AudioSegment\n",
    "\n",
    "import warnings\n",
    "warnings.filterwarnings('ignore')\n",
    "from keras.models import load_model\n",
    "import joblib\n",
    "from sklearn.model_selection import train_test_split\n",
    "from sklearn.preprocessing import LabelEncoder, StandardScaler"
   ]
  },
  {
   "cell_type": "code",
   "execution_count": 34,
   "metadata": {},
   "outputs": [
    {
     "name": "stdout",
     "output_type": "stream",
     "text": [
      "E:/mp3/SLANDER - Love Is Gone ft. Dylan Matthew (Acoustic) - Lyrics.mp3\n",
      "SLANDER - Love Is Gone ft. Dylan Matthew (Acoustic) - Lyrics.mp3\n",
      "SLANDER - Love Is Gone ft. Dylan Matthew (Acoustic) - Lyrics\n",
      "0.24715054035186768 1168.3372893646433 1343.8130849903005 1933.0966441623937 0.07452978364454334\n",
      "[[-0.92157222 -0.94688686 -1.31007018 -1.17290409 -0.02525416 -0.34057913\n",
      "   1.51182241  0.32350962 -2.51430024  0.48521616  1.1129692   0.27049657\n",
      "   0.29130457 -0.63448346  0.21416597  1.26218321  0.4481586  -0.2759423\n",
      "  -0.18909878  0.97412459  1.05383254  0.19976235  0.70140228  0.30125076\n",
      "   0.56578531]]\n",
      "[[0.04859083 0.0023382  0.949071  ]]\n",
      "Sad\n"
     ]
    },
    {
     "data": {
      "text/plain": [
       "'sad'"
      ]
     },
     "execution_count": 34,
     "metadata": {},
     "output_type": "execute_result"
    }
   ],
   "source": [
    "def detectEmotion(path):\n",
    "    songname = f'{path}'\n",
    "    print (songname)\n",
    "    base=os.path.basename(path)\n",
    "    print (base)\n",
    "    name=os.path.splitext(base)[0]\n",
    "    print (name)\n",
    "    header = 'chroma_stft spectral_centroid spectral_bandwidth rolloff zero_crossing_rate'\n",
    "    for i in range(1, 21):\n",
    "         header += f' mfcc{i}'\n",
    "\n",
    "    header = header.split()\n",
    "\n",
    "    file = open('song_data.csv', 'w', newline='')\n",
    "    with file:\n",
    "        writer = csv.writer(file)\n",
    "        writer.writerow(header)\n",
    "        \n",
    "    #feature extraction using Librosa library\n",
    "    y, sr = librosa.load(songname, mono=True, duration=30)\n",
    "    chroma_stft = librosa.feature.chroma_stft(y=y, sr=sr)\n",
    "    spec_cent = librosa.feature.spectral_centroid(y=y, sr=sr)\n",
    "    spec_bw = librosa.feature.spectral_bandwidth(y=y, sr=sr)\n",
    "    rolloff = librosa.feature.spectral_rolloff(y=y, sr=sr)\n",
    "    zcr = librosa.feature.zero_crossing_rate(y)\n",
    "    mfcc = librosa.feature.mfcc(y=y, sr=sr)\n",
    "    to_append = f'{np.mean(chroma_stft)} {np.mean(spec_cent)} {np.mean(spec_bw)} {np.mean(rolloff)} {np.mean(zcr)}' \n",
    "    print(to_append)\n",
    "    for e in mfcc:\n",
    "        to_append += f' {np.mean(e)}'\n",
    "    file = open('song_data.csv', 'a', newline='')\n",
    "    with file:\n",
    "        writer = csv.writer(file)\n",
    "        writer.writerow(to_append.split())\n",
    "\n",
    "    model = load_model('my_model2.h5')\n",
    "    data_from_csv = pd.read_csv(\"song_data.csv\")\n",
    "    data = data_from_csv\n",
    "#     print (data)\n",
    "    data.shape\n",
    "    scaler = joblib.load(\"scaler2.save\") \n",
    "    X = scaler.transform(np.array(data.iloc[:,:], dtype = float))\n",
    "    print(X)\n",
    "    ynew = model.predict(np.array(X))\n",
    "    \n",
    "    #ynew = model.predict(np.array(data))\n",
    "    print (ynew)\n",
    "    if np.argmax(ynew)==0:\n",
    "        print (\"Calm\")\n",
    "        return \"calm\"\n",
    "    elif np.argmax(ynew)==1:\n",
    "        print (\"Happy\")\n",
    "        return \"happy\"\n",
    "    elif np.argmax(ynew)==2:\n",
    "        print (\"Sad\")\n",
    "        return \"sad\"\n",
    "\n",
    "\n",
    "detectEmotion(\"E:/mp3/SLANDER - Love Is Gone ft. Dylan Matthew (Acoustic) - Lyrics.mp3\")"
   ]
  },
  {
   "cell_type": "code",
   "execution_count": null,
   "metadata": {},
   "outputs": [],
   "source": []
  }
 ],
 "metadata": {
  "kernelspec": {
   "display_name": "Python 3 (ipykernel)",
   "language": "python",
   "name": "python3"
  },
  "language_info": {
   "codemirror_mode": {
    "name": "ipython",
    "version": 3
   },
   "file_extension": ".py",
   "mimetype": "text/x-python",
   "name": "python",
   "nbconvert_exporter": "python",
   "pygments_lexer": "ipython3",
   "version": "3.9.6"
  }
 },
 "nbformat": 4,
 "nbformat_minor": 1
}