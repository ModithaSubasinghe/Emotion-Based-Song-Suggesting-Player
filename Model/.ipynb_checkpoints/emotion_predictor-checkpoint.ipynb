{
 "cells": [
  {
   "cell_type": "code",
   "execution_count": 1,
   "metadata": {},
   "outputs": [
    {
     "name": "stdout",
     "output_type": "stream",
     "text": [
      "pygame 2.0.1 (SDL 2.0.14, Python 3.9.6)\n",
      "Hello from the pygame community. https://www.pygame.org/contribute.html\n"
     ]
    }
   ],
   "source": [
    "import os\n",
    "import librosa\n",
    "import pandas as pd\n",
    "import numpy as np\n",
    "import csv\n",
    "import keras\n",
    "import tkinter as tk\n",
    "from tkinter import *\n",
    "from mutagen.mp3 import MP3\n",
    "from pygame import mixer\n",
    "from pydub import AudioSegment\n",
    "\n",
    "import warnings\n",
    "warnings.filterwarnings('ignore')\n",
    "from keras.models import load_model\n",
    "import joblib\n",
    "from sklearn.model_selection import train_test_split\n",
    "from sklearn.preprocessing import LabelEncoder, StandardScaler"
   ]
  },
  {
   "cell_type": "code",
   "execution_count": 14,
   "metadata": {},
   "outputs": [
    {
     "name": "stdout",
     "output_type": "stream",
     "text": [
      "E:/Aisha Badru - Bridges (Official Video).wav\n",
      "Aisha Badru - Bridges (Official Video).wav\n",
      "Aisha Badru - Bridges (Official Video)\n"
     ]
    },
    {
     "ename": "NameError",
     "evalue": "name 'rmse' is not defined",
     "output_type": "error",
     "traceback": [
      "\u001b[1;31m---------------------------------------------------------------------------\u001b[0m",
      "\u001b[1;31mNameError\u001b[0m                                 Traceback (most recent call last)",
      "\u001b[1;32m~\\AppData\\Local\\Temp/ipykernel_2036/1706189409.py\u001b[0m in \u001b[0;36m<module>\u001b[1;34m\u001b[0m\n\u001b[0;32m     56\u001b[0m \u001b[1;31m#return np.argmax(ynew)\u001b[0m\u001b[1;33m\u001b[0m\u001b[1;33m\u001b[0m\u001b[1;33m\u001b[0m\u001b[0m\n\u001b[0;32m     57\u001b[0m \u001b[1;33m\u001b[0m\u001b[0m\n\u001b[1;32m---> 58\u001b[1;33m \u001b[0mdetectEmotion\u001b[0m\u001b[1;33m(\u001b[0m\u001b[1;34m\"E:/Aisha Badru - Bridges (Official Video).wav\"\u001b[0m\u001b[1;33m)\u001b[0m\u001b[1;33m\u001b[0m\u001b[1;33m\u001b[0m\u001b[0m\n\u001b[0m",
      "\u001b[1;32m~\\AppData\\Local\\Temp/ipykernel_2036/1706189409.py\u001b[0m in \u001b[0;36mdetectEmotion\u001b[1;34m(path)\u001b[0m\n\u001b[0;32m     25\u001b[0m     \u001b[0mzcr\u001b[0m \u001b[1;33m=\u001b[0m \u001b[0mlibrosa\u001b[0m\u001b[1;33m.\u001b[0m\u001b[0mfeature\u001b[0m\u001b[1;33m.\u001b[0m\u001b[0mzero_crossing_rate\u001b[0m\u001b[1;33m(\u001b[0m\u001b[0my\u001b[0m\u001b[1;33m)\u001b[0m\u001b[1;33m\u001b[0m\u001b[1;33m\u001b[0m\u001b[0m\n\u001b[0;32m     26\u001b[0m     \u001b[0mmfcc\u001b[0m \u001b[1;33m=\u001b[0m \u001b[0mlibrosa\u001b[0m\u001b[1;33m.\u001b[0m\u001b[0mfeature\u001b[0m\u001b[1;33m.\u001b[0m\u001b[0mmfcc\u001b[0m\u001b[1;33m(\u001b[0m\u001b[0my\u001b[0m\u001b[1;33m=\u001b[0m\u001b[0my\u001b[0m\u001b[1;33m,\u001b[0m \u001b[0msr\u001b[0m\u001b[1;33m=\u001b[0m\u001b[0msr\u001b[0m\u001b[1;33m)\u001b[0m\u001b[1;33m\u001b[0m\u001b[1;33m\u001b[0m\u001b[0m\n\u001b[1;32m---> 27\u001b[1;33m     \u001b[0mto_append\u001b[0m \u001b[1;33m=\u001b[0m \u001b[1;34mf'{np.mean(chroma_stft)} {np.mean(rmse)} {np.mean(spec_cent)} {np.mean(spec_bw)} {np.mean(rolloff)} {np.mean(zcr)}'\u001b[0m\u001b[1;33m\u001b[0m\u001b[1;33m\u001b[0m\u001b[0m\n\u001b[0m\u001b[0;32m     28\u001b[0m     \u001b[0mprint\u001b[0m\u001b[1;33m(\u001b[0m\u001b[0mto_append\u001b[0m\u001b[1;33m)\u001b[0m\u001b[1;33m\u001b[0m\u001b[1;33m\u001b[0m\u001b[0m\n\u001b[0;32m     29\u001b[0m     \u001b[1;32mfor\u001b[0m \u001b[0me\u001b[0m \u001b[1;32min\u001b[0m \u001b[0mmfcc\u001b[0m\u001b[1;33m:\u001b[0m\u001b[1;33m\u001b[0m\u001b[1;33m\u001b[0m\u001b[0m\n",
      "\u001b[1;31mNameError\u001b[0m: name 'rmse' is not defined"
     ]
    }
   ],
   "source": [
    "def detectEmotion(path):\n",
    "    songname = f'{path}'\n",
    "    print (songname)\n",
    "    base=os.path.basename(path)\n",
    "    print (base)\n",
    "    name=os.path.splitext(base)[0]\n",
    "    print (name)\n",
    "    header = 'chroma_stft spectral_centroid spectral_bandwidth rolloff zero_crossing_rate'\n",
    "    for i in range(1, 21):\n",
    "         header += f' mfcc{i}'\n",
    "\n",
    "    header = header.split()\n",
    "\n",
    "    file = open('song_data.csv', 'w', newline='')\n",
    "    with file:\n",
    "        writer = csv.writer(file)\n",
    "        writer.writerow(header)\n",
    "        \n",
    "    #feature extraction using Librosa library\n",
    "    y, sr = librosa.load(songname, mono=True, duration=30)\n",
    "    chroma_stft = librosa.feature.chroma_stft(y=y, sr=sr)\n",
    "    spec_cent = librosa.feature.spectral_centroid(y=y, sr=sr)\n",
    "    spec_bw = librosa.feature.spectral_bandwidth(y=y, sr=sr)\n",
    "    rolloff = librosa.feature.spectral_rolloff(y=y, sr=sr)\n",
    "    zcr = librosa.feature.zero_crossing_rate(y)\n",
    "    mfcc = librosa.feature.mfcc(y=y, sr=sr)\n",
    "    to_append = f'{np.mean(chroma_stft)} {np.mean(spec_cent)} {np.mean(spec_bw)} {np.mean(rolloff)} {np.mean(zcr)}' \n",
    "    print(to_append)\n",
    "    for e in mfcc:\n",
    "        to_append += f' {np.mean(e)}'\n",
    "    file = open('song_data.csv', 'a', newline='')\n",
    "    with file:\n",
    "        writer = csv.writer(file)\n",
    "        writer.writerow(to_append.split())\n",
    "\n",
    "    model = load_model('my_model.h5')\n",
    "    data_from_csv = pd.read_csv(\"song_data.csv\")\n",
    "    data = data_from_csv\n",
    "    print (data)\n",
    "    data.shape\n",
    "    scaler = joblib.load(\"scaler.save\") \n",
    "    X = scaler.transform(np.array(data.iloc[:,:], dtype = float))\n",
    "    print(X)\n",
    "    ynew = model.predict(np.array(X))\n",
    "    #ynew = model.predict(np.array(data))\n",
    "    print (ynew)\n",
    "    if np.argmax(ynew)==0:\n",
    "        print (\"Calm\")\n",
    "        return \"calm\"\n",
    "    elif np.argmax(ynew)==1:\n",
    "        print (\"Happy\")\n",
    "        return \"happy\"\n",
    "    elif np.argmax(ynew)==2:\n",
    "        print (\"Sad\")\n",
    "        return \"sad\"\n",
    "#return np.argmax(ynew)\n",
    "\n",
    "detectEmotion(\"E:/Aisha Badru - Bridges (Official Video).wav\")"
   ]
  },
  {
   "cell_type": "code",
   "execution_count": 4,
   "metadata": {},
   "outputs": [
    {
     "ename": "SyntaxError",
     "evalue": "invalid syntax (windows.py, line 27)",
     "output_type": "error",
     "traceback": [
      "Traceback \u001b[1;36m(most recent call last)\u001b[0m:\n",
      "  File \u001b[0;32m\"C:\\Users\\Moditha\\AppData\\Local\\Programs\\Python\\Python39\\lib\\site-packages\\IPython\\core\\interactiveshell.py\"\u001b[0m, line \u001b[0;32m3441\u001b[0m, in \u001b[0;35mrun_code\u001b[0m\n    exec(code_obj, self.user_global_ns, self.user_ns)\n",
      "  File \u001b[0;32m\"C:\\Users\\Moditha\\AppData\\Local\\Temp/ipykernel_2036/503397940.py\"\u001b[0m, line \u001b[0;32m1\u001b[0m, in \u001b[0;35m<module>\u001b[0m\n    import mp3play\n",
      "\u001b[1;36m  File \u001b[1;32m\"C:\\Users\\Moditha\\AppData\\Local\\Programs\\Python\\Python39\\lib\\site-packages\\mp3play\\__init__.py\"\u001b[1;36m, line \u001b[1;32m4\u001b[1;36m, in \u001b[1;35m<module>\u001b[1;36m\u001b[0m\n\u001b[1;33m    from .windows import AudioClip as _PlatformSpecificAudioClip\u001b[0m\n",
      "\u001b[1;36m  File \u001b[1;32m\"C:\\Users\\Moditha\\AppData\\Local\\Programs\\Python\\Python39\\lib\\site-packages\\mp3play\\windows.py\"\u001b[1;36m, line \u001b[1;32m27\u001b[0m\n\u001b[1;33m    print 'Error %s for \"%s\": %s' % (str(err), txt, buf)\u001b[0m\n\u001b[1;37m          ^\u001b[0m\n\u001b[1;31mSyntaxError\u001b[0m\u001b[1;31m:\u001b[0m invalid syntax\n"
     ]
    }
   ],
   "source": [
    "import mp3play"
   ]
  },
  {
   "cell_type": "code",
   "execution_count": null,
   "metadata": {},
   "outputs": [],
   "source": [
    "# data= r'pathname'\n",
    "# clip = mp3play.load(data)\n",
    "# clip.play()\n",
    "# time.sleep(20)\n",
    "# clip.stop()"
   ]
  },
  {
   "cell_type": "code",
   "execution_count": 8,
   "metadata": {},
   "outputs": [
    {
     "ename": "SyntaxError",
     "evalue": "invalid syntax (windows.py, line 27)",
     "output_type": "error",
     "traceback": [
      "Traceback \u001b[1;36m(most recent call last)\u001b[0m:\n",
      "  File \u001b[0;32m\"C:\\Users\\Moditha\\AppData\\Local\\Programs\\Python\\Python39\\lib\\site-packages\\IPython\\core\\interactiveshell.py\"\u001b[0m, line \u001b[0;32m3441\u001b[0m, in \u001b[0;35mrun_code\u001b[0m\n    exec(code_obj, self.user_global_ns, self.user_ns)\n",
      "  File \u001b[0;32m\"C:\\Users\\Moditha\\AppData\\Local\\Temp/ipykernel_2036/3298333815.py\"\u001b[0m, line \u001b[0;32m2\u001b[0m, in \u001b[0;35m<module>\u001b[0m\n    import mp3play\n",
      "\u001b[1;36m  File \u001b[1;32m\"C:\\Users\\Moditha\\AppData\\Local\\Programs\\Python\\Python39\\lib\\site-packages\\mp3play\\__init__.py\"\u001b[1;36m, line \u001b[1;32m4\u001b[1;36m, in \u001b[1;35m<module>\u001b[1;36m\u001b[0m\n\u001b[1;33m    from .windows import AudioClip as _PlatformSpecificAudioClip\u001b[0m\n",
      "\u001b[1;36m  File \u001b[1;32m\"C:\\Users\\Moditha\\AppData\\Local\\Programs\\Python\\Python39\\lib\\site-packages\\mp3play\\windows.py\"\u001b[1;36m, line \u001b[1;32m27\u001b[0m\n\u001b[1;33m    print 'Error %s for \"%s\": %s' % (str(err), txt, buf)\u001b[0m\n\u001b[1;37m          ^\u001b[0m\n\u001b[1;31mSyntaxError\u001b[0m\u001b[1;31m:\u001b[0m invalid syntax\n"
     ]
    }
   ],
   "source": [
    "import os\n",
    "import mp3play\n",
    "data=os.system(\"E:/Akon - I'm So Paid ft. Lil Wayne, Young Jeezy.mp3\")\n",
    "clip = mp3play.load(data)\n",
    "clip.play()\n",
    "time.sleep(20)\n",
    "clip.stop()"
   ]
  },
  {
   "cell_type": "code",
   "execution_count": null,
   "metadata": {},
   "outputs": [],
   "source": []
  }
 ],
 "metadata": {
  "kernelspec": {
   "display_name": "Python 3 (ipykernel)",
   "language": "python",
   "name": "python3"
  },
  "language_info": {
   "codemirror_mode": {
    "name": "ipython",
    "version": 3
   },
   "file_extension": ".py",
   "mimetype": "text/x-python",
   "name": "python",
   "nbconvert_exporter": "python",
   "pygments_lexer": "ipython3",
   "version": "3.9.6"
  }
 },
 "nbformat": 4,
 "nbformat_minor": 1
}
