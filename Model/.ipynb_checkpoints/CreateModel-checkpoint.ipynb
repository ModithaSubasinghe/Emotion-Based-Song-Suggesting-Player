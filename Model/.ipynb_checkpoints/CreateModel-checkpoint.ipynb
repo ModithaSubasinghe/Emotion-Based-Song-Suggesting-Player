{
 "cells": [
  {
   "cell_type": "code",
   "execution_count": 360,
   "metadata": {},
   "outputs": [],
   "source": [
    "import pandas as pd\n",
    "import numpy as np\n",
    "from sklearn.model_selection import train_test_split\n",
    "from sklearn.preprocessing import LabelEncoder, StandardScaler\n",
    "from sklearn.metrics import accuracy_score\n",
    "import matplotlib.pyplot as plt\n",
    "import joblib"
   ]
  },
  {
   "cell_type": "code",
   "execution_count": 361,
   "metadata": {},
   "outputs": [],
   "source": [
    "import tensorflow\n",
    "from keras.models import Sequential\n",
    "from keras.layers import InputLayer,Dense,Flatten\n",
    "import keras.optimizers\n",
    "from imblearn.over_sampling import SMOTE"
   ]
  },
  {
   "cell_type": "code",
   "execution_count": 362,
   "metadata": {},
   "outputs": [
    {
     "data": {
      "text/html": [
       "<div>\n",
       "<style scoped>\n",
       "    .dataframe tbody tr th:only-of-type {\n",
       "        vertical-align: middle;\n",
       "    }\n",
       "\n",
       "    .dataframe tbody tr th {\n",
       "        vertical-align: top;\n",
       "    }\n",
       "\n",
       "    .dataframe thead th {\n",
       "        text-align: right;\n",
       "    }\n",
       "</style>\n",
       "<table border=\"1\" class=\"dataframe\">\n",
       "  <thead>\n",
       "    <tr style=\"text-align: right;\">\n",
       "      <th></th>\n",
       "      <th>chroma_stft</th>\n",
       "      <th>rmse</th>\n",
       "      <th>spectral_centroid</th>\n",
       "      <th>spectral_bandwidth</th>\n",
       "      <th>rolloff</th>\n",
       "      <th>zero_crossing_rate</th>\n",
       "      <th>mfcc1</th>\n",
       "      <th>mfcc2</th>\n",
       "      <th>mfcc3</th>\n",
       "      <th>mfcc4</th>\n",
       "      <th>...</th>\n",
       "      <th>mfcc12</th>\n",
       "      <th>mfcc13</th>\n",
       "      <th>mfcc14</th>\n",
       "      <th>mfcc15</th>\n",
       "      <th>mfcc16</th>\n",
       "      <th>mfcc17</th>\n",
       "      <th>mfcc18</th>\n",
       "      <th>mfcc19</th>\n",
       "      <th>mfcc20</th>\n",
       "      <th>label</th>\n",
       "    </tr>\n",
       "  </thead>\n",
       "  <tbody>\n",
       "    <tr>\n",
       "      <th>0</th>\n",
       "      <td>0.412998</td>\n",
       "      <td>0.155442</td>\n",
       "      <td>1491.688354</td>\n",
       "      <td>2075.824182</td>\n",
       "      <td>3184.355745</td>\n",
       "      <td>0.045976</td>\n",
       "      <td>-218.810582</td>\n",
       "      <td>122.234486</td>\n",
       "      <td>27.920799</td>\n",
       "      <td>23.722941</td>\n",
       "      <td>...</td>\n",
       "      <td>6.255844</td>\n",
       "      <td>-2.542397</td>\n",
       "      <td>-0.917639</td>\n",
       "      <td>-4.774317</td>\n",
       "      <td>1.211038</td>\n",
       "      <td>-0.386343</td>\n",
       "      <td>1.133951</td>\n",
       "      <td>-1.452190</td>\n",
       "      <td>1.454535</td>\n",
       "      <td>happy</td>\n",
       "    </tr>\n",
       "    <tr>\n",
       "      <th>1</th>\n",
       "      <td>0.245947</td>\n",
       "      <td>0.054352</td>\n",
       "      <td>1355.436173</td>\n",
       "      <td>1593.794832</td>\n",
       "      <td>2316.702658</td>\n",
       "      <td>0.079156</td>\n",
       "      <td>-303.857916</td>\n",
       "      <td>135.956505</td>\n",
       "      <td>1.837915</td>\n",
       "      <td>-4.874345</td>\n",
       "      <td>...</td>\n",
       "      <td>0.263212</td>\n",
       "      <td>-5.682631</td>\n",
       "      <td>-5.087810</td>\n",
       "      <td>-4.466399</td>\n",
       "      <td>1.721484</td>\n",
       "      <td>-3.062391</td>\n",
       "      <td>1.726126</td>\n",
       "      <td>-1.344901</td>\n",
       "      <td>1.373775</td>\n",
       "      <td>happy</td>\n",
       "    </tr>\n",
       "    <tr>\n",
       "      <th>2</th>\n",
       "      <td>0.288459</td>\n",
       "      <td>0.104142</td>\n",
       "      <td>2780.992818</td>\n",
       "      <td>2734.300963</td>\n",
       "      <td>5996.347074</td>\n",
       "      <td>0.126230</td>\n",
       "      <td>-161.873294</td>\n",
       "      <td>68.848801</td>\n",
       "      <td>5.828112</td>\n",
       "      <td>11.746237</td>\n",
       "      <td>...</td>\n",
       "      <td>-4.743239</td>\n",
       "      <td>-10.335518</td>\n",
       "      <td>-4.159141</td>\n",
       "      <td>-13.455315</td>\n",
       "      <td>-3.056518</td>\n",
       "      <td>-1.854449</td>\n",
       "      <td>5.620204</td>\n",
       "      <td>5.784562</td>\n",
       "      <td>6.859507</td>\n",
       "      <td>happy</td>\n",
       "    </tr>\n",
       "    <tr>\n",
       "      <th>3</th>\n",
       "      <td>0.416686</td>\n",
       "      <td>0.104299</td>\n",
       "      <td>1956.403155</td>\n",
       "      <td>2367.232773</td>\n",
       "      <td>4151.241565</td>\n",
       "      <td>0.082464</td>\n",
       "      <td>-232.575934</td>\n",
       "      <td>97.964434</td>\n",
       "      <td>50.036333</td>\n",
       "      <td>18.321141</td>\n",
       "      <td>...</td>\n",
       "      <td>3.257361</td>\n",
       "      <td>-3.996707</td>\n",
       "      <td>-0.013201</td>\n",
       "      <td>-4.564516</td>\n",
       "      <td>-0.299851</td>\n",
       "      <td>-4.393319</td>\n",
       "      <td>0.554737</td>\n",
       "      <td>-0.721076</td>\n",
       "      <td>2.880039</td>\n",
       "      <td>happy</td>\n",
       "    </tr>\n",
       "    <tr>\n",
       "      <th>4</th>\n",
       "      <td>0.306054</td>\n",
       "      <td>0.025305</td>\n",
       "      <td>899.636430</td>\n",
       "      <td>1409.779893</td>\n",
       "      <td>1665.939926</td>\n",
       "      <td>0.048648</td>\n",
       "      <td>-422.361991</td>\n",
       "      <td>166.701699</td>\n",
       "      <td>14.188575</td>\n",
       "      <td>34.022760</td>\n",
       "      <td>...</td>\n",
       "      <td>4.226305</td>\n",
       "      <td>-3.073821</td>\n",
       "      <td>-0.164215</td>\n",
       "      <td>-3.138441</td>\n",
       "      <td>-0.325738</td>\n",
       "      <td>-6.829200</td>\n",
       "      <td>-2.746969</td>\n",
       "      <td>-4.609186</td>\n",
       "      <td>3.289205</td>\n",
       "      <td>happy</td>\n",
       "    </tr>\n",
       "  </tbody>\n",
       "</table>\n",
       "<p>5 rows × 27 columns</p>\n",
       "</div>"
      ],
      "text/plain": [
       "   chroma_stft      rmse  spectral_centroid  spectral_bandwidth      rolloff  \\\n",
       "0     0.412998  0.155442        1491.688354         2075.824182  3184.355745   \n",
       "1     0.245947  0.054352        1355.436173         1593.794832  2316.702658   \n",
       "2     0.288459  0.104142        2780.992818         2734.300963  5996.347074   \n",
       "3     0.416686  0.104299        1956.403155         2367.232773  4151.241565   \n",
       "4     0.306054  0.025305         899.636430         1409.779893  1665.939926   \n",
       "\n",
       "   zero_crossing_rate       mfcc1       mfcc2      mfcc3      mfcc4  ...  \\\n",
       "0            0.045976 -218.810582  122.234486  27.920799  23.722941  ...   \n",
       "1            0.079156 -303.857916  135.956505   1.837915  -4.874345  ...   \n",
       "2            0.126230 -161.873294   68.848801   5.828112  11.746237  ...   \n",
       "3            0.082464 -232.575934   97.964434  50.036333  18.321141  ...   \n",
       "4            0.048648 -422.361991  166.701699  14.188575  34.022760  ...   \n",
       "\n",
       "     mfcc12     mfcc13    mfcc14     mfcc15    mfcc16    mfcc17    mfcc18  \\\n",
       "0  6.255844  -2.542397 -0.917639  -4.774317  1.211038 -0.386343  1.133951   \n",
       "1  0.263212  -5.682631 -5.087810  -4.466399  1.721484 -3.062391  1.726126   \n",
       "2 -4.743239 -10.335518 -4.159141 -13.455315 -3.056518 -1.854449  5.620204   \n",
       "3  3.257361  -3.996707 -0.013201  -4.564516 -0.299851 -4.393319  0.554737   \n",
       "4  4.226305  -3.073821 -0.164215  -3.138441 -0.325738 -6.829200 -2.746969   \n",
       "\n",
       "     mfcc19    mfcc20  label  \n",
       "0 -1.452190  1.454535  happy  \n",
       "1 -1.344901  1.373775  happy  \n",
       "2  5.784562  6.859507  happy  \n",
       "3 -0.721076  2.880039  happy  \n",
       "4 -4.609186  3.289205  happy  \n",
       "\n",
       "[5 rows x 27 columns]"
      ]
     },
     "execution_count": 362,
     "metadata": {},
     "output_type": "execute_result"
    }
   ],
   "source": [
    "data=pd.read_csv(\"..\\\\Data\\\\Data_set.csv\")\n",
    "data.head()"
   ]
  },
  {
   "cell_type": "code",
   "execution_count": 363,
   "metadata": {},
   "outputs": [
    {
     "data": {
      "text/plain": [
       "(600, 27)"
      ]
     },
     "execution_count": 363,
     "metadata": {},
     "output_type": "execute_result"
    }
   ],
   "source": [
    "data.shape"
   ]
  },
  {
   "cell_type": "code",
   "execution_count": 364,
   "metadata": {},
   "outputs": [],
   "source": [
    "data.drop_duplicates(inplace=True)"
   ]
  },
  {
   "cell_type": "markdown",
   "metadata": {},
   "source": [
    "## Splitting data into traning & testing"
   ]
  },
  {
   "cell_type": "code",
   "execution_count": 365,
   "metadata": {},
   "outputs": [],
   "source": [
    "x=data.iloc[:,:26]\n",
    "label=data.iloc[:,26]"
   ]
  },
  {
   "cell_type": "code",
   "execution_count": 366,
   "metadata": {},
   "outputs": [],
   "source": [
    "smt=SMOTE()\n",
    "xb,yb=smt.fit_resample(x,label)"
   ]
  },
  {
   "cell_type": "code",
   "execution_count": 367,
   "metadata": {},
   "outputs": [],
   "source": [
    "le=LabelEncoder()\n",
    "scaler=StandardScaler()\n",
    "\n",
    "y=le.fit_transform(yb)\n",
    "X=scaler.fit_transform(xb)"
   ]
  },
  {
   "cell_type": "code",
   "execution_count": 368,
   "metadata": {},
   "outputs": [],
   "source": [
    "X_train, X_test, y_train, y_test = train_test_split(X, y, test_size=0.2)"
   ]
  },
  {
   "cell_type": "markdown",
   "metadata": {},
   "source": [
    "## Defining the architecture of the model"
   ]
  },
  {
   "cell_type": "code",
   "execution_count": 369,
   "metadata": {},
   "outputs": [],
   "source": [
    "model = Sequential()\n",
    "model.add(Dense(256, activation='relu', input_shape=(X_train.shape[1],)))\n",
    "model.add(Dense(128, activation='relu'))\n",
    "model.add(Dense(64, activation='relu'))\n",
    "model.add(Dense(3, activation='softmax'))\n"
   ]
  },
  {
   "cell_type": "code",
   "execution_count": 370,
   "metadata": {},
   "outputs": [
    {
     "name": "stdout",
     "output_type": "stream",
     "text": [
      "Model: \"sequential_40\"\n",
      "_________________________________________________________________\n",
      " Layer (type)                Output Shape              Param #   \n",
      "=================================================================\n",
      " dense_115 (Dense)           (None, 256)               6912      \n",
      "                                                                 \n",
      " dense_116 (Dense)           (None, 128)               32896     \n",
      "                                                                 \n",
      " dense_117 (Dense)           (None, 64)                8256      \n",
      "                                                                 \n",
      " dense_118 (Dense)           (None, 3)                 195       \n",
      "                                                                 \n",
      "=================================================================\n",
      "Total params: 48,259\n",
      "Trainable params: 48,259\n",
      "Non-trainable params: 0\n",
      "_________________________________________________________________\n"
     ]
    }
   ],
   "source": [
    "model.summary()"
   ]
  },
  {
   "cell_type": "code",
   "execution_count": 371,
   "metadata": {},
   "outputs": [],
   "source": [
    "model.compile(optimizer='adam',\n",
    "              loss='sparse_categorical_crossentropy',\n",
    "              metrics=['accuracy'])"
   ]
  },
  {
   "cell_type": "code",
   "execution_count": 372,
   "metadata": {},
   "outputs": [
    {
     "name": "stdout",
     "output_type": "stream",
     "text": [
      "Epoch 1/100\n",
      "4/4 [==============================] - 0s 50ms/step - loss: 1.0587 - accuracy: 0.4151 - val_loss: 1.0111 - val_accuracy: 0.5000\n",
      "Epoch 2/100\n",
      "4/4 [==============================] - 0s 13ms/step - loss: 0.9161 - accuracy: 0.6038 - val_loss: 1.0013 - val_accuracy: 0.4833\n",
      "Epoch 3/100\n",
      "4/4 [==============================] - 0s 12ms/step - loss: 0.8550 - accuracy: 0.6205 - val_loss: 1.0196 - val_accuracy: 0.5000\n",
      "Epoch 4/100\n",
      "4/4 [==============================] - 0s 11ms/step - loss: 0.8185 - accuracy: 0.6184 - val_loss: 1.0237 - val_accuracy: 0.5417\n",
      "Epoch 5/100\n",
      "4/4 [==============================] - 0s 11ms/step - loss: 0.7895 - accuracy: 0.6205 - val_loss: 1.0172 - val_accuracy: 0.5167\n",
      "Epoch 6/100\n",
      "4/4 [==============================] - 0s 11ms/step - loss: 0.7588 - accuracy: 0.6583 - val_loss: 1.0110 - val_accuracy: 0.5083\n",
      "Epoch 7/100\n",
      "4/4 [==============================] - 0s 12ms/step - loss: 0.7288 - accuracy: 0.6855 - val_loss: 1.0068 - val_accuracy: 0.4833\n",
      "Epoch 8/100\n",
      "4/4 [==============================] - 0s 11ms/step - loss: 0.7015 - accuracy: 0.6855 - val_loss: 1.0124 - val_accuracy: 0.5000\n",
      "Epoch 9/100\n",
      "4/4 [==============================] - 0s 11ms/step - loss: 0.6787 - accuracy: 0.7128 - val_loss: 1.0280 - val_accuracy: 0.5083\n",
      "Epoch 10/100\n",
      "4/4 [==============================] - 0s 12ms/step - loss: 0.6472 - accuracy: 0.7338 - val_loss: 1.0535 - val_accuracy: 0.5000\n",
      "Epoch 11/100\n",
      "4/4 [==============================] - 0s 13ms/step - loss: 0.6237 - accuracy: 0.7421 - val_loss: 1.0560 - val_accuracy: 0.4917\n",
      "Epoch 12/100\n",
      "4/4 [==============================] - 0s 11ms/step - loss: 0.5939 - accuracy: 0.7736 - val_loss: 1.0700 - val_accuracy: 0.4750\n",
      "Epoch 13/100\n",
      "4/4 [==============================] - 0s 13ms/step - loss: 0.5700 - accuracy: 0.7757 - val_loss: 1.0877 - val_accuracy: 0.4833\n",
      "Epoch 14/100\n",
      "4/4 [==============================] - 0s 12ms/step - loss: 0.5433 - accuracy: 0.7925 - val_loss: 1.1135 - val_accuracy: 0.4833\n",
      "Epoch 15/100\n",
      "4/4 [==============================] - 0s 11ms/step - loss: 0.5173 - accuracy: 0.8134 - val_loss: 1.1301 - val_accuracy: 0.4917\n",
      "Epoch 16/100\n",
      "4/4 [==============================] - 0s 12ms/step - loss: 0.4901 - accuracy: 0.8218 - val_loss: 1.1518 - val_accuracy: 0.4750\n",
      "Epoch 17/100\n",
      "4/4 [==============================] - 0s 11ms/step - loss: 0.4687 - accuracy: 0.8428 - val_loss: 1.1689 - val_accuracy: 0.4833\n",
      "Epoch 18/100\n",
      "4/4 [==============================] - 0s 10ms/step - loss: 0.4466 - accuracy: 0.8553 - val_loss: 1.1886 - val_accuracy: 0.5000\n",
      "Epoch 19/100\n",
      "4/4 [==============================] - 0s 11ms/step - loss: 0.4205 - accuracy: 0.8742 - val_loss: 1.2265 - val_accuracy: 0.4750\n",
      "Epoch 20/100\n",
      "4/4 [==============================] - 0s 11ms/step - loss: 0.3922 - accuracy: 0.8889 - val_loss: 1.2643 - val_accuracy: 0.4917\n",
      "Epoch 21/100\n",
      "4/4 [==============================] - 0s 11ms/step - loss: 0.3746 - accuracy: 0.8910 - val_loss: 1.2895 - val_accuracy: 0.4917\n",
      "Epoch 22/100\n",
      "4/4 [==============================] - 0s 11ms/step - loss: 0.3502 - accuracy: 0.9036 - val_loss: 1.3107 - val_accuracy: 0.4917\n",
      "Epoch 23/100\n",
      "4/4 [==============================] - 0s 11ms/step - loss: 0.3306 - accuracy: 0.9099 - val_loss: 1.3504 - val_accuracy: 0.4917\n",
      "Epoch 24/100\n",
      "4/4 [==============================] - 0s 11ms/step - loss: 0.3108 - accuracy: 0.9099 - val_loss: 1.3895 - val_accuracy: 0.5167\n",
      "Epoch 25/100\n",
      "4/4 [==============================] - 0s 11ms/step - loss: 0.2980 - accuracy: 0.9224 - val_loss: 1.4167 - val_accuracy: 0.4917\n",
      "Epoch 26/100\n",
      "4/4 [==============================] - 0s 12ms/step - loss: 0.2742 - accuracy: 0.9161 - val_loss: 1.4324 - val_accuracy: 0.5167\n",
      "Epoch 27/100\n",
      "4/4 [==============================] - 0s 10ms/step - loss: 0.2550 - accuracy: 0.9350 - val_loss: 1.5053 - val_accuracy: 0.4917\n",
      "Epoch 28/100\n",
      "4/4 [==============================] - 0s 11ms/step - loss: 0.2384 - accuracy: 0.9266 - val_loss: 1.5743 - val_accuracy: 0.4917\n",
      "Epoch 29/100\n",
      "4/4 [==============================] - 0s 12ms/step - loss: 0.2218 - accuracy: 0.9266 - val_loss: 1.5894 - val_accuracy: 0.5000\n",
      "Epoch 30/100\n",
      "4/4 [==============================] - 0s 11ms/step - loss: 0.2137 - accuracy: 0.9350 - val_loss: 1.6469 - val_accuracy: 0.4917\n",
      "Epoch 31/100\n",
      "4/4 [==============================] - 0s 12ms/step - loss: 0.1947 - accuracy: 0.9413 - val_loss: 1.7082 - val_accuracy: 0.4917\n",
      "Epoch 32/100\n",
      "4/4 [==============================] - 0s 12ms/step - loss: 0.1873 - accuracy: 0.9371 - val_loss: 1.7694 - val_accuracy: 0.5000\n",
      "Epoch 33/100\n",
      "4/4 [==============================] - 0s 12ms/step - loss: 0.1746 - accuracy: 0.9455 - val_loss: 1.8043 - val_accuracy: 0.4917\n",
      "Epoch 34/100\n",
      "4/4 [==============================] - 0s 12ms/step - loss: 0.1620 - accuracy: 0.9455 - val_loss: 1.8315 - val_accuracy: 0.5000\n",
      "Epoch 35/100\n",
      "4/4 [==============================] - 0s 11ms/step - loss: 0.1541 - accuracy: 0.9602 - val_loss: 1.9091 - val_accuracy: 0.4833\n",
      "Epoch 36/100\n",
      "4/4 [==============================] - 0s 11ms/step - loss: 0.1652 - accuracy: 0.9455 - val_loss: 1.9472 - val_accuracy: 0.4917\n",
      "Epoch 37/100\n",
      "4/4 [==============================] - 0s 12ms/step - loss: 0.1562 - accuracy: 0.9476 - val_loss: 1.9957 - val_accuracy: 0.4750\n",
      "Epoch 38/100\n",
      "4/4 [==============================] - 0s 12ms/step - loss: 0.1397 - accuracy: 0.9581 - val_loss: 2.0547 - val_accuracy: 0.4833\n",
      "Epoch 39/100\n",
      "4/4 [==============================] - 0s 11ms/step - loss: 0.1263 - accuracy: 0.9539 - val_loss: 2.1049 - val_accuracy: 0.5000\n",
      "Epoch 40/100\n",
      "4/4 [==============================] - 0s 11ms/step - loss: 0.1257 - accuracy: 0.9644 - val_loss: 2.1083 - val_accuracy: 0.4833\n",
      "Epoch 41/100\n",
      "4/4 [==============================] - 0s 12ms/step - loss: 0.1272 - accuracy: 0.9476 - val_loss: 2.1177 - val_accuracy: 0.5000\n",
      "Epoch 42/100\n",
      "4/4 [==============================] - 0s 12ms/step - loss: 0.1164 - accuracy: 0.9665 - val_loss: 2.2205 - val_accuracy: 0.4833\n",
      "Epoch 43/100\n",
      "4/4 [==============================] - 0s 11ms/step - loss: 0.1159 - accuracy: 0.9581 - val_loss: 2.2652 - val_accuracy: 0.5000\n",
      "Epoch 44/100\n",
      "4/4 [==============================] - 0s 11ms/step - loss: 0.1134 - accuracy: 0.9539 - val_loss: 2.2920 - val_accuracy: 0.5000\n",
      "Epoch 45/100\n",
      "4/4 [==============================] - 0s 11ms/step - loss: 0.1077 - accuracy: 0.9623 - val_loss: 2.3606 - val_accuracy: 0.4750\n",
      "Epoch 46/100\n",
      "4/4 [==============================] - 0s 12ms/step - loss: 0.1116 - accuracy: 0.9476 - val_loss: 2.3330 - val_accuracy: 0.4917\n",
      "Epoch 47/100\n",
      "4/4 [==============================] - 0s 11ms/step - loss: 0.0980 - accuracy: 0.9581 - val_loss: 2.4006 - val_accuracy: 0.4833\n",
      "Epoch 48/100\n",
      "4/4 [==============================] - 0s 11ms/step - loss: 0.1029 - accuracy: 0.9602 - val_loss: 2.4150 - val_accuracy: 0.4917\n",
      "Epoch 49/100\n",
      "4/4 [==============================] - 0s 13ms/step - loss: 0.0917 - accuracy: 0.9581 - val_loss: 2.4395 - val_accuracy: 0.4833\n",
      "Epoch 50/100\n",
      "4/4 [==============================] - 0s 11ms/step - loss: 0.0900 - accuracy: 0.9644 - val_loss: 2.4558 - val_accuracy: 0.4917\n",
      "Epoch 51/100\n",
      "4/4 [==============================] - 0s 11ms/step - loss: 0.0925 - accuracy: 0.9560 - val_loss: 2.4778 - val_accuracy: 0.5000\n",
      "Epoch 52/100\n",
      "4/4 [==============================] - 0s 11ms/step - loss: 0.0871 - accuracy: 0.9686 - val_loss: 2.5492 - val_accuracy: 0.4667\n",
      "Epoch 53/100\n",
      "4/4 [==============================] - 0s 11ms/step - loss: 0.0851 - accuracy: 0.9581 - val_loss: 2.6013 - val_accuracy: 0.5083\n",
      "Epoch 54/100\n",
      "4/4 [==============================] - 0s 11ms/step - loss: 0.0915 - accuracy: 0.9581 - val_loss: 2.6353 - val_accuracy: 0.5000\n",
      "Epoch 55/100\n",
      "4/4 [==============================] - 0s 13ms/step - loss: 0.0923 - accuracy: 0.9560 - val_loss: 2.6198 - val_accuracy: 0.4750\n",
      "Epoch 56/100\n",
      "4/4 [==============================] - 0s 10ms/step - loss: 0.0978 - accuracy: 0.9476 - val_loss: 2.6165 - val_accuracy: 0.4750\n",
      "Epoch 57/100\n",
      "4/4 [==============================] - 0s 12ms/step - loss: 0.1000 - accuracy: 0.9455 - val_loss: 2.6764 - val_accuracy: 0.4917\n",
      "Epoch 58/100\n",
      "4/4 [==============================] - 0s 10ms/step - loss: 0.1018 - accuracy: 0.9539 - val_loss: 2.6846 - val_accuracy: 0.4833\n",
      "Epoch 59/100\n"
     ]
    },
    {
     "name": "stdout",
     "output_type": "stream",
     "text": [
      "4/4 [==============================] - 0s 10ms/step - loss: 0.0913 - accuracy: 0.9581 - val_loss: 2.6948 - val_accuracy: 0.5000\n",
      "Epoch 60/100\n",
      "4/4 [==============================] - 0s 10ms/step - loss: 0.0827 - accuracy: 0.9602 - val_loss: 2.7330 - val_accuracy: 0.4750\n",
      "Epoch 61/100\n",
      "4/4 [==============================] - 0s 10ms/step - loss: 0.0781 - accuracy: 0.9602 - val_loss: 2.7567 - val_accuracy: 0.4833\n",
      "Epoch 62/100\n",
      "4/4 [==============================] - 0s 10ms/step - loss: 0.0889 - accuracy: 0.9623 - val_loss: 2.8055 - val_accuracy: 0.4917\n",
      "Epoch 63/100\n",
      "4/4 [==============================] - 0s 10ms/step - loss: 0.0895 - accuracy: 0.9602 - val_loss: 2.8342 - val_accuracy: 0.4833\n",
      "Epoch 64/100\n",
      "4/4 [==============================] - 0s 10ms/step - loss: 0.0943 - accuracy: 0.9434 - val_loss: 2.8217 - val_accuracy: 0.4750\n",
      "Epoch 65/100\n",
      "4/4 [==============================] - 0s 10ms/step - loss: 0.0982 - accuracy: 0.9539 - val_loss: 2.8376 - val_accuracy: 0.4750\n",
      "Epoch 66/100\n",
      "4/4 [==============================] - 0s 10ms/step - loss: 0.0767 - accuracy: 0.9665 - val_loss: 2.8892 - val_accuracy: 0.4667\n",
      "Epoch 67/100\n",
      "4/4 [==============================] - 0s 10ms/step - loss: 0.0842 - accuracy: 0.9623 - val_loss: 2.9001 - val_accuracy: 0.4750\n",
      "Epoch 68/100\n",
      "4/4 [==============================] - 0s 10ms/step - loss: 0.0790 - accuracy: 0.9581 - val_loss: 2.8951 - val_accuracy: 0.5083\n",
      "Epoch 69/100\n",
      "4/4 [==============================] - 0s 10ms/step - loss: 0.0809 - accuracy: 0.9686 - val_loss: 2.9360 - val_accuracy: 0.4667\n",
      "Epoch 70/100\n",
      "4/4 [==============================] - 0s 10ms/step - loss: 0.0812 - accuracy: 0.9602 - val_loss: 2.9019 - val_accuracy: 0.4750\n",
      "Epoch 71/100\n",
      "4/4 [==============================] - 0s 10ms/step - loss: 0.0787 - accuracy: 0.9644 - val_loss: 2.9312 - val_accuracy: 0.4667\n",
      "Epoch 72/100\n",
      "4/4 [==============================] - 0s 10ms/step - loss: 0.0745 - accuracy: 0.9665 - val_loss: 2.9257 - val_accuracy: 0.4833\n",
      "Epoch 73/100\n",
      "4/4 [==============================] - 0s 11ms/step - loss: 0.0751 - accuracy: 0.9686 - val_loss: 2.9145 - val_accuracy: 0.5000\n",
      "Epoch 74/100\n",
      "4/4 [==============================] - 0s 11ms/step - loss: 0.0784 - accuracy: 0.9686 - val_loss: 2.9038 - val_accuracy: 0.4833\n",
      "Epoch 75/100\n",
      "4/4 [==============================] - 0s 11ms/step - loss: 0.0682 - accuracy: 0.9602 - val_loss: 3.0212 - val_accuracy: 0.4750\n",
      "Epoch 76/100\n",
      "4/4 [==============================] - 0s 11ms/step - loss: 0.0754 - accuracy: 0.9602 - val_loss: 3.0330 - val_accuracy: 0.4917\n",
      "Epoch 77/100\n",
      "4/4 [==============================] - 0s 10ms/step - loss: 0.0702 - accuracy: 0.9644 - val_loss: 3.0320 - val_accuracy: 0.5000\n",
      "Epoch 78/100\n",
      "4/4 [==============================] - 0s 10ms/step - loss: 0.0711 - accuracy: 0.9623 - val_loss: 3.0755 - val_accuracy: 0.4750\n",
      "Epoch 79/100\n",
      "4/4 [==============================] - 0s 11ms/step - loss: 0.0763 - accuracy: 0.9644 - val_loss: 3.0178 - val_accuracy: 0.5000\n",
      "Epoch 80/100\n",
      "4/4 [==============================] - 0s 10ms/step - loss: 0.0721 - accuracy: 0.9644 - val_loss: 2.9921 - val_accuracy: 0.4917\n",
      "Epoch 81/100\n",
      "4/4 [==============================] - 0s 10ms/step - loss: 0.0659 - accuracy: 0.9686 - val_loss: 3.0572 - val_accuracy: 0.4833\n",
      "Epoch 82/100\n",
      "4/4 [==============================] - 0s 10ms/step - loss: 0.0732 - accuracy: 0.9581 - val_loss: 3.1043 - val_accuracy: 0.4833\n",
      "Epoch 83/100\n",
      "4/4 [==============================] - 0s 10ms/step - loss: 0.0682 - accuracy: 0.9623 - val_loss: 3.1367 - val_accuracy: 0.4750\n",
      "Epoch 84/100\n",
      "4/4 [==============================] - 0s 10ms/step - loss: 0.0661 - accuracy: 0.9644 - val_loss: 3.1198 - val_accuracy: 0.4833\n",
      "Epoch 85/100\n",
      "4/4 [==============================] - 0s 10ms/step - loss: 0.0689 - accuracy: 0.9602 - val_loss: 3.1214 - val_accuracy: 0.4917\n",
      "Epoch 86/100\n",
      "4/4 [==============================] - 0s 11ms/step - loss: 0.0628 - accuracy: 0.9686 - val_loss: 3.1262 - val_accuracy: 0.4833\n",
      "Epoch 87/100\n",
      "4/4 [==============================] - 0s 11ms/step - loss: 0.0691 - accuracy: 0.9644 - val_loss: 3.1515 - val_accuracy: 0.4833\n",
      "Epoch 88/100\n",
      "4/4 [==============================] - 0s 12ms/step - loss: 0.0636 - accuracy: 0.9727 - val_loss: 3.1892 - val_accuracy: 0.4917\n",
      "Epoch 89/100\n",
      "4/4 [==============================] - 0s 12ms/step - loss: 0.0689 - accuracy: 0.9623 - val_loss: 3.2027 - val_accuracy: 0.5000\n",
      "Epoch 90/100\n",
      "4/4 [==============================] - 0s 12ms/step - loss: 0.0674 - accuracy: 0.9706 - val_loss: 3.1590 - val_accuracy: 0.5000\n",
      "Epoch 91/100\n",
      "4/4 [==============================] - 0s 13ms/step - loss: 0.0685 - accuracy: 0.9665 - val_loss: 3.1427 - val_accuracy: 0.4750\n",
      "Epoch 92/100\n",
      "4/4 [==============================] - 0s 11ms/step - loss: 0.0694 - accuracy: 0.9644 - val_loss: 3.1997 - val_accuracy: 0.4917\n",
      "Epoch 93/100\n",
      "4/4 [==============================] - 0s 12ms/step - loss: 0.0670 - accuracy: 0.9623 - val_loss: 3.2763 - val_accuracy: 0.4833\n",
      "Epoch 94/100\n",
      "4/4 [==============================] - 0s 11ms/step - loss: 0.0666 - accuracy: 0.9706 - val_loss: 3.2222 - val_accuracy: 0.4917\n",
      "Epoch 95/100\n",
      "4/4 [==============================] - 0s 10ms/step - loss: 0.0698 - accuracy: 0.9560 - val_loss: 3.2390 - val_accuracy: 0.4917\n",
      "Epoch 96/100\n",
      "4/4 [==============================] - 0s 11ms/step - loss: 0.0628 - accuracy: 0.9686 - val_loss: 3.2717 - val_accuracy: 0.4833\n",
      "Epoch 97/100\n",
      "4/4 [==============================] - 0s 10ms/step - loss: 0.0632 - accuracy: 0.9644 - val_loss: 3.3152 - val_accuracy: 0.4750\n",
      "Epoch 98/100\n",
      "4/4 [==============================] - 0s 11ms/step - loss: 0.0614 - accuracy: 0.9665 - val_loss: 3.2770 - val_accuracy: 0.4833\n",
      "Epoch 99/100\n",
      "4/4 [==============================] - 0s 11ms/step - loss: 0.0614 - accuracy: 0.9665 - val_loss: 3.2587 - val_accuracy: 0.4750\n",
      "Epoch 100/100\n",
      "4/4 [==============================] - 0s 10ms/step - loss: 0.0588 - accuracy: 0.9686 - val_loss: 3.3043 - val_accuracy: 0.4750\n"
     ]
    }
   ],
   "source": [
    "history = model.fit(X_train,y_train,validation_data=(X_test,y_test),epochs=100,batch_size=128)"
   ]
  },
  {
   "cell_type": "code",
   "execution_count": 373,
   "metadata": {},
   "outputs": [],
   "source": [
    "predict_x=model.predict(X_test) \n",
    "y_pred=np.argmax(predict_x,axis=1)"
   ]
  },
  {
   "cell_type": "code",
   "execution_count": 374,
   "metadata": {},
   "outputs": [
    {
     "name": "stdout",
     "output_type": "stream",
     "text": [
      "4/4 - 0s - loss: 3.3043 - accuracy: 0.4750 - 20ms/epoch - 5ms/step\n"
     ]
    },
    {
     "data": {
      "image/png": "[encoded data removed]",
      "text/plain": [
       "<Figure size 432x288 with 1 Axes>"
      ]
     },
     "metadata": {
      "needs_background": "light"
     },
     "output_type": "display_data"
    }
   ],
   "source": [
    "plt.plot(history.history['accuracy'], label='accuracy')\n",
    "plt.plot(history.history['val_accuracy'], label = 'val_accuracy')\n",
    "plt.xlabel('Epoch')\n",
    "plt.ylabel('Accuracy')\n",
    "plt.legend(loc='lower right')\n",
    "\n",
    "test_loss, test_acc = model.evaluate(X_test, y_test, verbose=2)"
   ]
  },
  {
   "cell_type": "markdown",
   "metadata": {},
   "source": [
    "## save created model"
   ]
  },
  {
   "cell_type": "code",
   "execution_count": 376,
   "metadata": {},
   "outputs": [],
   "source": [
    "model.save('my_model.h5') "
   ]
  },
  {
   "cell_type": "code",
   "execution_count": null,
   "metadata": {},
   "outputs": [],
   "source": []
  },
  {
   "cell_type": "code",
   "execution_count": 375,
   "metadata": {},
   "outputs": [
    {
     "data": {
      "text/plain": [
       "['scaler.save']"
      ]
     },
     "execution_count": 375,
     "metadata": {},
     "output_type": "execute_result"
    }
   ],
   "source": [
    "scaler_filename = \"scaler.save\"\n",
    "joblib.dump(scaler, scaler_filename) "
   ]
  },
  {
   "cell_type": "code",
   "execution_count": null,
   "metadata": {},
   "outputs": [],
   "source": []
  }
 ],
 "metadata": {
  "kernelspec": {
   "display_name": "Python 3 (ipykernel)",
   "language": "python",
   "name": "python3"
  },
  "language_info": {
   "codemirror_mode": {
    "name": "ipython",
    "version": 3
   },
   "file_extension": ".py",
   "mimetype": "text/x-python",
   "name": "python",
   "nbconvert_exporter": "python",
   "pygments_lexer": "ipython3",
   "version": "3.9.6"
  }
 },
 "nbformat": 4,
 "nbformat_minor": 1
}
