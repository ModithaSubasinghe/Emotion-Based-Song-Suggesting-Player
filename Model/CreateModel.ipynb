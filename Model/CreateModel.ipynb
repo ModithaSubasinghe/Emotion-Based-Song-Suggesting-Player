{
 "cells": [
  {
   "cell_type": "code",
   "execution_count": 15,
   "metadata": {
    "pycharm": {
     "is_executing": true
    }
   },
   "outputs": [],
   "source": [
    "import pandas as pd\n",
    "import numpy as np\n",
    "from sklearn.model_selection import train_test_split\n",
    "from sklearn.preprocessing import LabelEncoder, StandardScaler\n",
    "from sklearn.metrics import accuracy_score\n",
    "import matplotlib.pyplot as plt\n",
    "import joblib"
   ]
  },
  {
   "cell_type": "code",
   "execution_count": 16,
   "metadata": {
    "pycharm": {
     "is_executing": true
    }
   },
   "outputs": [],
   "source": [
    "import tensorflow\n",
    "from keras.models import Sequential\n",
    "from keras.layers import InputLayer,Dense,Flatten\n",
    "import keras.optimizers\n",
    "from imblearn.over_sampling import SMOTE"
   ]
  },
  {
   "cell_type": "code",
   "execution_count": 17,
   "metadata": {
    "pycharm": {
     "is_executing": true
    }
   },
   "outputs": [
    {
     "data": {
      "text/html": [
       "<div>\n",
       "<style scoped>\n",
       "    .dataframe tbody tr th:only-of-type {\n",
       "        vertical-align: middle;\n",
       "    }\n",
       "\n",
       "    .dataframe tbody tr th {\n",
       "        vertical-align: top;\n",
       "    }\n",
       "\n",
       "    .dataframe thead th {\n",
       "        text-align: right;\n",
       "    }\n",
       "</style>\n",
       "<table border=\"1\" class=\"dataframe\">\n",
       "  <thead>\n",
       "    <tr style=\"text-align: right;\">\n",
       "      <th></th>\n",
       "      <th>chroma_stft</th>\n",
       "      <th>rmse</th>\n",
       "      <th>spectral_centroid</th>\n",
       "      <th>spectral_bandwidth</th>\n",
       "      <th>rolloff</th>\n",
       "      <th>zero_crossing_rate</th>\n",
       "      <th>mfcc1</th>\n",
       "      <th>mfcc2</th>\n",
       "      <th>mfcc3</th>\n",
       "      <th>mfcc4</th>\n",
       "      <th>...</th>\n",
       "      <th>mfcc12</th>\n",
       "      <th>mfcc13</th>\n",
       "      <th>mfcc14</th>\n",
       "      <th>mfcc15</th>\n",
       "      <th>mfcc16</th>\n",
       "      <th>mfcc17</th>\n",
       "      <th>mfcc18</th>\n",
       "      <th>mfcc19</th>\n",
       "      <th>mfcc20</th>\n",
       "      <th>label</th>\n",
       "    </tr>\n",
       "  </thead>\n",
       "  <tbody>\n",
       "    <tr>\n",
       "      <th>0</th>\n",
       "      <td>0.412998</td>\n",
       "      <td>0.155442</td>\n",
       "      <td>1491.688354</td>\n",
       "      <td>2075.824182</td>\n",
       "      <td>3184.355745</td>\n",
       "      <td>0.045976</td>\n",
       "      <td>-218.810582</td>\n",
       "      <td>122.234486</td>\n",
       "      <td>27.920799</td>\n",
       "      <td>23.722941</td>\n",
       "      <td>...</td>\n",
       "      <td>6.255844</td>\n",
       "      <td>-2.542397</td>\n",
       "      <td>-0.917639</td>\n",
       "      <td>-4.774317</td>\n",
       "      <td>1.211038</td>\n",
       "      <td>-0.386343</td>\n",
       "      <td>1.133951</td>\n",
       "      <td>-1.452190</td>\n",
       "      <td>1.454535</td>\n",
       "      <td>happy</td>\n",
       "    </tr>\n",
       "    <tr>\n",
       "      <th>1</th>\n",
       "      <td>0.245947</td>\n",
       "      <td>0.054352</td>\n",
       "      <td>1355.436173</td>\n",
       "      <td>1593.794832</td>\n",
       "      <td>2316.702658</td>\n",
       "      <td>0.079156</td>\n",
       "      <td>-303.857916</td>\n",
       "      <td>135.956505</td>\n",
       "      <td>1.837915</td>\n",
       "      <td>-4.874345</td>\n",
       "      <td>...</td>\n",
       "      <td>0.263212</td>\n",
       "      <td>-5.682631</td>\n",
       "      <td>-5.087810</td>\n",
       "      <td>-4.466399</td>\n",
       "      <td>1.721484</td>\n",
       "      <td>-3.062391</td>\n",
       "      <td>1.726126</td>\n",
       "      <td>-1.344901</td>\n",
       "      <td>1.373775</td>\n",
       "      <td>happy</td>\n",
       "    </tr>\n",
       "    <tr>\n",
       "      <th>2</th>\n",
       "      <td>0.288459</td>\n",
       "      <td>0.104142</td>\n",
       "      <td>2780.992818</td>\n",
       "      <td>2734.300963</td>\n",
       "      <td>5996.347074</td>\n",
       "      <td>0.126230</td>\n",
       "      <td>-161.873294</td>\n",
       "      <td>68.848801</td>\n",
       "      <td>5.828112</td>\n",
       "      <td>11.746237</td>\n",
       "      <td>...</td>\n",
       "      <td>-4.743239</td>\n",
       "      <td>-10.335518</td>\n",
       "      <td>-4.159141</td>\n",
       "      <td>-13.455315</td>\n",
       "      <td>-3.056518</td>\n",
       "      <td>-1.854449</td>\n",
       "      <td>5.620204</td>\n",
       "      <td>5.784562</td>\n",
       "      <td>6.859507</td>\n",
       "      <td>happy</td>\n",
       "    </tr>\n",
       "    <tr>\n",
       "      <th>3</th>\n",
       "      <td>0.416686</td>\n",
       "      <td>0.104299</td>\n",
       "      <td>1956.403155</td>\n",
       "      <td>2367.232773</td>\n",
       "      <td>4151.241565</td>\n",
       "      <td>0.082464</td>\n",
       "      <td>-232.575934</td>\n",
       "      <td>97.964434</td>\n",
       "      <td>50.036333</td>\n",
       "      <td>18.321141</td>\n",
       "      <td>...</td>\n",
       "      <td>3.257361</td>\n",
       "      <td>-3.996707</td>\n",
       "      <td>-0.013201</td>\n",
       "      <td>-4.564516</td>\n",
       "      <td>-0.299851</td>\n",
       "      <td>-4.393319</td>\n",
       "      <td>0.554737</td>\n",
       "      <td>-0.721076</td>\n",
       "      <td>2.880039</td>\n",
       "      <td>happy</td>\n",
       "    </tr>\n",
       "    <tr>\n",
       "      <th>4</th>\n",
       "      <td>0.306054</td>\n",
       "      <td>0.025305</td>\n",
       "      <td>899.636430</td>\n",
       "      <td>1409.779893</td>\n",
       "      <td>1665.939926</td>\n",
       "      <td>0.048648</td>\n",
       "      <td>-422.361991</td>\n",
       "      <td>166.701699</td>\n",
       "      <td>14.188575</td>\n",
       "      <td>34.022760</td>\n",
       "      <td>...</td>\n",
       "      <td>4.226305</td>\n",
       "      <td>-3.073821</td>\n",
       "      <td>-0.164215</td>\n",
       "      <td>-3.138441</td>\n",
       "      <td>-0.325738</td>\n",
       "      <td>-6.829200</td>\n",
       "      <td>-2.746969</td>\n",
       "      <td>-4.609186</td>\n",
       "      <td>3.289205</td>\n",
       "      <td>happy</td>\n",
       "    </tr>\n",
       "  </tbody>\n",
       "</table>\n",
       "<p>5 rows × 27 columns</p>\n",
       "</div>"
      ],
      "text/plain": [
       "   chroma_stft      rmse  spectral_centroid  spectral_bandwidth      rolloff  \\\n",
       "0     0.412998  0.155442        1491.688354         2075.824182  3184.355745   \n",
       "1     0.245947  0.054352        1355.436173         1593.794832  2316.702658   \n",
       "2     0.288459  0.104142        2780.992818         2734.300963  5996.347074   \n",
       "3     0.416686  0.104299        1956.403155         2367.232773  4151.241565   \n",
       "4     0.306054  0.025305         899.636430         1409.779893  1665.939926   \n",
       "\n",
       "   zero_crossing_rate       mfcc1       mfcc2      mfcc3      mfcc4  ...  \\\n",
       "0            0.045976 -218.810582  122.234486  27.920799  23.722941  ...   \n",
       "1            0.079156 -303.857916  135.956505   1.837915  -4.874345  ...   \n",
       "2            0.126230 -161.873294   68.848801   5.828112  11.746237  ...   \n",
       "3            0.082464 -232.575934   97.964434  50.036333  18.321141  ...   \n",
       "4            0.048648 -422.361991  166.701699  14.188575  34.022760  ...   \n",
       "\n",
       "     mfcc12     mfcc13    mfcc14     mfcc15    mfcc16    mfcc17    mfcc18  \\\n",
       "0  6.255844  -2.542397 -0.917639  -4.774317  1.211038 -0.386343  1.133951   \n",
       "1  0.263212  -5.682631 -5.087810  -4.466399  1.721484 -3.062391  1.726126   \n",
       "2 -4.743239 -10.335518 -4.159141 -13.455315 -3.056518 -1.854449  5.620204   \n",
       "3  3.257361  -3.996707 -0.013201  -4.564516 -0.299851 -4.393319  0.554737   \n",
       "4  4.226305  -3.073821 -0.164215  -3.138441 -0.325738 -6.829200 -2.746969   \n",
       "\n",
       "     mfcc19    mfcc20  label  \n",
       "0 -1.452190  1.454535  happy  \n",
       "1 -1.344901  1.373775  happy  \n",
       "2  5.784562  6.859507  happy  \n",
       "3 -0.721076  2.880039  happy  \n",
       "4 -4.609186  3.289205  happy  \n",
       "\n",
       "[5 rows x 27 columns]"
      ]
     },
     "execution_count": 17,
     "metadata": {},
     "output_type": "execute_result"
    }
   ],
   "source": [
    "data=pd.read_csv(\"Data_set.csv\")\n",
    "data.head()"
   ]
  },
  {
   "cell_type": "code",
   "execution_count": 18,
   "metadata": {
    "pycharm": {
     "is_executing": true
    }
   },
   "outputs": [
    {
     "data": {
      "text/plain": [
       "(600, 27)"
      ]
     },
     "execution_count": 18,
     "metadata": {},
     "output_type": "execute_result"
    }
   ],
   "source": [
    "data.shape"
   ]
  },
  {
   "cell_type": "code",
   "execution_count": 19,
   "metadata": {
    "pycharm": {
     "is_executing": true
    }
   },
   "outputs": [],
   "source": [
    "data.drop_duplicates(inplace=True)"
   ]
  },
  {
   "cell_type": "markdown",
   "metadata": {},
   "source": [
    "## Splitting data into traning & testing"
   ]
  },
  {
   "cell_type": "code",
   "execution_count": 20,
   "metadata": {
    "pycharm": {
     "is_executing": true
    }
   },
   "outputs": [],
   "source": [
    "x=data.iloc[:,:26]\n",
    "label=data.iloc[:,26]"
   ]
  },
  {
   "cell_type": "code",
   "execution_count": 21,
   "metadata": {
    "pycharm": {
     "is_executing": true
    }
   },
   "outputs": [],
   "source": [
    "smt=SMOTE()\n",
    "xb,yb=smt.fit_resample(x,label)"
   ]
  },
  {
   "cell_type": "code",
   "execution_count": 22,
   "metadata": {
    "pycharm": {
     "is_executing": true
    }
   },
   "outputs": [],
   "source": [
    "le=LabelEncoder()\n",
    "scaler=StandardScaler()\n",
    "\n",
    "y=le.fit_transform(yb)\n",
    "X=scaler.fit_transform(xb)"
   ]
  },
  {
   "cell_type": "code",
   "execution_count": 23,
   "metadata": {
    "pycharm": {
     "is_executing": true
    }
   },
   "outputs": [],
   "source": [
    "X_train, X_test, y_train, y_test = train_test_split(X, y, test_size=0.2)"
   ]
  },
  {
   "cell_type": "markdown",
   "metadata": {},
   "source": [
    "## Defining the architecture of the model"
   ]
  },
  {
   "cell_type": "code",
   "execution_count": 24,
   "metadata": {
    "pycharm": {
     "is_executing": true
    }
   },
   "outputs": [],
   "source": [
    "model = Sequential()\n",
    "model.add(Dense(256, activation='relu', input_shape=(X_train.shape[1],)))\n",
    "model.add(Dense(128, activation='relu'))\n",
    "model.add(Dense(64, activation='relu'))\n",
    "model.add(Dense(3, activation='softmax'))\n"
   ]
  },
  {
   "cell_type": "code",
   "execution_count": 25,
   "metadata": {
    "pycharm": {
     "is_executing": true
    }
   },
   "outputs": [
    {
     "name": "stdout",
     "output_type": "stream",
     "text": [
      "Model: \"sequential\"\n",
      "_________________________________________________________________\n",
      " Layer (type)                Output Shape              Param #   \n",
      "=================================================================\n",
      " dense (Dense)               (None, 256)               6912      \n",
      "                                                                 \n",
      " dense_1 (Dense)             (None, 128)               32896     \n",
      "                                                                 \n",
      " dense_2 (Dense)             (None, 64)                8256      \n",
      "                                                                 \n",
      " dense_3 (Dense)             (None, 3)                 195       \n",
      "                                                                 \n",
      "=================================================================\n",
      "Total params: 48,259\n",
      "Trainable params: 48,259\n",
      "Non-trainable params: 0\n",
      "_________________________________________________________________\n"
     ]
    }
   ],
   "source": [
    "model.summary()"
   ]
  },
  {
   "cell_type": "code",
   "execution_count": 26,
   "metadata": {
    "pycharm": {
     "is_executing": true
    }
   },
   "outputs": [],
   "source": [
    "model.compile(optimizer='adam',\n",
    "              loss='sparse_categorical_crossentropy',\n",
    "              metrics=['accuracy'])"
   ]
  },
  {
   "cell_type": "code",
   "execution_count": 27,
   "metadata": {
    "pycharm": {
     "is_executing": true
    }
   },
   "outputs": [
    {
     "name": "stdout",
     "output_type": "stream",
     "text": [
      "Epoch 1/100\n",
      "4/4 [==============================] - 1s 63ms/step - loss: 1.0923 - accuracy: 0.4046 - val_loss: 0.9832 - val_accuracy: 0.5333\n",
      "Epoch 2/100\n",
      "4/4 [==============================] - 0s 11ms/step - loss: 0.9579 - accuracy: 0.5514 - val_loss: 0.9320 - val_accuracy: 0.5583\n",
      "Epoch 3/100\n",
      "4/4 [==============================] - 0s 11ms/step - loss: 0.8945 - accuracy: 0.5618 - val_loss: 0.9027 - val_accuracy: 0.5667\n",
      "Epoch 4/100\n",
      "4/4 [==============================] - 0s 11ms/step - loss: 0.8653 - accuracy: 0.5891 - val_loss: 0.8896 - val_accuracy: 0.5583\n",
      "Epoch 5/100\n",
      "4/4 [==============================] - 0s 11ms/step - loss: 0.8360 - accuracy: 0.6017 - val_loss: 0.8867 - val_accuracy: 0.5583\n",
      "Epoch 6/100\n",
      "4/4 [==============================] - 0s 11ms/step - loss: 0.8058 - accuracy: 0.6226 - val_loss: 0.8832 - val_accuracy: 0.5583\n",
      "Epoch 7/100\n",
      "4/4 [==============================] - 0s 12ms/step - loss: 0.7766 - accuracy: 0.6562 - val_loss: 0.8817 - val_accuracy: 0.5583\n",
      "Epoch 8/100\n",
      "4/4 [==============================] - 0s 11ms/step - loss: 0.7485 - accuracy: 0.6625 - val_loss: 0.8591 - val_accuracy: 0.6000\n",
      "Epoch 9/100\n",
      "4/4 [==============================] - 0s 12ms/step - loss: 0.7264 - accuracy: 0.6625 - val_loss: 0.8694 - val_accuracy: 0.6000\n",
      "Epoch 10/100\n",
      "4/4 [==============================] - 0s 12ms/step - loss: 0.6999 - accuracy: 0.6939 - val_loss: 0.8816 - val_accuracy: 0.5667\n",
      "Epoch 11/100\n",
      "4/4 [==============================] - 0s 11ms/step - loss: 0.6753 - accuracy: 0.6960 - val_loss: 0.8984 - val_accuracy: 0.5583\n",
      "Epoch 12/100\n",
      "4/4 [==============================] - 0s 11ms/step - loss: 0.6541 - accuracy: 0.7128 - val_loss: 0.8923 - val_accuracy: 0.5667\n",
      "Epoch 13/100\n",
      "4/4 [==============================] - 0s 11ms/step - loss: 0.6284 - accuracy: 0.7296 - val_loss: 0.8973 - val_accuracy: 0.5750\n",
      "Epoch 14/100\n",
      "4/4 [==============================] - 0s 12ms/step - loss: 0.6034 - accuracy: 0.7442 - val_loss: 0.9202 - val_accuracy: 0.5500\n",
      "Epoch 15/100\n",
      "4/4 [==============================] - 0s 11ms/step - loss: 0.5797 - accuracy: 0.7631 - val_loss: 0.9191 - val_accuracy: 0.5500\n",
      "Epoch 16/100\n",
      "4/4 [==============================] - 0s 11ms/step - loss: 0.5532 - accuracy: 0.7757 - val_loss: 0.9411 - val_accuracy: 0.5583\n",
      "Epoch 17/100\n",
      "4/4 [==============================] - 0s 11ms/step - loss: 0.5362 - accuracy: 0.7904 - val_loss: 0.9513 - val_accuracy: 0.5500\n",
      "Epoch 18/100\n",
      "4/4 [==============================] - 0s 11ms/step - loss: 0.5114 - accuracy: 0.8029 - val_loss: 0.9812 - val_accuracy: 0.5417\n",
      "Epoch 19/100\n",
      "4/4 [==============================] - 0s 13ms/step - loss: 0.4904 - accuracy: 0.8218 - val_loss: 0.9602 - val_accuracy: 0.5667\n",
      "Epoch 20/100\n",
      "4/4 [==============================] - 0s 11ms/step - loss: 0.4646 - accuracy: 0.8323 - val_loss: 1.0145 - val_accuracy: 0.5417\n",
      "Epoch 21/100\n",
      "4/4 [==============================] - 0s 11ms/step - loss: 0.4569 - accuracy: 0.8428 - val_loss: 1.0055 - val_accuracy: 0.5417\n",
      "Epoch 22/100\n",
      "4/4 [==============================] - 0s 11ms/step - loss: 0.4273 - accuracy: 0.8616 - val_loss: 1.0194 - val_accuracy: 0.5583\n",
      "Epoch 23/100\n",
      "4/4 [==============================] - 0s 11ms/step - loss: 0.4031 - accuracy: 0.8637 - val_loss: 1.0798 - val_accuracy: 0.5500\n",
      "Epoch 24/100\n",
      "4/4 [==============================] - 0s 11ms/step - loss: 0.3877 - accuracy: 0.8784 - val_loss: 1.0794 - val_accuracy: 0.5500\n",
      "Epoch 25/100\n",
      "4/4 [==============================] - 0s 11ms/step - loss: 0.3674 - accuracy: 0.8784 - val_loss: 1.0862 - val_accuracy: 0.5667\n",
      "Epoch 26/100\n",
      "4/4 [==============================] - 0s 11ms/step - loss: 0.3608 - accuracy: 0.8931 - val_loss: 1.1261 - val_accuracy: 0.5333\n",
      "Epoch 27/100\n",
      "4/4 [==============================] - 0s 12ms/step - loss: 0.3346 - accuracy: 0.8994 - val_loss: 1.1289 - val_accuracy: 0.5500\n",
      "Epoch 28/100\n",
      "4/4 [==============================] - 0s 12ms/step - loss: 0.3130 - accuracy: 0.9057 - val_loss: 1.1998 - val_accuracy: 0.5167\n",
      "Epoch 29/100\n",
      "4/4 [==============================] - 0s 11ms/step - loss: 0.2993 - accuracy: 0.9119 - val_loss: 1.1751 - val_accuracy: 0.5583\n",
      "Epoch 30/100\n",
      "4/4 [==============================] - 0s 12ms/step - loss: 0.2783 - accuracy: 0.9119 - val_loss: 1.2272 - val_accuracy: 0.5333\n",
      "Epoch 31/100\n",
      "4/4 [==============================] - 0s 13ms/step - loss: 0.2624 - accuracy: 0.9182 - val_loss: 1.2384 - val_accuracy: 0.5500\n",
      "Epoch 32/100\n",
      "4/4 [==============================] - 0s 10ms/step - loss: 0.2452 - accuracy: 0.9287 - val_loss: 1.2701 - val_accuracy: 0.5417\n",
      "Epoch 33/100\n",
      "4/4 [==============================] - 0s 11ms/step - loss: 0.2307 - accuracy: 0.9329 - val_loss: 1.2843 - val_accuracy: 0.5333\n",
      "Epoch 34/100\n",
      "4/4 [==============================] - 0s 11ms/step - loss: 0.2204 - accuracy: 0.9266 - val_loss: 1.3688 - val_accuracy: 0.5250\n",
      "Epoch 35/100\n",
      "4/4 [==============================] - 0s 11ms/step - loss: 0.2014 - accuracy: 0.9371 - val_loss: 1.4181 - val_accuracy: 0.5083\n",
      "Epoch 36/100\n",
      "4/4 [==============================] - 0s 11ms/step - loss: 0.1916 - accuracy: 0.9413 - val_loss: 1.3786 - val_accuracy: 0.5500\n",
      "Epoch 37/100\n",
      "4/4 [==============================] - 0s 11ms/step - loss: 0.1855 - accuracy: 0.9392 - val_loss: 1.4593 - val_accuracy: 0.5000\n",
      "Epoch 38/100\n",
      "4/4 [==============================] - 0s 11ms/step - loss: 0.1791 - accuracy: 0.9413 - val_loss: 1.4712 - val_accuracy: 0.5000\n",
      "Epoch 39/100\n",
      "4/4 [==============================] - 0s 12ms/step - loss: 0.1675 - accuracy: 0.9434 - val_loss: 1.5028 - val_accuracy: 0.4917\n",
      "Epoch 40/100\n",
      "4/4 [==============================] - 0s 12ms/step - loss: 0.1634 - accuracy: 0.9497 - val_loss: 1.5906 - val_accuracy: 0.4917\n",
      "Epoch 41/100\n",
      "4/4 [==============================] - 0s 12ms/step - loss: 0.1616 - accuracy: 0.9518 - val_loss: 1.5689 - val_accuracy: 0.5250\n",
      "Epoch 42/100\n",
      "4/4 [==============================] - 0s 11ms/step - loss: 0.1444 - accuracy: 0.9392 - val_loss: 1.5900 - val_accuracy: 0.4917\n",
      "Epoch 43/100\n",
      "4/4 [==============================] - 0s 13ms/step - loss: 0.1332 - accuracy: 0.9581 - val_loss: 1.6003 - val_accuracy: 0.5167\n",
      "Epoch 44/100\n",
      "4/4 [==============================] - 0s 12ms/step - loss: 0.1318 - accuracy: 0.9518 - val_loss: 1.7290 - val_accuracy: 0.4917\n",
      "Epoch 45/100\n",
      "4/4 [==============================] - 0s 11ms/step - loss: 0.1274 - accuracy: 0.9644 - val_loss: 1.6843 - val_accuracy: 0.5083\n",
      "Epoch 46/100\n",
      "4/4 [==============================] - 0s 11ms/step - loss: 0.1160 - accuracy: 0.9581 - val_loss: 1.6981 - val_accuracy: 0.5167\n",
      "Epoch 47/100\n",
      "4/4 [==============================] - 0s 11ms/step - loss: 0.1154 - accuracy: 0.9581 - val_loss: 1.7419 - val_accuracy: 0.5333\n",
      "Epoch 48/100\n",
      "4/4 [==============================] - 0s 12ms/step - loss: 0.1072 - accuracy: 0.9665 - val_loss: 1.8315 - val_accuracy: 0.5000\n",
      "Epoch 49/100\n",
      "4/4 [==============================] - 0s 11ms/step - loss: 0.1121 - accuracy: 0.9644 - val_loss: 1.8405 - val_accuracy: 0.5000\n",
      "Epoch 50/100\n",
      "4/4 [==============================] - 0s 13ms/step - loss: 0.1013 - accuracy: 0.9518 - val_loss: 1.7721 - val_accuracy: 0.5000\n",
      "Epoch 51/100\n",
      "4/4 [==============================] - 0s 14ms/step - loss: 0.1045 - accuracy: 0.9560 - val_loss: 1.8175 - val_accuracy: 0.5083\n",
      "Epoch 52/100\n",
      "4/4 [==============================] - 0s 11ms/step - loss: 0.1043 - accuracy: 0.9602 - val_loss: 1.9068 - val_accuracy: 0.5167\n",
      "Epoch 53/100\n",
      "4/4 [==============================] - 0s 14ms/step - loss: 0.0922 - accuracy: 0.9644 - val_loss: 1.9992 - val_accuracy: 0.4833\n",
      "Epoch 54/100\n",
      "4/4 [==============================] - 0s 15ms/step - loss: 0.0928 - accuracy: 0.9581 - val_loss: 1.8891 - val_accuracy: 0.5167\n",
      "Epoch 55/100\n",
      "4/4 [==============================] - 0s 12ms/step - loss: 0.0907 - accuracy: 0.9644 - val_loss: 2.0404 - val_accuracy: 0.4833\n",
      "Epoch 56/100\n",
      "4/4 [==============================] - 0s 12ms/step - loss: 0.0889 - accuracy: 0.9602 - val_loss: 1.9782 - val_accuracy: 0.4833\n",
      "Epoch 57/100\n",
      "4/4 [==============================] - 0s 11ms/step - loss: 0.0943 - accuracy: 0.9602 - val_loss: 1.9832 - val_accuracy: 0.5083\n",
      "Epoch 58/100\n",
      "4/4 [==============================] - 0s 10ms/step - loss: 0.0893 - accuracy: 0.9623 - val_loss: 2.0678 - val_accuracy: 0.4917\n",
      "Epoch 59/100\n"
     ]
    },
    {
     "name": "stdout",
     "output_type": "stream",
     "text": [
      "4/4 [==============================] - 0s 10ms/step - loss: 0.0879 - accuracy: 0.9518 - val_loss: 2.0389 - val_accuracy: 0.5167\n",
      "Epoch 60/100\n",
      "4/4 [==============================] - 0s 10ms/step - loss: 0.0801 - accuracy: 0.9665 - val_loss: 2.1835 - val_accuracy: 0.5083\n",
      "Epoch 61/100\n",
      "4/4 [==============================] - 0s 10ms/step - loss: 0.0810 - accuracy: 0.9581 - val_loss: 2.1084 - val_accuracy: 0.4917\n",
      "Epoch 62/100\n",
      "4/4 [==============================] - 0s 11ms/step - loss: 0.0830 - accuracy: 0.9560 - val_loss: 2.0682 - val_accuracy: 0.5083\n",
      "Epoch 63/100\n",
      "4/4 [==============================] - 0s 11ms/step - loss: 0.0795 - accuracy: 0.9581 - val_loss: 2.1156 - val_accuracy: 0.5000\n",
      "Epoch 64/100\n",
      "4/4 [==============================] - 0s 12ms/step - loss: 0.0728 - accuracy: 0.9727 - val_loss: 2.1732 - val_accuracy: 0.5000\n",
      "Epoch 65/100\n",
      "4/4 [==============================] - 0s 12ms/step - loss: 0.0772 - accuracy: 0.9644 - val_loss: 2.2472 - val_accuracy: 0.4833\n",
      "Epoch 66/100\n",
      "4/4 [==============================] - 0s 12ms/step - loss: 0.0732 - accuracy: 0.9686 - val_loss: 2.1179 - val_accuracy: 0.5000\n",
      "Epoch 67/100\n",
      "4/4 [==============================] - 0s 10ms/step - loss: 0.0839 - accuracy: 0.9581 - val_loss: 2.1699 - val_accuracy: 0.4917\n",
      "Epoch 68/100\n",
      "4/4 [==============================] - 0s 10ms/step - loss: 0.0852 - accuracy: 0.9623 - val_loss: 2.3115 - val_accuracy: 0.4917\n",
      "Epoch 69/100\n",
      "4/4 [==============================] - 0s 10ms/step - loss: 0.0851 - accuracy: 0.9560 - val_loss: 2.1835 - val_accuracy: 0.5000\n",
      "Epoch 70/100\n",
      "4/4 [==============================] - 0s 10ms/step - loss: 0.0693 - accuracy: 0.9623 - val_loss: 2.2898 - val_accuracy: 0.5000\n",
      "Epoch 71/100\n",
      "4/4 [==============================] - 0s 11ms/step - loss: 0.0699 - accuracy: 0.9686 - val_loss: 2.2376 - val_accuracy: 0.5250\n",
      "Epoch 72/100\n",
      "4/4 [==============================] - 0s 12ms/step - loss: 0.0774 - accuracy: 0.9644 - val_loss: 2.3349 - val_accuracy: 0.5083\n",
      "Epoch 73/100\n",
      "4/4 [==============================] - 0s 12ms/step - loss: 0.0743 - accuracy: 0.9644 - val_loss: 2.2963 - val_accuracy: 0.4917\n",
      "Epoch 74/100\n",
      "4/4 [==============================] - 0s 10ms/step - loss: 0.0720 - accuracy: 0.9665 - val_loss: 2.2380 - val_accuracy: 0.5167\n",
      "Epoch 75/100\n",
      "4/4 [==============================] - 0s 11ms/step - loss: 0.0800 - accuracy: 0.9644 - val_loss: 2.4184 - val_accuracy: 0.5167\n",
      "Epoch 76/100\n",
      "4/4 [==============================] - 0s 11ms/step - loss: 0.0862 - accuracy: 0.9560 - val_loss: 2.4152 - val_accuracy: 0.4833\n",
      "Epoch 77/100\n",
      "4/4 [==============================] - 0s 12ms/step - loss: 0.0819 - accuracy: 0.9539 - val_loss: 2.2290 - val_accuracy: 0.5083\n",
      "Epoch 78/100\n",
      "4/4 [==============================] - 0s 10ms/step - loss: 0.0807 - accuracy: 0.9644 - val_loss: 2.3010 - val_accuracy: 0.5083\n",
      "Epoch 79/100\n",
      "4/4 [==============================] - 0s 9ms/step - loss: 0.0828 - accuracy: 0.9539 - val_loss: 2.3905 - val_accuracy: 0.5083\n",
      "Epoch 80/100\n",
      "4/4 [==============================] - 0s 11ms/step - loss: 0.0843 - accuracy: 0.9602 - val_loss: 2.4475 - val_accuracy: 0.5083\n",
      "Epoch 81/100\n",
      "4/4 [==============================] - 0s 11ms/step - loss: 0.0707 - accuracy: 0.9706 - val_loss: 2.4179 - val_accuracy: 0.4833\n",
      "Epoch 82/100\n",
      "4/4 [==============================] - 0s 12ms/step - loss: 0.0685 - accuracy: 0.9665 - val_loss: 2.3145 - val_accuracy: 0.5250\n",
      "Epoch 83/100\n",
      "4/4 [==============================] - 0s 10ms/step - loss: 0.0764 - accuracy: 0.9623 - val_loss: 2.3639 - val_accuracy: 0.5167\n",
      "Epoch 84/100\n",
      "4/4 [==============================] - 0s 11ms/step - loss: 0.0726 - accuracy: 0.9665 - val_loss: 2.4865 - val_accuracy: 0.4833\n",
      "Epoch 85/100\n",
      "4/4 [==============================] - 0s 12ms/step - loss: 0.0734 - accuracy: 0.9665 - val_loss: 2.4451 - val_accuracy: 0.5083\n",
      "Epoch 86/100\n",
      "4/4 [==============================] - 0s 11ms/step - loss: 0.0691 - accuracy: 0.9644 - val_loss: 2.4509 - val_accuracy: 0.5167\n",
      "Epoch 87/100\n",
      "4/4 [==============================] - 0s 12ms/step - loss: 0.0659 - accuracy: 0.9686 - val_loss: 2.4293 - val_accuracy: 0.5000\n",
      "Epoch 88/100\n",
      "4/4 [==============================] - 0s 10ms/step - loss: 0.0680 - accuracy: 0.9623 - val_loss: 2.4630 - val_accuracy: 0.5167\n",
      "Epoch 89/100\n",
      "4/4 [==============================] - 0s 11ms/step - loss: 0.0681 - accuracy: 0.9665 - val_loss: 2.4964 - val_accuracy: 0.5083\n",
      "Epoch 90/100\n",
      "4/4 [==============================] - 0s 11ms/step - loss: 0.0659 - accuracy: 0.9623 - val_loss: 2.5420 - val_accuracy: 0.5083\n",
      "Epoch 91/100\n",
      "4/4 [==============================] - 0s 10ms/step - loss: 0.0676 - accuracy: 0.9665 - val_loss: 2.4696 - val_accuracy: 0.5083\n",
      "Epoch 92/100\n",
      "4/4 [==============================] - 0s 11ms/step - loss: 0.0713 - accuracy: 0.9665 - val_loss: 2.4717 - val_accuracy: 0.5000\n",
      "Epoch 93/100\n",
      "4/4 [==============================] - 0s 10ms/step - loss: 0.0663 - accuracy: 0.9665 - val_loss: 2.5881 - val_accuracy: 0.4833\n",
      "Epoch 94/100\n",
      "4/4 [==============================] - 0s 11ms/step - loss: 0.0699 - accuracy: 0.9665 - val_loss: 2.5109 - val_accuracy: 0.5000\n",
      "Epoch 95/100\n",
      "4/4 [==============================] - ETA: 0s - loss: 0.0561 - accuracy: 0.96 - 0s 11ms/step - loss: 0.0624 - accuracy: 0.9644 - val_loss: 2.4794 - val_accuracy: 0.4917\n",
      "Epoch 96/100\n",
      "4/4 [==============================] - 0s 11ms/step - loss: 0.0763 - accuracy: 0.9665 - val_loss: 2.5503 - val_accuracy: 0.5167\n",
      "Epoch 97/100\n",
      "4/4 [==============================] - 0s 11ms/step - loss: 0.0621 - accuracy: 0.9686 - val_loss: 2.6050 - val_accuracy: 0.4833\n",
      "Epoch 98/100\n",
      "4/4 [==============================] - 0s 10ms/step - loss: 0.0606 - accuracy: 0.9686 - val_loss: 2.5670 - val_accuracy: 0.5083\n",
      "Epoch 99/100\n",
      "4/4 [==============================] - 0s 11ms/step - loss: 0.0669 - accuracy: 0.9727 - val_loss: 2.5490 - val_accuracy: 0.5000\n",
      "Epoch 100/100\n",
      "4/4 [==============================] - 0s 10ms/step - loss: 0.0711 - accuracy: 0.9644 - val_loss: 2.5717 - val_accuracy: 0.4833\n"
     ]
    }
   ],
   "source": [
    "history = model.fit(X_train,y_train,validation_data=(X_test,y_test),epochs=100,batch_size=128)"
   ]
  },
  {
   "cell_type": "code",
   "execution_count": 30,
   "metadata": {
    "pycharm": {
     "is_executing": true
    }
   },
   "outputs": [],
   "source": [
    "predict_x=model.predict(X_test) \n",
    "y_pred=np.argmax(predict_x,axis=1)"
   ]
  },
  {
   "cell_type": "code",
   "execution_count": 31,
   "metadata": {
    "pycharm": {
     "is_executing": true
    }
   },
   "outputs": [
    {
     "name": "stdout",
     "output_type": "stream",
     "text": [
      "4/4 - 0s - loss: 2.5717 - accuracy: 0.4833 - 14ms/epoch - 4ms/step\n"
     ]
    },
    {
     "data": {
      "image/png": "[encoded data removed]",
      "text/plain": [
       "<Figure size 432x288 with 1 Axes>"
      ]
     },
     "metadata": {
      "needs_background": "light"
     },
     "output_type": "display_data"
    }
   ],
   "source": [
    "plt.plot(history.history['accuracy'], label='accuracy')\n",
    "plt.plot(history.history['val_accuracy'], label = 'val_accuracy')\n",
    "plt.xlabel('Epoch')\n",
    "plt.ylabel('Accuracy')\n",
    "plt.legend(loc='lower right')\n",
    "\n",
    "test_loss, test_acc = model.evaluate(X_test, y_test, verbose=2)"
   ]
  },
  {
   "cell_type": "markdown",
   "metadata": {},
   "source": [
    "## save created model"
   ]
  },
  {
   "cell_type": "code",
   "execution_count": null,
   "metadata": {
    "pycharm": {
     "is_executing": true
    }
   },
   "outputs": [],
   "source": [
    "model.save('my_model.h5') "
   ]
  },
  {
   "cell_type": "code",
   "execution_count": null,
   "metadata": {
    "pycharm": {
     "is_executing": true
    }
   },
   "outputs": [],
   "source": []
  },
  {
   "cell_type": "code",
   "execution_count": null,
   "metadata": {
    "pycharm": {
     "is_executing": true
    }
   },
   "outputs": [],
   "source": [
    "scaler_filename = \"scaler.save\"\n",
    "joblib.dump(scaler, scaler_filename) "
   ]
  },
  {
   "cell_type": "code",
   "execution_count": null,
   "metadata": {
    "pycharm": {
     "is_executing": true
    }
   },
   "outputs": [],
   "source": []
  }
 ],
 "metadata": {
  "kernelspec": {
   "display_name": "Python 3 (ipykernel)",
   "language": "python",
   "name": "python3"
  },
  "language_info": {
   "codemirror_mode": {
    "name": "ipython",
    "version": 3
   },
   "file_extension": ".py",
   "mimetype": "text/x-python",
   "name": "python",
   "nbconvert_exporter": "python",
   "pygments_lexer": "ipython3",
   "version": "3.9.6"
  }
 },
 "nbformat": 4,
 "nbformat_minor": 1
}