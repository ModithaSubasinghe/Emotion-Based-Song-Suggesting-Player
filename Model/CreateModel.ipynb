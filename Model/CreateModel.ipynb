{
 "cells": [
  {
   "cell_type": "code",
   "execution_count": 1,
   "metadata": {},
   "outputs": [],
   "source": [
    "import pandas as pd\n",
    "import numpy as np\n",
    "from sklearn.model_selection import train_test_split\n",
    "from sklearn.preprocessing import LabelEncoder, StandardScaler\n",
    "from sklearn.metrics import accuracy_score\n",
    "import matplotlib.pyplot as plt\n",
    "import joblib"
   ]
  },
  {
   "cell_type": "code",
   "execution_count": 2,
   "metadata": {},
   "outputs": [],
   "source": [
    "import tensorflow\n",
    "from keras.models import Sequential\n",
    "from keras.layers import InputLayer,Dense,Flatten\n",
    "import keras.optimizers\n",
    "from imblearn.over_sampling import SMOTE"
   ]
  },
  {
   "cell_type": "code",
   "execution_count": 3,
   "metadata": {},
   "outputs": [
    {
     "data": {
      "text/plain": "   chroma_stft      rmse  spectral_centroid  spectral_bandwidth      rolloff  \\\n0     0.412998  0.155442        1491.688354         2075.824182  3184.355745   \n1     0.245947  0.054352        1355.436173         1593.794832  2316.702658   \n2     0.288459  0.104142        2780.992818         2734.300963  5996.347074   \n3     0.416686  0.104299        1956.403155         2367.232773  4151.241565   \n4     0.306054  0.025305         899.636430         1409.779893  1665.939926   \n\n   zero_crossing_rate       mfcc1       mfcc2      mfcc3      mfcc4  ...  \\\n0            0.045976 -218.810582  122.234486  27.920799  23.722941  ...   \n1            0.079156 -303.857916  135.956505   1.837915  -4.874345  ...   \n2            0.126230 -161.873294   68.848801   5.828112  11.746237  ...   \n3            0.082464 -232.575934   97.964434  50.036333  18.321141  ...   \n4            0.048648 -422.361991  166.701699  14.188575  34.022760  ...   \n\n     mfcc12     mfcc13    mfcc14     mfcc15    mfcc16    mfcc17    mfcc18  \\\n0  6.255844  -2.542397 -0.917639  -4.774317  1.211038 -0.386343  1.133951   \n1  0.263212  -5.682631 -5.087810  -4.466399  1.721484 -3.062391  1.726126   \n2 -4.743239 -10.335518 -4.159141 -13.455315 -3.056518 -1.854449  5.620204   \n3  3.257361  -3.996707 -0.013201  -4.564516 -0.299851 -4.393319  0.554737   \n4  4.226305  -3.073821 -0.164215  -3.138441 -0.325738 -6.829200 -2.746969   \n\n     mfcc19    mfcc20  label  \n0 -1.452190  1.454535  happy  \n1 -1.344901  1.373775  happy  \n2  5.784562  6.859507  happy  \n3 -0.721076  2.880039  happy  \n4 -4.609186  3.289205  happy  \n\n[5 rows x 27 columns]",
      "text/html": "<div>\n<style scoped>\n    .dataframe tbody tr th:only-of-type {\n        vertical-align: middle;\n    }\n\n    .dataframe tbody tr th {\n        vertical-align: top;\n    }\n\n    .dataframe thead th {\n        text-align: right;\n    }\n</style>\n<table border=\"1\" class=\"dataframe\">\n  <thead>\n    <tr style=\"text-align: right;\">\n      <th></th>\n      <th>chroma_stft</th>\n      <th>rmse</th>\n      <th>spectral_centroid</th>\n      <th>spectral_bandwidth</th>\n      <th>rolloff</th>\n      <th>zero_crossing_rate</th>\n      <th>mfcc1</th>\n      <th>mfcc2</th>\n      <th>mfcc3</th>\n      <th>mfcc4</th>\n      <th>...</th>\n      <th>mfcc12</th>\n      <th>mfcc13</th>\n      <th>mfcc14</th>\n      <th>mfcc15</th>\n      <th>mfcc16</th>\n      <th>mfcc17</th>\n      <th>mfcc18</th>\n      <th>mfcc19</th>\n      <th>mfcc20</th>\n      <th>label</th>\n    </tr>\n  </thead>\n  <tbody>\n    <tr>\n      <th>0</th>\n      <td>0.412998</td>\n      <td>0.155442</td>\n      <td>1491.688354</td>\n      <td>2075.824182</td>\n      <td>3184.355745</td>\n      <td>0.045976</td>\n      <td>-218.810582</td>\n      <td>122.234486</td>\n      <td>27.920799</td>\n      <td>23.722941</td>\n      <td>...</td>\n      <td>6.255844</td>\n      <td>-2.542397</td>\n      <td>-0.917639</td>\n      <td>-4.774317</td>\n      <td>1.211038</td>\n      <td>-0.386343</td>\n      <td>1.133951</td>\n      <td>-1.452190</td>\n      <td>1.454535</td>\n      <td>happy</td>\n    </tr>\n    <tr>\n      <th>1</th>\n      <td>0.245947</td>\n      <td>0.054352</td>\n      <td>1355.436173</td>\n      <td>1593.794832</td>\n      <td>2316.702658</td>\n      <td>0.079156</td>\n      <td>-303.857916</td>\n      <td>135.956505</td>\n      <td>1.837915</td>\n      <td>-4.874345</td>\n      <td>...</td>\n      <td>0.263212</td>\n      <td>-5.682631</td>\n      <td>-5.087810</td>\n      <td>-4.466399</td>\n      <td>1.721484</td>\n      <td>-3.062391</td>\n      <td>1.726126</td>\n      <td>-1.344901</td>\n      <td>1.373775</td>\n      <td>happy</td>\n    </tr>\n    <tr>\n      <th>2</th>\n      <td>0.288459</td>\n      <td>0.104142</td>\n      <td>2780.992818</td>\n      <td>2734.300963</td>\n      <td>5996.347074</td>\n      <td>0.126230</td>\n      <td>-161.873294</td>\n      <td>68.848801</td>\n      <td>5.828112</td>\n      <td>11.746237</td>\n      <td>...</td>\n      <td>-4.743239</td>\n      <td>-10.335518</td>\n      <td>-4.159141</td>\n      <td>-13.455315</td>\n      <td>-3.056518</td>\n      <td>-1.854449</td>\n      <td>5.620204</td>\n      <td>5.784562</td>\n      <td>6.859507</td>\n      <td>happy</td>\n    </tr>\n    <tr>\n      <th>3</th>\n      <td>0.416686</td>\n      <td>0.104299</td>\n      <td>1956.403155</td>\n      <td>2367.232773</td>\n      <td>4151.241565</td>\n      <td>0.082464</td>\n      <td>-232.575934</td>\n      <td>97.964434</td>\n      <td>50.036333</td>\n      <td>18.321141</td>\n      <td>...</td>\n      <td>3.257361</td>\n      <td>-3.996707</td>\n      <td>-0.013201</td>\n      <td>-4.564516</td>\n      <td>-0.299851</td>\n      <td>-4.393319</td>\n      <td>0.554737</td>\n      <td>-0.721076</td>\n      <td>2.880039</td>\n      <td>happy</td>\n    </tr>\n    <tr>\n      <th>4</th>\n      <td>0.306054</td>\n      <td>0.025305</td>\n      <td>899.636430</td>\n      <td>1409.779893</td>\n      <td>1665.939926</td>\n      <td>0.048648</td>\n      <td>-422.361991</td>\n      <td>166.701699</td>\n      <td>14.188575</td>\n      <td>34.022760</td>\n      <td>...</td>\n      <td>4.226305</td>\n      <td>-3.073821</td>\n      <td>-0.164215</td>\n      <td>-3.138441</td>\n      <td>-0.325738</td>\n      <td>-6.829200</td>\n      <td>-2.746969</td>\n      <td>-4.609186</td>\n      <td>3.289205</td>\n      <td>happy</td>\n    </tr>\n  </tbody>\n</table>\n<p>5 rows × 27 columns</p>\n</div>"
     },
     "execution_count": 3,
     "metadata": {},
     "output_type": "execute_result"
    }
   ],
   "source": [
    "data=pd.read_csv(\"Data_set.csv\")\n",
    "data.head()"
   ]
  },
  {
   "cell_type": "code",
   "execution_count": 4,
   "metadata": {},
   "outputs": [
    {
     "data": {
      "text/plain": "(600, 27)"
     },
     "execution_count": 4,
     "metadata": {},
     "output_type": "execute_result"
    }
   ],
   "source": [
    "data.shape"
   ]
  },
  {
   "cell_type": "code",
   "execution_count": 5,
   "metadata": {},
   "outputs": [],
   "source": [
    "data.drop_duplicates(inplace=True)"
   ]
  },
  {
   "cell_type": "markdown",
   "metadata": {},
   "source": [
    "## Splitting data into traning & testing"
   ]
  },
  {
   "cell_type": "code",
   "execution_count": 6,
   "metadata": {},
   "outputs": [],
   "source": [
    "x=data.iloc[:,:26]\n",
    "label=data.iloc[:,26]"
   ]
  },
  {
   "cell_type": "code",
   "execution_count": 7,
   "metadata": {},
   "outputs": [],
   "source": [
    "smt=SMOTE()\n",
    "xb,yb=smt.fit_resample(x,label)"
   ]
  },
  {
   "cell_type": "code",
   "execution_count": 8,
   "metadata": {},
   "outputs": [],
   "source": [
    "le=LabelEncoder()\n",
    "scaler=StandardScaler()\n",
    "\n",
    "y=le.fit_transform(yb)\n",
    "X=scaler.fit_transform(xb)"
   ]
  },
  {
   "cell_type": "code",
   "execution_count": 9,
   "metadata": {},
   "outputs": [],
   "source": [
    "X_train, X_test, y_train, y_test = train_test_split(X, y, test_size=0.2)"
   ]
  },
  {
   "cell_type": "markdown",
   "metadata": {},
   "source": [
    "## Defining the architecture of the model"
   ]
  },
  {
   "cell_type": "code",
   "execution_count": 10,
   "metadata": {},
   "outputs": [],
   "source": [
    "model = Sequential()\n",
    "model.add(Dense(256, activation='relu', input_shape=(X_train.shape[1],)))\n",
    "model.add(Dense(128, activation='relu'))\n",
    "model.add(Dense(64, activation='relu'))\n",
    "model.add(Dense(3, activation='softmax'))\n"
   ]
  },
  {
   "cell_type": "code",
   "execution_count": 11,
   "metadata": {},
   "outputs": [
    {
     "name": "stdout",
     "output_type": "stream",
     "text": [
      "Model: \"sequential\"\n",
      "_________________________________________________________________\n",
      " Layer (type)                Output Shape              Param #   \n",
      "=================================================================\n",
      " dense (Dense)               (None, 256)               6912      \n",
      "                                                                 \n",
      " dense_1 (Dense)             (None, 128)               32896     \n",
      "                                                                 \n",
      " dense_2 (Dense)             (None, 64)                8256      \n",
      "                                                                 \n",
      " dense_3 (Dense)             (None, 3)                 195       \n",
      "                                                                 \n",
      "=================================================================\n",
      "Total params: 48,259\n",
      "Trainable params: 48,259\n",
      "Non-trainable params: 0\n",
      "_________________________________________________________________\n"
     ]
    }
   ],
   "source": [
    "model.summary()"
   ]
  },
  {
   "cell_type": "code",
   "execution_count": 12,
   "metadata": {},
   "outputs": [],
   "source": [
    "model.compile(optimizer='adam',\n",
    "              loss='sparse_categorical_crossentropy',\n",
    "              metrics=['accuracy'])"
   ]
  },
  {
   "cell_type": "code",
   "execution_count": 13,
   "metadata": {},
   "outputs": [
    {
     "name": "stdout",
     "output_type": "stream",
     "text": [
      "Epoch 1/100\n",
      "4/4 [==============================] - 1s 68ms/step - loss: 1.0666 - accuracy: 0.3836 - val_loss: 0.9865 - val_accuracy: 0.4500\b\b\b\b\b\b\b\b\b\b\b\b\b\b\b\b\b\b\b\b\b\b\b\b\b\b\b\b\b\b\b\b\b\n",
      "Epoch 2/100\n",
      "4/4 [==============================] - 0s 14ms/step - loss: 0.9527 - accuracy: 0.5577 - val_loss: 0.9482 - val_accuracy: 0.5167\b\b\b\b\b\b\b\b\b\b\b\b\b\b\b\b\b\b\b\b\b\b\b\b\b\b\b\b\b\b\b\b\b\n",
      "Epoch 3/100\n",
      "4/4 [==============================] - 0s 12ms/step - loss: 0.8901 - accuracy: 0.5849 - val_loss: 0.9090 - val_accuracy: 0.4833\b\b\b\b\b\b\b\b\b\b\b\b\b\b\b\b\b\b\b\b\b\b\b\b\b\b\b\b\b\b\b\b\b\n",
      "Epoch 4/100\n",
      "4/4 [==============================] - 0s 11ms/step - loss: 0.8478 - accuracy: 0.6080 - val_loss: 0.8891 - val_accuracy: 0.5167\b\b\b\b\b\b\b\b\b\b\b\b\b\b\b\b\b\b\b\b\b\b\b\b\b\b\b\b\b\b\b\b\b\n",
      "Epoch 5/100\n",
      "4/4 [==============================] - 0s 11ms/step - loss: 0.8221 - accuracy: 0.6205 - val_loss: 0.8849 - val_accuracy: 0.5083\b\b\b\b\b\b\b\b\b\b\b\b\b\b\b\b\b\b\b\b\b\b\b\b\b\b\b\b\b\b\b\b\b\n",
      "Epoch 6/100\n",
      "4/4 [==============================] - 0s 12ms/step - loss: 0.7901 - accuracy: 0.6562 - val_loss: 0.8936 - val_accuracy: 0.5000\b\b\b\b\b\b\b\b\b\b\b\b\b\b\b\b\b\b\b\b\b\b\b\b\b\b\b\b\b\b\b\b\b\n",
      "Epoch 7/100\n",
      "4/4 [==============================] - 0s 10ms/step - loss: 0.7669 - accuracy: 0.6583 - val_loss: 0.8941 - val_accuracy: 0.5000\b\b\b\b\b\b\b\b\b\b\b\b\b\b\b\b\b\b\b\b\b\b\b\b\b\b\b\b\b\b\b\b\b\n",
      "Epoch 8/100\n",
      "4/4 [==============================] - 0s 11ms/step - loss: 0.7372 - accuracy: 0.6855 - val_loss: 0.9142 - val_accuracy: 0.5000\b\b\b\b\b\b\b\b\b\b\b\b\b\b\b\b\b\b\b\b\b\b\b\b\b\b\b\b\b\b\b\b\b\n",
      "Epoch 9/100\n",
      "4/4 [==============================] - 0s 10ms/step - loss: 0.7139 - accuracy: 0.6981 - val_loss: 0.9283 - val_accuracy: 0.4917\b\b\b\b\b\b\b\b\b\b\b\b\b\b\b\b\b\b\b\b\b\b\b\b\b\b\b\b\b\b\b\b\b\n",
      "Epoch 10/100\n",
      "4/4 [==============================] - 0s 11ms/step - loss: 0.6883 - accuracy: 0.7212 - val_loss: 0.9134 - val_accuracy: 0.5083\b\b\b\b\b\b\b\b\b\b\b\b\b\b\b\b\b\b\b\b\b\b\b\b\b\b\b\b\b\b\b\b\b\n",
      "Epoch 11/100\n",
      "4/4 [==============================] - 0s 10ms/step - loss: 0.6637 - accuracy: 0.7296 - val_loss: 0.9342 - val_accuracy: 0.5083\b\b\b\b\b\b\b\b\b\b\b\b\b\b\b\b\b\b\b\b\b\b\b\b\b\b\b\b\b\b\b\b\b\n",
      "Epoch 12/100\n",
      "4/4 [==============================] - 0s 12ms/step - loss: 0.6375 - accuracy: 0.7589 - val_loss: 0.9439 - val_accuracy: 0.5417\b\b\b\b\b\b\b\b\b\b\b\b\b\b\b\b\b\b\b\b\b\b\b\b\b\b\b\b\b\b\b\b\b\n",
      "Epoch 13/100\n",
      "4/4 [==============================] - ETA: 0s - loss: 0.6302 - accuracy: 0.7188\b\b\b\b\b\b\b\b\b\b\b\b\b\b\b\b\b\b\b\b\b\b\b\b\b\b\b\b\b\b\b\b\b\b\b\b\b\b\b\b\b\b\b\b\b\b\b\b\b\b\b\b\b\b\b\b\b\b\b\b\b\b\b\b\b\b\b\b\b\b\b\b\b\b\b\b\b\b\b\b - 0s 11ms/step - loss: 0.6098 - accuracy: 0.7673 - val_loss: 0.9383 - val_accuracy: 0.5083\n",
      "Epoch 14/100\n",
      "4/4 [==============================] - 0s 10ms/step - loss: 0.5864 - accuracy: 0.7757 - val_loss: 0.9580 - val_accuracy: 0.5417\b\b\b\b\b\b\b\b\b\b\b\b\b\b\b\b\b\b\b\b\b\b\b\b\b\b\b\b\b\b\b\b\b\n",
      "Epoch 15/100\n",
      "4/4 [==============================] - 0s 9ms/step - loss: 0.5618 - accuracy: 0.8008 - val_loss: 0.9722 - val_accuracy: 0.5333\b\b\b\b\b\b\b\b\b\b\b\b\b\b\b\b\b\b\b\b\b\b\b\b\b\b\b\b\b\b\b\b\b\b\n",
      "Epoch 16/100\n",
      "4/4 [==============================] - 0s 9ms/step - loss: 0.5387 - accuracy: 0.7925 - val_loss: 1.0023 - val_accuracy: 0.5333\b\b\b\b\b\b\b\b\b\b\b\b\b\b\b\b\b\b\b\b\b\b\b\b\b\b\b\b\b\b\b\b\b\b\n",
      "Epoch 17/100\n",
      "4/4 [==============================] - 0s 9ms/step - loss: 0.5167 - accuracy: 0.8050 - val_loss: 0.9978 - val_accuracy: 0.5000\b\b\b\b\b\b\b\b\b\b\b\b\b\b\b\b\b\b\b\b\b\b\b\b\b\b\b\b\b\b\b\b\b\b\n",
      "Epoch 18/100\n",
      "4/4 [==============================] - 0s 9ms/step - loss: 0.4980 - accuracy: 0.8071 - val_loss: 1.0144 - val_accuracy: 0.5000\b\b\b\b\b\b\b\b\b\b\b\b\b\b\b\b\b\b\b\b\b\b\b\b\b\b\b\b\b\b\b\b\b\b\n",
      "Epoch 19/100\n",
      "4/4 [==============================] - 0s 10ms/step - loss: 0.4740 - accuracy: 0.8197 - val_loss: 1.0769 - val_accuracy: 0.4917\b\b\b\b\b\b\b\b\b\b\b\b\b\b\b\b\b\b\b\b\b\b\b\b\b\b\b\b\b\b\b\b\b\n",
      "Epoch 20/100\n",
      "4/4 [==============================] - 0s 9ms/step - loss: 0.4420 - accuracy: 0.8344 - val_loss: 1.0506 - val_accuracy: 0.5083\b\b\b\b\b\b\b\b\b\b\b\b\b\b\b\b\b\b\b\b\b\b\b\b\b\b\b\b\b\b\b\b\b\b\n",
      "Epoch 21/100\n",
      "4/4 [==============================] - 0s 9ms/step - loss: 0.4238 - accuracy: 0.8512 - val_loss: 1.1057 - val_accuracy: 0.5000\b\b\b\b\b\b\b\b\b\b\b\b\b\b\b\b\b\b\b\b\b\b\b\b\b\b\b\b\b\b\b\b\b\b\n",
      "Epoch 22/100\n",
      "4/4 [==============================] - 0s 8ms/step - loss: 0.4029 - accuracy: 0.8616 - val_loss: 1.1020 - val_accuracy: 0.5000\b\b\b\b\b\b\b\b\b\b\b\b\b\b\b\b\b\b\b\b\b\b\b\b\b\b\b\b\b\b\b\b\b\b\n",
      "Epoch 23/100\n",
      "4/4 [==============================] - 0s 10ms/step - loss: 0.3815 - accuracy: 0.8679 - val_loss: 1.1186 - val_accuracy: 0.5083\b\b\b\b\b\b\b\b\b\b\b\b\b\b\b\b\b\b\b\b\b\b\b\b\b\b\b\b\b\b\b\b\b\n",
      "Epoch 24/100\n",
      "4/4 [==============================] - 0s 10ms/step - loss: 0.3534 - accuracy: 0.8889 - val_loss: 1.2021 - val_accuracy: 0.4667\b\b\b\b\b\b\b\b\b\b\b\b\b\b\b\b\b\b\b\b\b\b\b\b\b\b\b\b\b\b\b\b\b\n",
      "Epoch 25/100\n",
      "4/4 [==============================] - 0s 11ms/step - loss: 0.3403 - accuracy: 0.8868 - val_loss: 1.1717 - val_accuracy: 0.4833\b\b\b\b\b\b\b\b\b\b\b\b\b\b\b\b\b\b\b\b\b\b\b\b\b\b\b\b\b\b\b\b\b\n",
      "Epoch 26/100\n",
      "4/4 [==============================] - 0s 14ms/step - loss: 0.3137 - accuracy: 0.8973 - val_loss: 1.2275 - val_accuracy: 0.4833\b\b\b\b\b\b\b\b\b\b\b\b\b\b\b\b\b\b\b\b\b\b\b\b\b\b\b\b\b\b\b\b\b\n",
      "Epoch 27/100\n",
      "4/4 [==============================] - 0s 10ms/step - loss: 0.2965 - accuracy: 0.9057 - val_loss: 1.2357 - val_accuracy: 0.4667\b\b\b\b\b\b\b\b\b\b\b\b\b\b\b\b\b\b\b\b\b\b\b\b\b\b\b\b\b\b\b\b\b\n",
      "Epoch 28/100\n",
      "4/4 [==============================] - 0s 10ms/step - loss: 0.2769 - accuracy: 0.9057 - val_loss: 1.2566 - val_accuracy: 0.4667\b\b\b\b\b\b\b\b\b\b\b\b\b\b\b\b\b\b\b\b\b\b\b\b\b\b\b\b\b\b\b\b\b\n",
      "Epoch 29/100\n",
      "4/4 [==============================] - 0s 9ms/step - loss: 0.2613 - accuracy: 0.9266 - val_loss: 1.3097 - val_accuracy: 0.4917\b\b\b\b\b\b\b\b\b\b\b\b\b\b\b\b\b\b\b\b\b\b\b\b\b\b\b\b\b\b\b\b\b\b\n",
      "Epoch 30/100\n",
      "4/4 [==============================] - 0s 10ms/step - loss: 0.2407 - accuracy: 0.9308 - val_loss: 1.3536 - val_accuracy: 0.4667\b\b\b\b\b\b\b\b\b\b\b\b\b\b\b\b\b\b\b\b\b\b\b\b\b\b\b\b\b\b\b\b\b\n",
      "Epoch 31/100\n",
      "4/4 [==============================] - 0s 10ms/step - loss: 0.2294 - accuracy: 0.9308 - val_loss: 1.3665 - val_accuracy: 0.4833\b\b\b\b\b\b\b\b\b\b\b\b\b\b\b\b\b\b\b\b\b\b\b\b\b\b\b\b\b\b\b\b\b\n",
      "Epoch 32/100\n",
      "4/4 [==============================] - 0s 10ms/step - loss: 0.2113 - accuracy: 0.9329 - val_loss: 1.4268 - val_accuracy: 0.4750\b\b\b\b\b\b\b\b\b\b\b\b\b\b\b\b\b\b\b\b\b\b\b\b\b\b\b\b\b\b\b\b\b\n",
      "Epoch 33/100\n",
      "4/4 [==============================] - 0s 9ms/step - loss: 0.1987 - accuracy: 0.9434 - val_loss: 1.4278 - val_accuracy: 0.4833\b\b\b\b\b\b\b\b\b\b\b\b\b\b\b\b\b\b\b\b\b\b\b\b\b\b\b\b\b\b\b\b\b\b\n",
      "Epoch 34/100\n",
      "4/4 [==============================] - 0s 9ms/step - loss: 0.1863 - accuracy: 0.9413 - val_loss: 1.4730 - val_accuracy: 0.4917\b\b\b\b\b\b\b\b\b\b\b\b\b\b\b\b\b\b\b\b\b\b\b\b\b\b\b\b\b\b\b\b\b\b\n",
      "Epoch 35/100\n",
      "4/4 [==============================] - 0s 10ms/step - loss: 0.1718 - accuracy: 0.9581 - val_loss: 1.5042 - val_accuracy: 0.4667\b\b\b\b\b\b\b\b\b\b\b\b\b\b\b\b\b\b\b\b\b\b\b\b\b\b\b\b\b\b\b\b\b\n",
      "Epoch 36/100\n",
      "4/4 [==============================] - 0s 11ms/step - loss: 0.1654 - accuracy: 0.9518 - val_loss: 1.5732 - val_accuracy: 0.5000\b\b\b\b\b\b\b\b\b\b\b\b\b\b\b\b\b\b\b\b\b\b\b\b\b\b\b\b\b\b\b\b\b\n",
      "Epoch 37/100\n",
      "4/4 [==============================] - 0s 9ms/step - loss: 0.1510 - accuracy: 0.9560 - val_loss: 1.5835 - val_accuracy: 0.4917\b\b\b\b\b\b\b\b\b\b\b\b\b\b\b\b\b\b\b\b\b\b\b\b\b\b\b\b\b\b\b\b\b\b\n",
      "Epoch 38/100\n",
      "4/4 [==============================] - 0s 14ms/step - loss: 0.1399 - accuracy: 0.9623 - val_loss: 1.6267 - val_accuracy: 0.5000\b\b\b\b\b\b\b\b\b\b\b\b\b\b\b\b\b\b\b\b\b\b\b\b\b\b\b\b\b\b\b\b\b\n",
      "Epoch 39/100\n",
      "4/4 [==============================] - 0s 10ms/step - loss: 0.1347 - accuracy: 0.9560 - val_loss: 1.6447 - val_accuracy: 0.4917\b\b\b\b\b\b\b\b\b\b\b\b\b\b\b\b\b\b\b\b\b\b\b\b\b\b\b\b\b\b\b\b\b\n",
      "Epoch 40/100\n",
      "4/4 [==============================] - 0s 11ms/step - loss: 0.1229 - accuracy: 0.9727 - val_loss: 1.7292 - val_accuracy: 0.4833\b\b\b\b\b\b\b\b\b\b\b\b\b\b\b\b\b\b\b\b\b\b\b\b\b\b\b\b\b\b\b\b\b\n",
      "Epoch 41/100\n",
      "4/4 [==============================] - 0s 11ms/step - loss: 0.1232 - accuracy: 0.9539 - val_loss: 1.7422 - val_accuracy: 0.4750\b\b\b\b\b\b\b\b\b\b\b\b\b\b\b\b\b\b\b\b\b\b\b\b\b\b\b\b\b\b\b\b\b\n",
      "Epoch 42/100\n",
      "4/4 [==============================] - 0s 10ms/step - loss: 0.1131 - accuracy: 0.9623 - val_loss: 1.7807 - val_accuracy: 0.4833\b\b\b\b\b\b\b\b\b\b\b\b\b\b\b\b\b\b\b\b\b\b\b\b\b\b\b\b\b\b\b\b\b\n",
      "Epoch 43/100\n",
      "4/4 [==============================] - 0s 13ms/step - loss: 0.1066 - accuracy: 0.9581 - val_loss: 1.7899 - val_accuracy: 0.4917\b\b\b\b\b\b\b\b\b\b\b\b\b\b\b\b\b\b\b\b\b\b\b\b\b\b\b\b\b\b\b\b\b\n",
      "Epoch 44/100\n",
      "4/4 [==============================] - 0s 10ms/step - loss: 0.1061 - accuracy: 0.9539 - val_loss: 1.7910 - val_accuracy: 0.5083\b\b\b\b\b\b\b\b\b\b\b\b\b\b\b\b\b\b\b\b\b\b\b\b\b\b\b\b\b\b\b\b\b\n",
      "Epoch 45/100\n",
      "4/4 [==============================] - 0s 9ms/step - loss: 0.1026 - accuracy: 0.9644 - val_loss: 1.8776 - val_accuracy: 0.4750\b\b\b\b\b\b\b\b\b\b\b\b\b\b\b\b\b\b\b\b\b\b\b\b\b\b\b\b\b\b\b\b\b\b\n",
      "Epoch 46/100\n",
      "4/4 [==============================] - 0s 9ms/step - loss: 0.0945 - accuracy: 0.9686 - val_loss: 1.9453 - val_accuracy: 0.4833\b\b\b\b\b\b\b\b\b\b\b\b\b\b\b\b\b\b\b\b\b\b\b\b\b\b\b\b\b\b\b\b\b\b\n",
      "Epoch 47/100\n",
      "4/4 [==============================] - 0s 9ms/step - loss: 0.0938 - accuracy: 0.9686 - val_loss: 1.9272 - val_accuracy: 0.4917\b\b\b\b\b\b\b\b\b\b\b\b\b\b\b\b\b\b\b\b\b\b\b\b\b\b\b\b\b\b\b\b\b\b\n",
      "Epoch 48/100\n",
      "4/4 [==============================] - 0s 10ms/step - loss: 0.0903 - accuracy: 0.9727 - val_loss: 1.9794 - val_accuracy: 0.4833\b\b\b\b\b\b\b\b\b\b\b\b\b\b\b\b\b\b\b\b\b\b\b\b\b\b\b\b\b\b\b\b\b\n",
      "Epoch 49/100\n",
      "4/4 [==============================] - 0s 10ms/step - loss: 0.0859 - accuracy: 0.9665 - val_loss: 1.9420 - val_accuracy: 0.4750\b\b\b\b\b\b\b\b\b\b\b\b\b\b\b\b\b\b\b\b\b\b\b\b\b\b\b\b\b\b\b\b\b\n",
      "Epoch 50/100\n",
      "4/4 [==============================] - 0s 13ms/step - loss: 0.0847 - accuracy: 0.9706 - val_loss: 1.9968 - val_accuracy: 0.4750\b\b\b\b\b\b\b\b\b\b\b\b\b\b\b\b\b\b\b\b\b\b\b\b\b\b\b\b\b\b\b\b\b\n",
      "Epoch 51/100\n",
      "4/4 [==============================] - 0s 9ms/step - loss: 0.0823 - accuracy: 0.9686 - val_loss: 2.0680 - val_accuracy: 0.4917\b\b\b\b\b\b\b\b\b\b\b\b\b\b\b\b\b\b\b\b\b\b\b\b\b\b\b\b\b\b\b\b\b\b\n",
      "Epoch 52/100\n",
      "4/4 [==============================] - 0s 9ms/step - loss: 0.0741 - accuracy: 0.9727 - val_loss: 1.9911 - val_accuracy: 0.4833\b\b\b\b\b\b\b\b\b\b\b\b\b\b\b\b\b\b\b\b\b\b\b\b\b\b\b\b\b\b\b\b\b\b\n",
      "Epoch 53/100\n",
      "4/4 [==============================] - 0s 9ms/step - loss: 0.0808 - accuracy: 0.9602 - val_loss: 2.1069 - val_accuracy: 0.4750\b\b\b\b\b\b\b\b\b\b\b\b\b\b\b\b\b\b\b\b\b\b\b\b\b\b\b\b\b\b\b\b\b\b\n",
      "Epoch 54/100\n",
      "4/4 [==============================] - 0s 9ms/step - loss: 0.0731 - accuracy: 0.9727 - val_loss: 2.1596 - val_accuracy: 0.4750\b\b\b\b\b\b\b\b\b\b\b\b\b\b\b\b\b\b\b\b\b\b\b\b\b\b\b\b\b\b\b\b\b\b\n",
      "Epoch 55/100\n",
      "4/4 [==============================] - 0s 9ms/step - loss: 0.0733 - accuracy: 0.9706 - val_loss: 2.1535 - val_accuracy: 0.4750\b\b\b\b\b\b\b\b\b\b\b\b\b\b\b\b\b\b\b\b\b\b\b\b\b\b\b\b\b\b\b\b\b\b\n",
      "Epoch 56/100\n",
      "4/4 [==============================] - 0s 11ms/step - loss: 0.0700 - accuracy: 0.9727 - val_loss: 2.2022 - val_accuracy: 0.4750\b\b\b\b\b\b\b\b\b\b\b\b\b\b\b\b\b\b\b\b\b\b\b\b\b\b\b\b\b\b\b\b\b\n",
      "Epoch 57/100\n",
      "4/4 [==============================] - 0s 12ms/step - loss: 0.0691 - accuracy: 0.9706 - val_loss: 2.1614 - val_accuracy: 0.4583\b\b\b\b\b\b\b\b\b\b\b\b\b\b\b\b\b\b\b\b\b\b\b\b\b\b\b\b\b\b\b\b\b\n",
      "Epoch 58/100\n",
      "4/4 [==============================] - 0s 11ms/step - loss: 0.0739 - accuracy: 0.9665 - val_loss: 2.2500 - val_accuracy: 0.4750\b\b\b\b\b\b\b\b\b\b\b\b\b\b\b\b\b\b\b\b\b\b\b\b\b\b\b\b\b\b\b\b\b\n",
      "Epoch 59/100\n",
      "4/4 [==============================] - 0s 10ms/step - loss: 0.0646 - accuracy: 0.9727 - val_loss: 2.2056 - val_accuracy: 0.4833\b\b\b\b\b\b\b\b\b\b\b\b\b\b\b\b\b\b\b\b\b\b\b\b\b\b\b\b\b\b\b\b\b\n",
      "Epoch 60/100\n",
      "4/4 [==============================] - 0s 9ms/step - loss: 0.0729 - accuracy: 0.9665 - val_loss: 2.2491 - val_accuracy: 0.4917\b\b\b\b\b\b\b\b\b\b\b\b\b\b\b\b\b\b\b\b\b\b\b\b\b\b\b\b\b\b\b\b\b\b\n",
      "Epoch 61/100\n",
      "4/4 [==============================] - 0s 9ms/step - loss: 0.0836 - accuracy: 0.9644 - val_loss: 2.3354 - val_accuracy: 0.4833\b\b\b\b\b\b\b\b\b\b\b\b\b\b\b\b\b\b\b\b\b\b\b\b\b\b\b\b\b\b\b\b\b\b\n",
      "Epoch 62/100\n",
      "4/4 [==============================] - 0s 10ms/step - loss: 0.0711 - accuracy: 0.9644 - val_loss: 2.1994 - val_accuracy: 0.4750\b\b\b\b\b\b\b\b\b\b\b\b\b\b\b\b\b\b\b\b\b\b\b\b\b\b\b\b\b\b\b\b\b\n",
      "Epoch 63/100\n",
      "4/4 [==============================] - 0s 12ms/step - loss: 0.0717 - accuracy: 0.9581 - val_loss: 2.3071 - val_accuracy: 0.4917\b\b\b\b\b\b\b\b\b\b\b\b\b\b\b\b\b\b\b\b\b\b\b\b\b\b\b\b\b\b\b\b\b\n",
      "Epoch 64/100\n",
      "4/4 [==============================] - 0s 9ms/step - loss: 0.0771 - accuracy: 0.9706 - val_loss: 2.3520 - val_accuracy: 0.4833\b\b\b\b\b\b\b\b\b\b\b\b\b\b\b\b\b\b\b\b\b\b\b\b\b\b\b\b\b\b\b\b\b\b\n",
      "Epoch 65/100\n",
      "4/4 [==============================] - 0s 9ms/step - loss: 0.0739 - accuracy: 0.9644 - val_loss: 2.3301 - val_accuracy: 0.4750\b\b\b\b\b\b\b\b\b\b\b\b\b\b\b\b\b\b\b\b\b\b\b\b\b\b\b\b\b\b\b\b\b\b\n",
      "Epoch 66/100\n",
      "4/4 [==============================] - 0s 8ms/step - loss: 0.0831 - accuracy: 0.9602 - val_loss: 2.2968 - val_accuracy: 0.4833\b\b\b\b\b\b\b\b\b\b\b\b\b\b\b\b\b\b\b\b\b\b\b\b\b\b\b\b\b\b\b\b\b\b\n",
      "Epoch 67/100\n",
      "4/4 [==============================] - 0s 8ms/step - loss: 0.0658 - accuracy: 0.9623 - val_loss: 2.4117 - val_accuracy: 0.4417\b\b\b\b\b\b\b\b\b\b\b\b\b\b\b\b\b\b\b\b\b\b\b\b\b\b\b\b\b\b\b\b\b\b\n",
      "Epoch 68/100\n",
      "4/4 [==============================] - 0s 8ms/step - loss: 0.0758 - accuracy: 0.9686 - val_loss: 2.3236 - val_accuracy: 0.4917\b\b\b\b\b\b\b\b\b\b\b\b\b\b\b\b\b\b\b\b\b\b\b\b\b\b\b\b\b\b\b\b\b\b\n",
      "Epoch 69/100\n",
      "4/4 [==============================] - 0s 13ms/step - loss: 0.0595 - accuracy: 0.9686 - val_loss: 2.3905 - val_accuracy: 0.4750\b\b\b\b\b\b\b\b\b\b\b\b\b\b\b\b\b\b\b\b\b\b\b\b\b\b\b\b\b\b\b\b\b\n",
      "Epoch 70/100\n",
      "4/4 [==============================] - 0s 9ms/step - loss: 0.0650 - accuracy: 0.9727 - val_loss: 2.3220 - val_accuracy: 0.5000\b\b\b\b\b\b\b\b\b\b\b\b\b\b\b\b\b\b\b\b\b\b\b\b\b\b\b\b\b\b\b\b\b\b\n",
      "Epoch 71/100\n",
      "4/4 [==============================] - 0s 9ms/step - loss: 0.0644 - accuracy: 0.9686 - val_loss: 2.4197 - val_accuracy: 0.4750\b\b\b\b\b\b\b\b\b\b\b\b\b\b\b\b\b\b\b\b\b\b\b\b\b\b\b\b\b\b\b\b\b\b\n",
      "Epoch 72/100\n",
      "4/4 [==============================] - 0s 9ms/step - loss: 0.0586 - accuracy: 0.9686 - val_loss: 2.4494 - val_accuracy: 0.4750\b\b\b\b\b\b\b\b\b\b\b\b\b\b\b\b\b\b\b\b\b\b\b\b\b\b\b\b\b\b\b\b\b\b\n",
      "Epoch 73/100\n",
      "4/4 [==============================] - 0s 9ms/step - loss: 0.0590 - accuracy: 0.9706 - val_loss: 2.4097 - val_accuracy: 0.5000\b\b\b\b\b\b\b\b\b\b\b\b\b\b\b\b\b\b\b\b\b\b\b\b\b\b\b\b\b\b\b\b\b\b\n",
      "Epoch 74/100\n",
      "4/4 [==============================] - 0s 10ms/step - loss: 0.0623 - accuracy: 0.9706 - val_loss: 2.4462 - val_accuracy: 0.4500\b\b\b\b\b\b\b\b\b\b\b\b\b\b\b\b\b\b\b\b\b\b\b\b\b\b\b\b\b\b\b\b\b\n",
      "Epoch 75/100\n",
      "4/4 [==============================] - 0s 9ms/step - loss: 0.0742 - accuracy: 0.9706 - val_loss: 2.5321 - val_accuracy: 0.5000\b\b\b\b\b\b\b\b\b\b\b\b\b\b\b\b\b\b\b\b\b\b\b\b\b\b\b\b\b\b\b\b\b\b\n",
      "Epoch 76/100\n",
      "4/4 [==============================] - 0s 12ms/step - loss: 0.0764 - accuracy: 0.9623 - val_loss: 2.4630 - val_accuracy: 0.4917\b\b\b\b\b\b\b\b\b\b\b\b\b\b\b\b\b\b\b\b\b\b\b\b\b\b\b\b\b\b\b\b\b\n",
      "Epoch 77/100\n",
      "4/4 [==============================] - 0s 13ms/step - loss: 0.0667 - accuracy: 0.9686 - val_loss: 2.5914 - val_accuracy: 0.4417\b\b\b\b\b\b\b\b\b\b\b\b\b\b\b\b\b\b\b\b\b\b\b\b\b\b\b\b\b\b\b\b\b\n",
      "Epoch 78/100\n",
      "4/4 [==============================] - 0s 9ms/step - loss: 0.0839 - accuracy: 0.9602 - val_loss: 2.4837 - val_accuracy: 0.4833\b\b\b\b\b\b\b\b\b\b\b\b\b\b\b\b\b\b\b\b\b\b\b\b\b\b\b\b\b\b\b\b\b\b\n",
      "Epoch 79/100\n",
      "4/4 [==============================] - 0s 9ms/step - loss: 0.0733 - accuracy: 0.9644 - val_loss: 2.4121 - val_accuracy: 0.4833\b\b\b\b\b\b\b\b\b\b\b\b\b\b\b\b\b\b\b\b\b\b\b\b\b\b\b\b\b\b\b\b\b\b\n",
      "Epoch 80/100\n",
      "4/4 [==============================] - 0s 9ms/step - loss: 0.0637 - accuracy: 0.9706 - val_loss: 2.6255 - val_accuracy: 0.4583\b\b\b\b\b\b\b\b\b\b\b\b\b\b\b\b\b\b\b\b\b\b\b\b\b\b\b\b\b\b\b\b\b\b\n",
      "Epoch 81/100\n",
      "4/4 [==============================] - 0s 9ms/step - loss: 0.0721 - accuracy: 0.9706 - val_loss: 2.5573 - val_accuracy: 0.5250\b\b\b\b\b\b\b\b\b\b\b\b\b\b\b\b\b\b\b\b\b\b\b\b\b\b\b\b\b\b\b\b\b\b\n",
      "Epoch 82/100\n",
      "4/4 [==============================] - 0s 9ms/step - loss: 0.0673 - accuracy: 0.9686 - val_loss: 2.4308 - val_accuracy: 0.4833\b\b\b\b\b\b\b\b\b\b\b\b\b\b\b\b\b\b\b\b\b\b\b\b\b\b\b\b\b\b\b\b\b\b\n",
      "Epoch 83/100\n",
      "4/4 [==============================] - 0s 13ms/step - loss: 0.0647 - accuracy: 0.9727 - val_loss: 2.5088 - val_accuracy: 0.4667\b\b\b\b\b\b\b\b\b\b\b\b\b\b\b\b\b\b\b\b\b\b\b\b\b\b\b\b\b\b\b\b\b\n",
      "Epoch 84/100\n",
      "4/4 [==============================] - 0s 9ms/step - loss: 0.0777 - accuracy: 0.9686 - val_loss: 2.6058 - val_accuracy: 0.4750\b\b\b\b\b\b\b\b\b\b\b\b\b\b\b\b\b\b\b\b\b\b\b\b\b\b\b\b\b\b\b\b\b\b\n",
      "Epoch 85/100\n",
      "4/4 [==============================] - 0s 9ms/step - loss: 0.0792 - accuracy: 0.9644 - val_loss: 2.5367 - val_accuracy: 0.4583\b\b\b\b\b\b\b\b\b\b\b\b\b\b\b\b\b\b\b\b\b\b\b\b\b\b\b\b\b\b\b\b\b\b\n",
      "Epoch 86/100\n",
      "4/4 [==============================] - 0s 9ms/step - loss: 0.0564 - accuracy: 0.9727 - val_loss: 2.6559 - val_accuracy: 0.4917\b\b\b\b\b\b\b\b\b\b\b\b\b\b\b\b\b\b\b\b\b\b\b\b\b\b\b\b\b\b\b\b\b\b\n",
      "Epoch 87/100\n",
      "4/4 [==============================] - 0s 9ms/step - loss: 0.0641 - accuracy: 0.9623 - val_loss: 2.6317 - val_accuracy: 0.4750\b\b\b\b\b\b\b\b\b\b\b\b\b\b\b\b\b\b\b\b\b\b\b\b\b\b\b\b\b\b\b\b\b\b\n",
      "Epoch 88/100\n",
      "4/4 [==============================] - 0s 9ms/step - loss: 0.0572 - accuracy: 0.9727 - val_loss: 2.5418 - val_accuracy: 0.4667\b\b\b\b\b\b\b\b\b\b\b\b\b\b\b\b\b\b\b\b\b\b\b\b\b\b\b\b\b\b\b\b\b\b\n",
      "Epoch 89/100\n",
      "4/4 [==============================] - 0s 11ms/step - loss: 0.0524 - accuracy: 0.9748 - val_loss: 2.6240 - val_accuracy: 0.4583\b\b\b\b\b\b\b\b\b\b\b\b\b\b\b\b\b\b\b\b\b\b\b\b\b\b\b\b\b\b\b\b\b\n",
      "Epoch 90/100\n",
      "4/4 [==============================] - 0s 11ms/step - loss: 0.0643 - accuracy: 0.9686 - val_loss: 2.6091 - val_accuracy: 0.4583\b\b\b\b\b\b\b\b\b\b\b\b\b\b\b\b\b\b\b\b\b\b\b\b\b\b\b\b\b\b\b\b\b\n",
      "Epoch 91/100\n",
      "4/4 [==============================] - 0s 9ms/step - loss: 0.0600 - accuracy: 0.9686 - val_loss: 2.5233 - val_accuracy: 0.4917\b\b\b\b\b\b\b\b\b\b\b\b\b\b\b\b\b\b\b\b\b\b\b\b\b\b\b\b\b\b\b\b\b\b\n",
      "Epoch 92/100\n",
      "4/4 [==============================] - 0s 11ms/step - loss: 0.0580 - accuracy: 0.9686 - val_loss: 2.6711 - val_accuracy: 0.4583\b\b\b\b\b\b\b\b\b\b\b\b\b\b\b\b\b\b\b\b\b\b\b\b\b\b\b\b\b\b\b\b\b\n",
      "Epoch 93/100\n",
      "4/4 [==============================] - 0s 9ms/step - loss: 0.0609 - accuracy: 0.9769 - val_loss: 2.6728 - val_accuracy: 0.5083\b\b\b\b\b\b\b\b\b\b\b\b\b\b\b\b\b\b\b\b\b\b\b\b\b\b\b\b\b\b\b\b\b\b\n",
      "Epoch 94/100\n",
      "4/4 [==============================] - 0s 9ms/step - loss: 0.0487 - accuracy: 0.9790 - val_loss: 2.6231 - val_accuracy: 0.4833\b\b\b\b\b\b\b\b\b\b\b\b\b\b\b\b\b\b\b\b\b\b\b\b\b\b\b\b\b\b\b\b\b\b\n",
      "Epoch 95/100\n",
      "4/4 [==============================] - 0s 14ms/step - loss: 0.0540 - accuracy: 0.9706 - val_loss: 2.6960 - val_accuracy: 0.4750\b\b\b\b\b\b\b\b\b\b\b\b\b\b\b\b\b\b\b\b\b\b\b\b\b\b\b\b\b\b\b\b\b\n",
      "Epoch 96/100\n",
      "4/4 [==============================] - 0s 14ms/step - loss: 0.0498 - accuracy: 0.9727 - val_loss: 2.6489 - val_accuracy: 0.4917\b\b\b\b\b\b\b\b\b\b\b\b\b\b\b\b\b\b\b\b\b\b\b\b\b\b\b\b\b\b\b\b\b\n",
      "Epoch 97/100\n",
      "4/4 [==============================] - 0s 9ms/step - loss: 0.0509 - accuracy: 0.9748 - val_loss: 2.6816 - val_accuracy: 0.4750\b\b\b\b\b\b\b\b\b\b\b\b\b\b\b\b\b\b\b\b\b\b\b\b\b\b\b\b\b\b\b\b\b\b\n",
      "Epoch 98/100\n",
      "4/4 [==============================] - 0s 9ms/step - loss: 0.0528 - accuracy: 0.9769 - val_loss: 2.6716 - val_accuracy: 0.4917\b\b\b\b\b\b\b\b\b\b\b\b\b\b\b\b\b\b\b\b\b\b\b\b\b\b\b\b\b\b\b\b\b\b\n",
      "Epoch 99/100\n",
      "4/4 [==============================] - 0s 9ms/step - loss: 0.0481 - accuracy: 0.9811 - val_loss: 2.6346 - val_accuracy: 0.5000\b\b\b\b\b\b\b\b\b\b\b\b\b\b\b\b\b\b\b\b\b\b\b\b\b\b\b\b\b\b\b\b\b\b\n",
      "Epoch 100/100\n",
      "4/4 [==============================] - 0s 9ms/step - loss: 0.0607 - accuracy: 0.9727 - val_loss: 2.7289 - val_accuracy: 0.4750\b\b\b\b\b\b\b\b\b\b\b\b\b\b\b\b\b\b\b\b\b\b\b\b\b\b\b\b\b\b\b\b\b\b\n"
     ]
    }
   ],
   "source": [
    "history = model.fit(X_train,y_train,validation_data=(X_test,y_test),epochs=100,batch_size=128)"
   ]
  },
  {
   "cell_type": "code",
   "execution_count": 14,
   "metadata": {},
   "outputs": [],
   "source": [
    "predict_x=model.predict(X_test) \n",
    "y_pred=np.argmax(predict_x,axis=1)"
   ]
  },
  {
   "cell_type": "code",
   "execution_count": 15,
   "metadata": {},
   "outputs": [
    {
     "name": "stdout",
     "output_type": "stream",
     "text": [
      "4/4 - 0s - loss: 2.7289 - accuracy: 0.4750 - 20ms/epoch - 5ms/step\n"
     ]
    },
    {
     "data": {
      "text/plain": "<Figure size 432x288 with 1 Axes>",
      "image/png": "[encoded data removed]"
     },
     "metadata": {
      "needs_background": "light"
     },
     "output_type": "display_data"
    }
   ],
   "source": [
    "plt.plot(history.history['accuracy'], label='accuracy')\n",
    "plt.plot(history.history['val_accuracy'], label = 'val_accuracy')\n",
    "plt.xlabel('Epoch')\n",
    "plt.ylabel('Accuracy')\n",
    "plt.legend(loc='lower right')\n",
    "\n",
    "test_loss, test_acc = model.evaluate(X_test, y_test, verbose=2)"
   ]
  },
  {
   "cell_type": "markdown",
   "metadata": {},
   "source": [
    "## save created model"
   ]
  },
  {
   "cell_type": "code",
   "execution_count": 16,
   "metadata": {},
   "outputs": [],
   "source": [
    "model.save('my_model.h5') "
   ]
  },
  {
   "cell_type": "code",
   "execution_count": 16,
   "metadata": {},
   "outputs": [],
   "source": []
  },
  {
   "cell_type": "code",
   "execution_count": 17,
   "metadata": {},
   "outputs": [
    {
     "data": {
      "text/plain": "['scaler.save']"
     },
     "execution_count": 17,
     "metadata": {},
     "output_type": "execute_result"
    }
   ],
   "source": [
    "scaler_filename = \"scaler.save\"\n",
    "joblib.dump(scaler, scaler_filename) "
   ]
  },
  {
   "cell_type": "code",
   "execution_count": 17,
   "metadata": {},
   "outputs": [],
   "source": []
  }
 ],
 "metadata": {
  "kernelspec": {
   "display_name": "Python 3 (ipykernel)",
   "language": "python",
   "name": "python3"
  },
  "language_info": {
   "codemirror_mode": {
    "name": "ipython",
    "version": 3
   },
   "file_extension": ".py",
   "mimetype": "text/x-python",
   "name": "python",
   "nbconvert_exporter": "python",
   "pygments_lexer": "ipython3",
   "version": "3.9.6"
  }
 },
 "nbformat": 4,
 "nbformat_minor": 1
}