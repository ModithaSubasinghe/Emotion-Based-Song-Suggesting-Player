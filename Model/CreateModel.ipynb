{
 "cells": [
  {
   "cell_type": "code",
   "execution_count": 1,
   "metadata": {
    "pycharm": {
     "is_executing": true
    }
   },
   "outputs": [],
   "source": [
    "import pandas as pd\n",
    "import numpy as np\n",
    "from sklearn.model_selection import train_test_split\n",
    "from sklearn.preprocessing import LabelEncoder, StandardScaler\n",
    "from sklearn.metrics import accuracy_score\n",
    "import matplotlib.pyplot as plt\n",
    "import joblib"
   ]
  },
  {
   "cell_type": "code",
   "execution_count": 2,
   "metadata": {
    "pycharm": {
     "is_executing": true
    }
   },
   "outputs": [],
   "source": [
    "import tensorflow\n",
    "from keras.models import Sequential\n",
    "from keras.layers import InputLayer,Dense,Flatten\n",
    "import keras.optimizers\n",
    "from imblearn.over_sampling import SMOTE"
   ]
  },
  {
   "cell_type": "code",
   "execution_count": 4,
   "metadata": {
    "pycharm": {
     "is_executing": true
    }
   },
   "outputs": [
    {
     "data": {
      "text/html": [
       "<div>\n",
       "<style scoped>\n",
       "    .dataframe tbody tr th:only-of-type {\n",
       "        vertical-align: middle;\n",
       "    }\n",
       "\n",
       "    .dataframe tbody tr th {\n",
       "        vertical-align: top;\n",
       "    }\n",
       "\n",
       "    .dataframe thead th {\n",
       "        text-align: right;\n",
       "    }\n",
       "</style>\n",
       "<table border=\"1\" class=\"dataframe\">\n",
       "  <thead>\n",
       "    <tr style=\"text-align: right;\">\n",
       "      <th></th>\n",
       "      <th>chroma_stft</th>\n",
       "      <th>spectral_centroid</th>\n",
       "      <th>spectral_bandwidth</th>\n",
       "      <th>rolloff</th>\n",
       "      <th>zero_crossing_rate</th>\n",
       "      <th>mfcc1</th>\n",
       "      <th>mfcc2</th>\n",
       "      <th>mfcc3</th>\n",
       "      <th>mfcc4</th>\n",
       "      <th>mfcc5</th>\n",
       "      <th>...</th>\n",
       "      <th>mfcc12</th>\n",
       "      <th>mfcc13</th>\n",
       "      <th>mfcc14</th>\n",
       "      <th>mfcc15</th>\n",
       "      <th>mfcc16</th>\n",
       "      <th>mfcc17</th>\n",
       "      <th>mfcc18</th>\n",
       "      <th>mfcc19</th>\n",
       "      <th>mfcc20</th>\n",
       "      <th>label</th>\n",
       "    </tr>\n",
       "  </thead>\n",
       "  <tbody>\n",
       "    <tr>\n",
       "      <th>0</th>\n",
       "      <td>0.412998</td>\n",
       "      <td>1491.688354</td>\n",
       "      <td>2075.824182</td>\n",
       "      <td>3184.355745</td>\n",
       "      <td>0.045976</td>\n",
       "      <td>-218.810582</td>\n",
       "      <td>122.234486</td>\n",
       "      <td>27.920799</td>\n",
       "      <td>23.722941</td>\n",
       "      <td>22.844499</td>\n",
       "      <td>...</td>\n",
       "      <td>6.255844</td>\n",
       "      <td>-2.542397</td>\n",
       "      <td>-0.917639</td>\n",
       "      <td>-4.774317</td>\n",
       "      <td>1.211038</td>\n",
       "      <td>-0.386343</td>\n",
       "      <td>1.133951</td>\n",
       "      <td>-1.452190</td>\n",
       "      <td>1.454535</td>\n",
       "      <td>happy</td>\n",
       "    </tr>\n",
       "    <tr>\n",
       "      <th>1</th>\n",
       "      <td>0.245947</td>\n",
       "      <td>1355.436173</td>\n",
       "      <td>1593.794832</td>\n",
       "      <td>2316.702658</td>\n",
       "      <td>0.079156</td>\n",
       "      <td>-303.857916</td>\n",
       "      <td>135.956505</td>\n",
       "      <td>1.837915</td>\n",
       "      <td>-4.874345</td>\n",
       "      <td>-19.611251</td>\n",
       "      <td>...</td>\n",
       "      <td>0.263212</td>\n",
       "      <td>-5.682631</td>\n",
       "      <td>-5.087810</td>\n",
       "      <td>-4.466399</td>\n",
       "      <td>1.721484</td>\n",
       "      <td>-3.062391</td>\n",
       "      <td>1.726126</td>\n",
       "      <td>-1.344901</td>\n",
       "      <td>1.373775</td>\n",
       "      <td>happy</td>\n",
       "    </tr>\n",
       "    <tr>\n",
       "      <th>2</th>\n",
       "      <td>0.288459</td>\n",
       "      <td>2780.992818</td>\n",
       "      <td>2734.300963</td>\n",
       "      <td>5996.347074</td>\n",
       "      <td>0.126230</td>\n",
       "      <td>-161.873294</td>\n",
       "      <td>68.848801</td>\n",
       "      <td>5.828112</td>\n",
       "      <td>11.746237</td>\n",
       "      <td>-9.119324</td>\n",
       "      <td>...</td>\n",
       "      <td>-4.743239</td>\n",
       "      <td>-10.335518</td>\n",
       "      <td>-4.159141</td>\n",
       "      <td>-13.455315</td>\n",
       "      <td>-3.056518</td>\n",
       "      <td>-1.854449</td>\n",
       "      <td>5.620204</td>\n",
       "      <td>5.784562</td>\n",
       "      <td>6.859507</td>\n",
       "      <td>happy</td>\n",
       "    </tr>\n",
       "    <tr>\n",
       "      <th>3</th>\n",
       "      <td>0.416686</td>\n",
       "      <td>1956.403155</td>\n",
       "      <td>2367.232773</td>\n",
       "      <td>4151.241565</td>\n",
       "      <td>0.082464</td>\n",
       "      <td>-232.575934</td>\n",
       "      <td>97.964434</td>\n",
       "      <td>50.036333</td>\n",
       "      <td>18.321141</td>\n",
       "      <td>10.174601</td>\n",
       "      <td>...</td>\n",
       "      <td>3.257361</td>\n",
       "      <td>-3.996707</td>\n",
       "      <td>-0.013201</td>\n",
       "      <td>-4.564516</td>\n",
       "      <td>-0.299851</td>\n",
       "      <td>-4.393319</td>\n",
       "      <td>0.554737</td>\n",
       "      <td>-0.721076</td>\n",
       "      <td>2.880039</td>\n",
       "      <td>happy</td>\n",
       "    </tr>\n",
       "    <tr>\n",
       "      <th>4</th>\n",
       "      <td>0.306054</td>\n",
       "      <td>899.636430</td>\n",
       "      <td>1409.779893</td>\n",
       "      <td>1665.939926</td>\n",
       "      <td>0.048648</td>\n",
       "      <td>-422.361991</td>\n",
       "      <td>166.701699</td>\n",
       "      <td>14.188575</td>\n",
       "      <td>34.022760</td>\n",
       "      <td>6.653825</td>\n",
       "      <td>...</td>\n",
       "      <td>4.226305</td>\n",
       "      <td>-3.073821</td>\n",
       "      <td>-0.164215</td>\n",
       "      <td>-3.138441</td>\n",
       "      <td>-0.325738</td>\n",
       "      <td>-6.829200</td>\n",
       "      <td>-2.746969</td>\n",
       "      <td>-4.609186</td>\n",
       "      <td>3.289205</td>\n",
       "      <td>happy</td>\n",
       "    </tr>\n",
       "  </tbody>\n",
       "</table>\n",
       "<p>5 rows × 26 columns</p>\n",
       "</div>"
      ],
      "text/plain": [
       "   chroma_stft  spectral_centroid  spectral_bandwidth      rolloff  \\\n",
       "0     0.412998        1491.688354         2075.824182  3184.355745   \n",
       "1     0.245947        1355.436173         1593.794832  2316.702658   \n",
       "2     0.288459        2780.992818         2734.300963  5996.347074   \n",
       "3     0.416686        1956.403155         2367.232773  4151.241565   \n",
       "4     0.306054         899.636430         1409.779893  1665.939926   \n",
       "\n",
       "   zero_crossing_rate       mfcc1       mfcc2      mfcc3      mfcc4  \\\n",
       "0            0.045976 -218.810582  122.234486  27.920799  23.722941   \n",
       "1            0.079156 -303.857916  135.956505   1.837915  -4.874345   \n",
       "2            0.126230 -161.873294   68.848801   5.828112  11.746237   \n",
       "3            0.082464 -232.575934   97.964434  50.036333  18.321141   \n",
       "4            0.048648 -422.361991  166.701699  14.188575  34.022760   \n",
       "\n",
       "       mfcc5  ...    mfcc12     mfcc13    mfcc14     mfcc15    mfcc16  \\\n",
       "0  22.844499  ...  6.255844  -2.542397 -0.917639  -4.774317  1.211038   \n",
       "1 -19.611251  ...  0.263212  -5.682631 -5.087810  -4.466399  1.721484   \n",
       "2  -9.119324  ... -4.743239 -10.335518 -4.159141 -13.455315 -3.056518   \n",
       "3  10.174601  ...  3.257361  -3.996707 -0.013201  -4.564516 -0.299851   \n",
       "4   6.653825  ...  4.226305  -3.073821 -0.164215  -3.138441 -0.325738   \n",
       "\n",
       "     mfcc17    mfcc18    mfcc19    mfcc20  label  \n",
       "0 -0.386343  1.133951 -1.452190  1.454535  happy  \n",
       "1 -3.062391  1.726126 -1.344901  1.373775  happy  \n",
       "2 -1.854449  5.620204  5.784562  6.859507  happy  \n",
       "3 -4.393319  0.554737 -0.721076  2.880039  happy  \n",
       "4 -6.829200 -2.746969 -4.609186  3.289205  happy  \n",
       "\n",
       "[5 rows x 26 columns]"
      ]
     },
     "execution_count": 4,
     "metadata": {},
     "output_type": "execute_result"
    }
   ],
   "source": [
    "data=pd.read_csv(\"data_set.csv\")\n",
    "data.head()"
   ]
  },
  {
   "cell_type": "code",
   "execution_count": 5,
   "metadata": {
    "pycharm": {
     "is_executing": true
    }
   },
   "outputs": [
    {
     "data": {
      "text/plain": [
       "(600, 26)"
      ]
     },
     "execution_count": 5,
     "metadata": {},
     "output_type": "execute_result"
    }
   ],
   "source": [
    "data.shape"
   ]
  },
  {
   "cell_type": "code",
   "execution_count": 6,
   "metadata": {
    "pycharm": {
     "is_executing": true
    }
   },
   "outputs": [],
   "source": [
    "data.drop_duplicates(inplace=True)"
   ]
  },
  {
   "cell_type": "markdown",
   "metadata": {},
   "source": [
    "## Splitting data into traning & testing"
   ]
  },
  {
   "cell_type": "code",
   "execution_count": 9,
   "metadata": {
    "pycharm": {
     "is_executing": true
    }
   },
   "outputs": [],
   "source": [
    "x=data.iloc[:,:25]\n",
    "label=data.iloc[:,25]"
   ]
  },
  {
   "cell_type": "code",
   "execution_count": 10,
   "metadata": {
    "pycharm": {
     "is_executing": true
    }
   },
   "outputs": [],
   "source": [
    "smt=SMOTE()\n",
    "xb,yb=smt.fit_resample(x,label)"
   ]
  },
  {
   "cell_type": "code",
   "execution_count": 11,
   "metadata": {
    "pycharm": {
     "is_executing": true
    }
   },
   "outputs": [],
   "source": [
    "le=LabelEncoder()\n",
    "scaler=StandardScaler()\n",
    "\n",
    "y=le.fit_transform(yb)\n",
    "X=scaler.fit_transform(xb)"
   ]
  },
  {
   "cell_type": "code",
   "execution_count": 12,
   "metadata": {
    "pycharm": {
     "is_executing": true
    }
   },
   "outputs": [],
   "source": [
    "X_train, X_test, y_train, y_test = train_test_split(X, y, test_size=0.2)"
   ]
  },
  {
   "cell_type": "markdown",
   "metadata": {},
   "source": [
    "## Defining the architecture of the model"
   ]
  },
  {
   "cell_type": "code",
   "execution_count": 13,
   "metadata": {
    "pycharm": {
     "is_executing": true
    }
   },
   "outputs": [],
   "source": [
    "model = Sequential()\n",
    "model.add(Dense(256, activation='relu', input_shape=(X_train.shape[1],)))\n",
    "model.add(Dense(128, activation='relu'))\n",
    "model.add(Dense(64, activation='relu'))\n",
    "model.add(Dense(3, activation='softmax'))\n"
   ]
  },
  {
   "cell_type": "code",
   "execution_count": 14,
   "metadata": {
    "pycharm": {
     "is_executing": true
    }
   },
   "outputs": [
    {
     "name": "stdout",
     "output_type": "stream",
     "text": [
      "Model: \"sequential\"\n",
      "_________________________________________________________________\n",
      " Layer (type)                Output Shape              Param #   \n",
      "=================================================================\n",
      " dense (Dense)               (None, 256)               6656      \n",
      "                                                                 \n",
      " dense_1 (Dense)             (None, 128)               32896     \n",
      "                                                                 \n",
      " dense_2 (Dense)             (None, 64)                8256      \n",
      "                                                                 \n",
      " dense_3 (Dense)             (None, 3)                 195       \n",
      "                                                                 \n",
      "=================================================================\n",
      "Total params: 48,003\n",
      "Trainable params: 48,003\n",
      "Non-trainable params: 0\n",
      "_________________________________________________________________\n"
     ]
    }
   ],
   "source": [
    "model.summary()"
   ]
  },
  {
   "cell_type": "code",
   "execution_count": 15,
   "metadata": {
    "pycharm": {
     "is_executing": true
    }
   },
   "outputs": [],
   "source": [
    "model.compile(optimizer='adam',\n",
    "              loss='sparse_categorical_crossentropy',\n",
    "              metrics=['accuracy'])"
   ]
  },
  {
   "cell_type": "code",
   "execution_count": 16,
   "metadata": {
    "pycharm": {
     "is_executing": true
    }
   },
   "outputs": [
    {
     "name": "stdout",
     "output_type": "stream",
     "text": [
      "Epoch 1/100\n",
      "4/4 [==============================] - 1s 128ms/step - loss: 1.0695 - accuracy: 0.3711 - val_loss: 1.0286 - val_accuracy: 0.4917\n",
      "Epoch 2/100\n",
      "4/4 [==============================] - 0s 13ms/step - loss: 0.9457 - accuracy: 0.5577 - val_loss: 0.9637 - val_accuracy: 0.5417\n",
      "Epoch 3/100\n",
      "4/4 [==============================] - 0s 12ms/step - loss: 0.8765 - accuracy: 0.6226 - val_loss: 0.9359 - val_accuracy: 0.5250\n",
      "Epoch 4/100\n",
      "4/4 [==============================] - 0s 14ms/step - loss: 0.8289 - accuracy: 0.6184 - val_loss: 0.9378 - val_accuracy: 0.5250\n",
      "Epoch 5/100\n",
      "4/4 [==============================] - 0s 12ms/step - loss: 0.7999 - accuracy: 0.6268 - val_loss: 0.9483 - val_accuracy: 0.5083\n",
      "Epoch 6/100\n",
      "4/4 [==============================] - 0s 12ms/step - loss: 0.7735 - accuracy: 0.6478 - val_loss: 0.9641 - val_accuracy: 0.5250\n",
      "Epoch 7/100\n",
      "4/4 [==============================] - 0s 14ms/step - loss: 0.7483 - accuracy: 0.6667 - val_loss: 0.9614 - val_accuracy: 0.5167\n",
      "Epoch 8/100\n",
      "4/4 [==============================] - 0s 14ms/step - loss: 0.7235 - accuracy: 0.6730 - val_loss: 0.9649 - val_accuracy: 0.5250\n",
      "Epoch 9/100\n",
      "4/4 [==============================] - 0s 26ms/step - loss: 0.6987 - accuracy: 0.6855 - val_loss: 0.9749 - val_accuracy: 0.5250\n",
      "Epoch 10/100\n",
      "4/4 [==============================] - 0s 13ms/step - loss: 0.6779 - accuracy: 0.6981 - val_loss: 0.9846 - val_accuracy: 0.5250\n",
      "Epoch 11/100\n",
      "4/4 [==============================] - 0s 15ms/step - loss: 0.6516 - accuracy: 0.7233 - val_loss: 0.9933 - val_accuracy: 0.5250\n",
      "Epoch 12/100\n",
      "4/4 [==============================] - 0s 12ms/step - loss: 0.6340 - accuracy: 0.7358 - val_loss: 1.0077 - val_accuracy: 0.5000\n",
      "Epoch 13/100\n",
      "4/4 [==============================] - 0s 13ms/step - loss: 0.6086 - accuracy: 0.7421 - val_loss: 1.0217 - val_accuracy: 0.5083\n",
      "Epoch 14/100\n",
      "4/4 [==============================] - 0s 14ms/step - loss: 0.5859 - accuracy: 0.7442 - val_loss: 1.0314 - val_accuracy: 0.5167\n",
      "Epoch 15/100\n",
      "4/4 [==============================] - 0s 11ms/step - loss: 0.5647 - accuracy: 0.7652 - val_loss: 1.0497 - val_accuracy: 0.5083\n",
      "Epoch 16/100\n",
      "4/4 [==============================] - 0s 10ms/step - loss: 0.5405 - accuracy: 0.7883 - val_loss: 1.0711 - val_accuracy: 0.5167\n",
      "Epoch 17/100\n",
      "4/4 [==============================] - 0s 12ms/step - loss: 0.5173 - accuracy: 0.8071 - val_loss: 1.0963 - val_accuracy: 0.5000\n",
      "Epoch 18/100\n",
      "4/4 [==============================] - 0s 14ms/step - loss: 0.4940 - accuracy: 0.8134 - val_loss: 1.1197 - val_accuracy: 0.5083\n",
      "Epoch 19/100\n",
      "4/4 [==============================] - 0s 13ms/step - loss: 0.4708 - accuracy: 0.8197 - val_loss: 1.1391 - val_accuracy: 0.4917\n",
      "Epoch 20/100\n",
      "4/4 [==============================] - 0s 12ms/step - loss: 0.4480 - accuracy: 0.8553 - val_loss: 1.1553 - val_accuracy: 0.4917\n",
      "Epoch 21/100\n",
      "4/4 [==============================] - 0s 14ms/step - loss: 0.4257 - accuracy: 0.8512 - val_loss: 1.1871 - val_accuracy: 0.4833\n",
      "Epoch 22/100\n",
      "4/4 [==============================] - 0s 14ms/step - loss: 0.4003 - accuracy: 0.8679 - val_loss: 1.2273 - val_accuracy: 0.4833\n",
      "Epoch 23/100\n",
      "4/4 [==============================] - 0s 14ms/step - loss: 0.3806 - accuracy: 0.8805 - val_loss: 1.2603 - val_accuracy: 0.4583\n",
      "Epoch 24/100\n",
      "4/4 [==============================] - 0s 13ms/step - loss: 0.3575 - accuracy: 0.9036 - val_loss: 1.2765 - val_accuracy: 0.4500\n",
      "Epoch 25/100\n",
      "4/4 [==============================] - 0s 13ms/step - loss: 0.3427 - accuracy: 0.9036 - val_loss: 1.3081 - val_accuracy: 0.4667\n",
      "Epoch 26/100\n",
      "4/4 [==============================] - 0s 13ms/step - loss: 0.3212 - accuracy: 0.9036 - val_loss: 1.3613 - val_accuracy: 0.4583\n",
      "Epoch 27/100\n",
      "4/4 [==============================] - 0s 12ms/step - loss: 0.3003 - accuracy: 0.9287 - val_loss: 1.3912 - val_accuracy: 0.4333\n",
      "Epoch 28/100\n",
      "4/4 [==============================] - 0s 13ms/step - loss: 0.2903 - accuracy: 0.8994 - val_loss: 1.4005 - val_accuracy: 0.4500\n",
      "Epoch 29/100\n",
      "4/4 [==============================] - 0s 14ms/step - loss: 0.2797 - accuracy: 0.9224 - val_loss: 1.4607 - val_accuracy: 0.4583\n",
      "Epoch 30/100\n",
      "4/4 [==============================] - 0s 14ms/step - loss: 0.2746 - accuracy: 0.9099 - val_loss: 1.4800 - val_accuracy: 0.4250\n",
      "Epoch 31/100\n",
      "4/4 [==============================] - 0s 14ms/step - loss: 0.2663 - accuracy: 0.9078 - val_loss: 1.6047 - val_accuracy: 0.4250\n",
      "Epoch 32/100\n",
      "4/4 [==============================] - 0s 13ms/step - loss: 0.2517 - accuracy: 0.9161 - val_loss: 1.5360 - val_accuracy: 0.4667\n",
      "Epoch 33/100\n",
      "4/4 [==============================] - 0s 12ms/step - loss: 0.2269 - accuracy: 0.9434 - val_loss: 1.6025 - val_accuracy: 0.4250\n",
      "Epoch 34/100\n",
      "4/4 [==============================] - 0s 13ms/step - loss: 0.2088 - accuracy: 0.9539 - val_loss: 1.6406 - val_accuracy: 0.4417\n",
      "Epoch 35/100\n",
      "4/4 [==============================] - 0s 13ms/step - loss: 0.1936 - accuracy: 0.9518 - val_loss: 1.6490 - val_accuracy: 0.4250\n",
      "Epoch 36/100\n",
      "4/4 [==============================] - 0s 12ms/step - loss: 0.1829 - accuracy: 0.9476 - val_loss: 1.6976 - val_accuracy: 0.4333\n",
      "Epoch 37/100\n",
      "4/4 [==============================] - 0s 12ms/step - loss: 0.1694 - accuracy: 0.9623 - val_loss: 1.7002 - val_accuracy: 0.4500\n",
      "Epoch 38/100\n",
      "4/4 [==============================] - 0s 12ms/step - loss: 0.1652 - accuracy: 0.9497 - val_loss: 1.7965 - val_accuracy: 0.4250\n",
      "Epoch 39/100\n",
      "4/4 [==============================] - 0s 12ms/step - loss: 0.1574 - accuracy: 0.9623 - val_loss: 1.7973 - val_accuracy: 0.4417\n",
      "Epoch 40/100\n",
      "4/4 [==============================] - 0s 15ms/step - loss: 0.1544 - accuracy: 0.9539 - val_loss: 1.8679 - val_accuracy: 0.4333\n",
      "Epoch 41/100\n",
      "4/4 [==============================] - 0s 13ms/step - loss: 0.1510 - accuracy: 0.9539 - val_loss: 1.8923 - val_accuracy: 0.4250\n",
      "Epoch 42/100\n",
      "4/4 [==============================] - 0s 12ms/step - loss: 0.1460 - accuracy: 0.9602 - val_loss: 1.8966 - val_accuracy: 0.4583\n",
      "Epoch 43/100\n",
      "4/4 [==============================] - 0s 12ms/step - loss: 0.1371 - accuracy: 0.9560 - val_loss: 1.9856 - val_accuracy: 0.4333\n",
      "Epoch 44/100\n",
      "4/4 [==============================] - 0s 14ms/step - loss: 0.1385 - accuracy: 0.9581 - val_loss: 1.9413 - val_accuracy: 0.4500\n",
      "Epoch 45/100\n",
      "4/4 [==============================] - 0s 12ms/step - loss: 0.1360 - accuracy: 0.9518 - val_loss: 2.0281 - val_accuracy: 0.4500\n",
      "Epoch 46/100\n",
      "4/4 [==============================] - 0s 13ms/step - loss: 0.1307 - accuracy: 0.9455 - val_loss: 2.0567 - val_accuracy: 0.4250\n",
      "Epoch 47/100\n",
      "4/4 [==============================] - 0s 15ms/step - loss: 0.1118 - accuracy: 0.9706 - val_loss: 2.0925 - val_accuracy: 0.4583\n",
      "Epoch 48/100\n",
      "4/4 [==============================] - 0s 13ms/step - loss: 0.1056 - accuracy: 0.9623 - val_loss: 2.0840 - val_accuracy: 0.4333\n",
      "Epoch 49/100\n",
      "4/4 [==============================] - 0s 13ms/step - loss: 0.1164 - accuracy: 0.9623 - val_loss: 2.1197 - val_accuracy: 0.4500\n",
      "Epoch 50/100\n",
      "4/4 [==============================] - 0s 15ms/step - loss: 0.1069 - accuracy: 0.9497 - val_loss: 2.1440 - val_accuracy: 0.4500\n",
      "Epoch 51/100\n",
      "4/4 [==============================] - 0s 13ms/step - loss: 0.0958 - accuracy: 0.9686 - val_loss: 2.1999 - val_accuracy: 0.4083\n",
      "Epoch 52/100\n",
      "4/4 [==============================] - 0s 13ms/step - loss: 0.0946 - accuracy: 0.9623 - val_loss: 2.2335 - val_accuracy: 0.4583\n",
      "Epoch 53/100\n",
      "4/4 [==============================] - 0s 12ms/step - loss: 0.0934 - accuracy: 0.9686 - val_loss: 2.2382 - val_accuracy: 0.4500\n",
      "Epoch 54/100\n",
      "4/4 [==============================] - 0s 12ms/step - loss: 0.0878 - accuracy: 0.9623 - val_loss: 2.2726 - val_accuracy: 0.4500\n",
      "Epoch 55/100\n",
      "4/4 [==============================] - 0s 14ms/step - loss: 0.0874 - accuracy: 0.9665 - val_loss: 2.2836 - val_accuracy: 0.4500\n",
      "Epoch 56/100\n",
      "4/4 [==============================] - 0s 12ms/step - loss: 0.0897 - accuracy: 0.9686 - val_loss: 2.3358 - val_accuracy: 0.4333\n",
      "Epoch 57/100\n",
      "4/4 [==============================] - 0s 12ms/step - loss: 0.0875 - accuracy: 0.9602 - val_loss: 2.4059 - val_accuracy: 0.4500\n",
      "Epoch 58/100\n",
      "4/4 [==============================] - 0s 12ms/step - loss: 0.0829 - accuracy: 0.9665 - val_loss: 2.3657 - val_accuracy: 0.4583\n",
      "Epoch 59/100\n"
     ]
    },
    {
     "name": "stdout",
     "output_type": "stream",
     "text": [
      "4/4 [==============================] - 0s 12ms/step - loss: 0.0796 - accuracy: 0.9686 - val_loss: 2.4089 - val_accuracy: 0.4667\n",
      "Epoch 60/100\n",
      "4/4 [==============================] - 0s 13ms/step - loss: 0.0813 - accuracy: 0.9706 - val_loss: 2.4082 - val_accuracy: 0.4583\n",
      "Epoch 61/100\n",
      "4/4 [==============================] - 0s 11ms/step - loss: 0.0857 - accuracy: 0.9686 - val_loss: 2.4994 - val_accuracy: 0.4417\n",
      "Epoch 62/100\n",
      "4/4 [==============================] - 0s 11ms/step - loss: 0.0775 - accuracy: 0.9602 - val_loss: 2.4457 - val_accuracy: 0.4583\n",
      "Epoch 63/100\n",
      "4/4 [==============================] - 0s 11ms/step - loss: 0.0778 - accuracy: 0.9665 - val_loss: 2.4852 - val_accuracy: 0.4583\n",
      "Epoch 64/100\n",
      "4/4 [==============================] - 0s 12ms/step - loss: 0.0838 - accuracy: 0.9623 - val_loss: 2.5045 - val_accuracy: 0.4333\n",
      "Epoch 65/100\n",
      "4/4 [==============================] - 0s 11ms/step - loss: 0.0929 - accuracy: 0.9602 - val_loss: 2.4946 - val_accuracy: 0.4583\n",
      "Epoch 66/100\n",
      "4/4 [==============================] - 0s 12ms/step - loss: 0.0767 - accuracy: 0.9686 - val_loss: 2.6245 - val_accuracy: 0.4583\n",
      "Epoch 67/100\n",
      "4/4 [==============================] - 0s 12ms/step - loss: 0.0798 - accuracy: 0.9623 - val_loss: 2.4963 - val_accuracy: 0.4750\n",
      "Epoch 68/100\n",
      "4/4 [==============================] - 0s 11ms/step - loss: 0.0779 - accuracy: 0.9644 - val_loss: 2.5188 - val_accuracy: 0.4333\n",
      "Epoch 69/100\n",
      "4/4 [==============================] - 0s 12ms/step - loss: 0.0801 - accuracy: 0.9665 - val_loss: 2.5735 - val_accuracy: 0.4333\n",
      "Epoch 70/100\n",
      "4/4 [==============================] - 0s 12ms/step - loss: 0.0685 - accuracy: 0.9602 - val_loss: 2.5604 - val_accuracy: 0.4500\n",
      "Epoch 71/100\n",
      "4/4 [==============================] - 0s 14ms/step - loss: 0.0701 - accuracy: 0.9686 - val_loss: 2.6204 - val_accuracy: 0.4500\n",
      "Epoch 72/100\n",
      "4/4 [==============================] - 0s 14ms/step - loss: 0.0720 - accuracy: 0.9706 - val_loss: 2.6083 - val_accuracy: 0.4417\n",
      "Epoch 73/100\n",
      "4/4 [==============================] - 0s 13ms/step - loss: 0.0751 - accuracy: 0.9727 - val_loss: 2.6295 - val_accuracy: 0.4500\n",
      "Epoch 74/100\n",
      "4/4 [==============================] - 0s 11ms/step - loss: 0.0721 - accuracy: 0.9665 - val_loss: 2.7750 - val_accuracy: 0.4250\n",
      "Epoch 75/100\n",
      "4/4 [==============================] - 0s 12ms/step - loss: 0.0779 - accuracy: 0.9518 - val_loss: 2.6109 - val_accuracy: 0.4667\n",
      "Epoch 76/100\n",
      "4/4 [==============================] - 0s 11ms/step - loss: 0.0706 - accuracy: 0.9644 - val_loss: 2.6802 - val_accuracy: 0.4500\n",
      "Epoch 77/100\n",
      "4/4 [==============================] - 0s 11ms/step - loss: 0.0650 - accuracy: 0.9665 - val_loss: 2.7587 - val_accuracy: 0.4500\n",
      "Epoch 78/100\n",
      "4/4 [==============================] - 0s 13ms/step - loss: 0.0640 - accuracy: 0.9706 - val_loss: 2.7162 - val_accuracy: 0.4500\n",
      "Epoch 79/100\n",
      "4/4 [==============================] - 0s 12ms/step - loss: 0.0718 - accuracy: 0.9623 - val_loss: 2.7580 - val_accuracy: 0.4500\n",
      "Epoch 80/100\n",
      "4/4 [==============================] - 0s 13ms/step - loss: 0.0641 - accuracy: 0.9706 - val_loss: 2.8215 - val_accuracy: 0.4500\n",
      "Epoch 81/100\n",
      "4/4 [==============================] - 0s 13ms/step - loss: 0.0693 - accuracy: 0.9686 - val_loss: 2.7327 - val_accuracy: 0.4500\n",
      "Epoch 82/100\n",
      "4/4 [==============================] - 0s 12ms/step - loss: 0.0621 - accuracy: 0.9748 - val_loss: 2.8166 - val_accuracy: 0.4500\n",
      "Epoch 83/100\n",
      "4/4 [==============================] - 0s 12ms/step - loss: 0.0658 - accuracy: 0.9686 - val_loss: 2.8027 - val_accuracy: 0.4500\n",
      "Epoch 84/100\n",
      "4/4 [==============================] - 0s 12ms/step - loss: 0.0656 - accuracy: 0.9727 - val_loss: 2.8114 - val_accuracy: 0.4417\n",
      "Epoch 85/100\n",
      "4/4 [==============================] - 0s 14ms/step - loss: 0.0675 - accuracy: 0.9665 - val_loss: 2.8910 - val_accuracy: 0.4583\n",
      "Epoch 86/100\n",
      "4/4 [==============================] - 0s 15ms/step - loss: 0.0634 - accuracy: 0.9727 - val_loss: 2.8009 - val_accuracy: 0.4833\n",
      "Epoch 87/100\n",
      "4/4 [==============================] - 0s 21ms/step - loss: 0.0711 - accuracy: 0.9665 - val_loss: 2.8808 - val_accuracy: 0.4417\n",
      "Epoch 88/100\n",
      "4/4 [==============================] - 0s 14ms/step - loss: 0.0736 - accuracy: 0.9686 - val_loss: 2.9280 - val_accuracy: 0.4750\n",
      "Epoch 89/100\n",
      "4/4 [==============================] - 0s 14ms/step - loss: 0.0796 - accuracy: 0.9560 - val_loss: 2.8733 - val_accuracy: 0.4583\n",
      "Epoch 90/100\n",
      "4/4 [==============================] - 0s 12ms/step - loss: 0.0645 - accuracy: 0.9665 - val_loss: 2.9727 - val_accuracy: 0.4500\n",
      "Epoch 91/100\n",
      "4/4 [==============================] - 0s 11ms/step - loss: 0.0709 - accuracy: 0.9581 - val_loss: 2.8876 - val_accuracy: 0.4417\n",
      "Epoch 92/100\n",
      "4/4 [==============================] - 0s 13ms/step - loss: 0.0617 - accuracy: 0.9748 - val_loss: 2.9077 - val_accuracy: 0.4500\n",
      "Epoch 93/100\n",
      "4/4 [==============================] - 0s 14ms/step - loss: 0.0620 - accuracy: 0.9665 - val_loss: 2.9372 - val_accuracy: 0.4500\n",
      "Epoch 94/100\n",
      "4/4 [==============================] - 0s 12ms/step - loss: 0.0603 - accuracy: 0.9686 - val_loss: 2.8964 - val_accuracy: 0.4583\n",
      "Epoch 95/100\n",
      "4/4 [==============================] - 0s 11ms/step - loss: 0.0577 - accuracy: 0.9727 - val_loss: 2.9709 - val_accuracy: 0.4583\n",
      "Epoch 96/100\n",
      "4/4 [==============================] - 0s 11ms/step - loss: 0.0571 - accuracy: 0.9748 - val_loss: 2.9713 - val_accuracy: 0.4583\n",
      "Epoch 97/100\n",
      "4/4 [==============================] - 0s 12ms/step - loss: 0.0653 - accuracy: 0.9602 - val_loss: 2.9724 - val_accuracy: 0.4583\n",
      "Epoch 98/100\n",
      "4/4 [==============================] - 0s 13ms/step - loss: 0.0598 - accuracy: 0.9811 - val_loss: 3.0178 - val_accuracy: 0.4333\n",
      "Epoch 99/100\n",
      "4/4 [==============================] - 0s 12ms/step - loss: 0.0561 - accuracy: 0.9727 - val_loss: 3.0636 - val_accuracy: 0.4500\n",
      "Epoch 100/100\n",
      "4/4 [==============================] - 0s 11ms/step - loss: 0.0652 - accuracy: 0.9644 - val_loss: 2.9956 - val_accuracy: 0.4417\n"
     ]
    }
   ],
   "source": [
    "history = model.fit(X_train,y_train,validation_data=(X_test,y_test),epochs=100,batch_size=128)"
   ]
  },
  {
   "cell_type": "code",
   "execution_count": 17,
   "metadata": {
    "pycharm": {
     "is_executing": true
    }
   },
   "outputs": [],
   "source": [
    "predict_x=model.predict(X_test) \n",
    "y_pred=np.argmax(predict_x,axis=1)"
   ]
  },
  {
   "cell_type": "code",
   "execution_count": 18,
   "metadata": {
    "pycharm": {
     "is_executing": true
    }
   },
   "outputs": [
    {
     "name": "stdout",
     "output_type": "stream",
     "text": [
      "4/4 - 0s - loss: 2.9956 - accuracy: 0.4417 - 23ms/epoch - 6ms/step\n"
     ]
    },
    {
     "data": {
      "image/png": "[encoded data removed]",
      "text/plain": [
       "<Figure size 432x288 with 1 Axes>"
      ]
     },
     "metadata": {
      "needs_background": "light"
     },
     "output_type": "display_data"
    }
   ],
   "source": [
    "plt.plot(history.history['accuracy'], label='accuracy')\n",
    "plt.plot(history.history['val_accuracy'], label = 'val_accuracy')\n",
    "plt.xlabel('Epoch')\n",
    "plt.ylabel('Accuracy')\n",
    "plt.legend(loc='lower right')\n",
    "\n",
    "test_loss, test_acc = model.evaluate(X_test, y_test, verbose=2)"
   ]
  },
  {
   "cell_type": "markdown",
   "metadata": {},
   "source": [
    "## save created model"
   ]
  },
  {
   "cell_type": "code",
   "execution_count": 19,
   "metadata": {
    "pycharm": {
     "is_executing": true
    }
   },
   "outputs": [],
   "source": [
    "model.save('my_model.h5')"
   ]
  },
  {
   "cell_type": "code",
   "execution_count": null,
   "metadata": {
    "pycharm": {
     "is_executing": true
    }
   },
   "outputs": [],
   "source": []
  },
  {
   "cell_type": "code",
   "execution_count": 20,
   "metadata": {
    "pycharm": {
     "is_executing": true
    }
   },
   "outputs": [
    {
     "data": {
      "text/plain": [
       "['scaler.save']"
      ]
     },
     "execution_count": 20,
     "metadata": {},
     "output_type": "execute_result"
    }
   ],
   "source": [
    "scaler_filename = \"scaler.save\"\n",
    "joblib.dump(scaler, scaler_filename) "
   ]
  },
  {
   "cell_type": "code",
   "execution_count": null,
   "metadata": {
    "pycharm": {
     "is_executing": true
    }
   },
   "outputs": [],
   "source": []
  }
 ],
 "metadata": {
  "kernelspec": {
   "display_name": "Python 3 (ipykernel)",
   "language": "python",
   "name": "python3"
  },
  "language_info": {
   "codemirror_mode": {
    "name": "ipython",
    "version": 3
   },
   "file_extension": ".py",
   "mimetype": "text/x-python",
   "name": "python",
   "nbconvert_exporter": "python",
   "pygments_lexer": "ipython3",
   "version": "3.9.6"
  }
 },
 "nbformat": 4,
 "nbformat_minor": 1
}